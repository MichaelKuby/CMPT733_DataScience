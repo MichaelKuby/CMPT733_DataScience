{
  "cells": [
    {
      "cell_type": "markdown",
      "metadata": {
        "id": "BeEQ9lwU9ayI"
      },
      "source": [
        "# Assignment 2: Entity Resolution (Part 2)\n"
      ]
    },
    {
      "cell_type": "markdown",
      "metadata": {
        "id": "XD_yd7G99ayL"
      },
      "source": [
        "## Objective"
      ]
    },
    {
      "cell_type": "markdown",
      "metadata": {
        "id": "c00gBBmF9ayM"
      },
      "source": [
        "In Assignment 2 (Part 2), you will learn how to use Active Learning to address the entity resolution problem. After completing this assignment, you should be able to answer the following questions:\n",
        "\n",
        "1. Why Active Learning?\n",
        "2. How to implement uncertain sampling, a popular query strategy for Active Learning?\n",
        "3. How to solve an ER problem using Active Learning?\n"
      ]
    },
    {
      "cell_type": "markdown",
      "metadata": {
        "id": "pN2_FQel9ayN"
      },
      "source": [
        "## Active Learning"
      ]
    },
    {
      "cell_type": "markdown",
      "metadata": {
        "id": "QjbAFSek9ayN"
      },
      "source": [
        "[Active learning](http://tiny.cc/al-wiki) is a certain type of ML algorithms that can train a high-quality ML model with small data-labeling cost. Its basic idea is quite easy to understand. Consider a typical supervised ML problem, which requires a (relatively) large training dataset. In the training dataset, there may be only a small number of data points that are beneficial to the trained ML model. In other words, labeling a small number of data points is enough to train a high-quality ML model. The goal of active learning is to help us to identify those data points.\n",
        "\n",
        "\n",
        "In this assignment, we will develop an Active Learning approach for Entity Resolution. The following figure shows the architecture of an entity resolution solution. It consists of four major steps. **I will provide you the source code for Steps 1, 2, 4. Your job is to implement Step 3.**  \n",
        "\n",
        "<img src=\"/content/img/arch.png\", width=800/>"
      ]
    },
    {
      "cell_type": "markdown",
      "metadata": {
        "id": "p6J-K9dw9ayN"
      },
      "source": [
        "![title](/content/img/arch.png)"
      ]
    },
    {
      "cell_type": "markdown",
      "metadata": {
        "id": "AWRGa0Pm9ayO"
      },
      "source": [
        "### Step 1. Read Data"
      ]
    },
    {
      "cell_type": "markdown",
      "metadata": {
        "id": "k5dK2OBn9ayO"
      },
      "source": [
        "Suppose we get a restaurant dataset `restaurant.csv`. The data has many duplicate restaurants.  For example, the first two rows shown below are duplicated (i.e., refer to the same real-world entity). You can check out all duplicate (matching) record pairs from `true_matches.json`."
      ]
    },
    {
      "cell_type": "code",
      "execution_count": 1,
      "metadata": {
        "colab": {
          "base_uri": "https://localhost:8080/",
          "height": 255
        },
        "id": "j--tN8rf9ayO",
        "outputId": "d02d87c2-e4c9-4672-deac-7b66f1159e50"
      },
      "outputs": [
        {
          "output_type": "stream",
          "name": "stdout",
          "text": [
            "(#Rows, #Cols) : (858, 5)\n"
          ]
        },
        {
          "output_type": "execute_result",
          "data": {
            "text/plain": [
              "   id                       name                  address         city  \\\n",
              "0   1  arnie morton's of chicago   435 s. la cienega blv.  los angeles   \n",
              "1   2  arnie morton's of chicago  435 s. la cienega blvd.  los angeles   \n",
              "2   3         art's delicatessen      12224 ventura blvd.  studio city   \n",
              "3   4                 art's deli      12224 ventura blvd.  studio city   \n",
              "4   5              hotel bel-air     701 stone canyon rd.      bel air   \n",
              "5   6              bel-air hotel     701 stone canyon rd.      bel air   \n",
              "\n",
              "          type  \n",
              "0     american  \n",
              "1  steakhouses  \n",
              "2     american  \n",
              "3        delis  \n",
              "4  californian  \n",
              "5  californian  "
            ],
            "text/html": [
              "\n",
              "  <div id=\"df-65d8b0d8-1963-45d7-936a-20de26522b4d\" class=\"colab-df-container\">\n",
              "    <div>\n",
              "<style scoped>\n",
              "    .dataframe tbody tr th:only-of-type {\n",
              "        vertical-align: middle;\n",
              "    }\n",
              "\n",
              "    .dataframe tbody tr th {\n",
              "        vertical-align: top;\n",
              "    }\n",
              "\n",
              "    .dataframe thead th {\n",
              "        text-align: right;\n",
              "    }\n",
              "</style>\n",
              "<table border=\"1\" class=\"dataframe\">\n",
              "  <thead>\n",
              "    <tr style=\"text-align: right;\">\n",
              "      <th></th>\n",
              "      <th>id</th>\n",
              "      <th>name</th>\n",
              "      <th>address</th>\n",
              "      <th>city</th>\n",
              "      <th>type</th>\n",
              "    </tr>\n",
              "  </thead>\n",
              "  <tbody>\n",
              "    <tr>\n",
              "      <th>0</th>\n",
              "      <td>1</td>\n",
              "      <td>arnie morton's of chicago</td>\n",
              "      <td>435 s. la cienega blv.</td>\n",
              "      <td>los angeles</td>\n",
              "      <td>american</td>\n",
              "    </tr>\n",
              "    <tr>\n",
              "      <th>1</th>\n",
              "      <td>2</td>\n",
              "      <td>arnie morton's of chicago</td>\n",
              "      <td>435 s. la cienega blvd.</td>\n",
              "      <td>los angeles</td>\n",
              "      <td>steakhouses</td>\n",
              "    </tr>\n",
              "    <tr>\n",
              "      <th>2</th>\n",
              "      <td>3</td>\n",
              "      <td>art's delicatessen</td>\n",
              "      <td>12224 ventura blvd.</td>\n",
              "      <td>studio city</td>\n",
              "      <td>american</td>\n",
              "    </tr>\n",
              "    <tr>\n",
              "      <th>3</th>\n",
              "      <td>4</td>\n",
              "      <td>art's deli</td>\n",
              "      <td>12224 ventura blvd.</td>\n",
              "      <td>studio city</td>\n",
              "      <td>delis</td>\n",
              "    </tr>\n",
              "    <tr>\n",
              "      <th>4</th>\n",
              "      <td>5</td>\n",
              "      <td>hotel bel-air</td>\n",
              "      <td>701 stone canyon rd.</td>\n",
              "      <td>bel air</td>\n",
              "      <td>californian</td>\n",
              "    </tr>\n",
              "    <tr>\n",
              "      <th>5</th>\n",
              "      <td>6</td>\n",
              "      <td>bel-air hotel</td>\n",
              "      <td>701 stone canyon rd.</td>\n",
              "      <td>bel air</td>\n",
              "      <td>californian</td>\n",
              "    </tr>\n",
              "  </tbody>\n",
              "</table>\n",
              "</div>\n",
              "    <div class=\"colab-df-buttons\">\n",
              "\n",
              "  <div class=\"colab-df-container\">\n",
              "    <button class=\"colab-df-convert\" onclick=\"convertToInteractive('df-65d8b0d8-1963-45d7-936a-20de26522b4d')\"\n",
              "            title=\"Convert this dataframe to an interactive table.\"\n",
              "            style=\"display:none;\">\n",
              "\n",
              "  <svg xmlns=\"http://www.w3.org/2000/svg\" height=\"24px\" viewBox=\"0 -960 960 960\">\n",
              "    <path d=\"M120-120v-720h720v720H120Zm60-500h600v-160H180v160Zm220 220h160v-160H400v160Zm0 220h160v-160H400v160ZM180-400h160v-160H180v160Zm440 0h160v-160H620v160ZM180-180h160v-160H180v160Zm440 0h160v-160H620v160Z\"/>\n",
              "  </svg>\n",
              "    </button>\n",
              "\n",
              "  <style>\n",
              "    .colab-df-container {\n",
              "      display:flex;\n",
              "      gap: 12px;\n",
              "    }\n",
              "\n",
              "    .colab-df-convert {\n",
              "      background-color: #E8F0FE;\n",
              "      border: none;\n",
              "      border-radius: 50%;\n",
              "      cursor: pointer;\n",
              "      display: none;\n",
              "      fill: #1967D2;\n",
              "      height: 32px;\n",
              "      padding: 0 0 0 0;\n",
              "      width: 32px;\n",
              "    }\n",
              "\n",
              "    .colab-df-convert:hover {\n",
              "      background-color: #E2EBFA;\n",
              "      box-shadow: 0px 1px 2px rgba(60, 64, 67, 0.3), 0px 1px 3px 1px rgba(60, 64, 67, 0.15);\n",
              "      fill: #174EA6;\n",
              "    }\n",
              "\n",
              "    .colab-df-buttons div {\n",
              "      margin-bottom: 4px;\n",
              "    }\n",
              "\n",
              "    [theme=dark] .colab-df-convert {\n",
              "      background-color: #3B4455;\n",
              "      fill: #D2E3FC;\n",
              "    }\n",
              "\n",
              "    [theme=dark] .colab-df-convert:hover {\n",
              "      background-color: #434B5C;\n",
              "      box-shadow: 0px 1px 3px 1px rgba(0, 0, 0, 0.15);\n",
              "      filter: drop-shadow(0px 1px 2px rgba(0, 0, 0, 0.3));\n",
              "      fill: #FFFFFF;\n",
              "    }\n",
              "  </style>\n",
              "\n",
              "    <script>\n",
              "      const buttonEl =\n",
              "        document.querySelector('#df-65d8b0d8-1963-45d7-936a-20de26522b4d button.colab-df-convert');\n",
              "      buttonEl.style.display =\n",
              "        google.colab.kernel.accessAllowed ? 'block' : 'none';\n",
              "\n",
              "      async function convertToInteractive(key) {\n",
              "        const element = document.querySelector('#df-65d8b0d8-1963-45d7-936a-20de26522b4d');\n",
              "        const dataTable =\n",
              "          await google.colab.kernel.invokeFunction('convertToInteractive',\n",
              "                                                    [key], {});\n",
              "        if (!dataTable) return;\n",
              "\n",
              "        const docLinkHtml = 'Like what you see? Visit the ' +\n",
              "          '<a target=\"_blank\" href=https://colab.research.google.com/notebooks/data_table.ipynb>data table notebook</a>'\n",
              "          + ' to learn more about interactive tables.';\n",
              "        element.innerHTML = '';\n",
              "        dataTable['output_type'] = 'display_data';\n",
              "        await google.colab.output.renderOutput(dataTable, element);\n",
              "        const docLink = document.createElement('div');\n",
              "        docLink.innerHTML = docLinkHtml;\n",
              "        element.appendChild(docLink);\n",
              "      }\n",
              "    </script>\n",
              "  </div>\n",
              "\n",
              "\n",
              "<div id=\"df-2d1170c2-244e-4dde-8067-44315d531a09\">\n",
              "  <button class=\"colab-df-quickchart\" onclick=\"quickchart('df-2d1170c2-244e-4dde-8067-44315d531a09')\"\n",
              "            title=\"Suggest charts\"\n",
              "            style=\"display:none;\">\n",
              "\n",
              "<svg xmlns=\"http://www.w3.org/2000/svg\" height=\"24px\"viewBox=\"0 0 24 24\"\n",
              "     width=\"24px\">\n",
              "    <g>\n",
              "        <path d=\"M19 3H5c-1.1 0-2 .9-2 2v14c0 1.1.9 2 2 2h14c1.1 0 2-.9 2-2V5c0-1.1-.9-2-2-2zM9 17H7v-7h2v7zm4 0h-2V7h2v10zm4 0h-2v-4h2v4z\"/>\n",
              "    </g>\n",
              "</svg>\n",
              "  </button>\n",
              "\n",
              "<style>\n",
              "  .colab-df-quickchart {\n",
              "      --bg-color: #E8F0FE;\n",
              "      --fill-color: #1967D2;\n",
              "      --hover-bg-color: #E2EBFA;\n",
              "      --hover-fill-color: #174EA6;\n",
              "      --disabled-fill-color: #AAA;\n",
              "      --disabled-bg-color: #DDD;\n",
              "  }\n",
              "\n",
              "  [theme=dark] .colab-df-quickchart {\n",
              "      --bg-color: #3B4455;\n",
              "      --fill-color: #D2E3FC;\n",
              "      --hover-bg-color: #434B5C;\n",
              "      --hover-fill-color: #FFFFFF;\n",
              "      --disabled-bg-color: #3B4455;\n",
              "      --disabled-fill-color: #666;\n",
              "  }\n",
              "\n",
              "  .colab-df-quickchart {\n",
              "    background-color: var(--bg-color);\n",
              "    border: none;\n",
              "    border-radius: 50%;\n",
              "    cursor: pointer;\n",
              "    display: none;\n",
              "    fill: var(--fill-color);\n",
              "    height: 32px;\n",
              "    padding: 0;\n",
              "    width: 32px;\n",
              "  }\n",
              "\n",
              "  .colab-df-quickchart:hover {\n",
              "    background-color: var(--hover-bg-color);\n",
              "    box-shadow: 0 1px 2px rgba(60, 64, 67, 0.3), 0 1px 3px 1px rgba(60, 64, 67, 0.15);\n",
              "    fill: var(--button-hover-fill-color);\n",
              "  }\n",
              "\n",
              "  .colab-df-quickchart-complete:disabled,\n",
              "  .colab-df-quickchart-complete:disabled:hover {\n",
              "    background-color: var(--disabled-bg-color);\n",
              "    fill: var(--disabled-fill-color);\n",
              "    box-shadow: none;\n",
              "  }\n",
              "\n",
              "  .colab-df-spinner {\n",
              "    border: 2px solid var(--fill-color);\n",
              "    border-color: transparent;\n",
              "    border-bottom-color: var(--fill-color);\n",
              "    animation:\n",
              "      spin 1s steps(1) infinite;\n",
              "  }\n",
              "\n",
              "  @keyframes spin {\n",
              "    0% {\n",
              "      border-color: transparent;\n",
              "      border-bottom-color: var(--fill-color);\n",
              "      border-left-color: var(--fill-color);\n",
              "    }\n",
              "    20% {\n",
              "      border-color: transparent;\n",
              "      border-left-color: var(--fill-color);\n",
              "      border-top-color: var(--fill-color);\n",
              "    }\n",
              "    30% {\n",
              "      border-color: transparent;\n",
              "      border-left-color: var(--fill-color);\n",
              "      border-top-color: var(--fill-color);\n",
              "      border-right-color: var(--fill-color);\n",
              "    }\n",
              "    40% {\n",
              "      border-color: transparent;\n",
              "      border-right-color: var(--fill-color);\n",
              "      border-top-color: var(--fill-color);\n",
              "    }\n",
              "    60% {\n",
              "      border-color: transparent;\n",
              "      border-right-color: var(--fill-color);\n",
              "    }\n",
              "    80% {\n",
              "      border-color: transparent;\n",
              "      border-right-color: var(--fill-color);\n",
              "      border-bottom-color: var(--fill-color);\n",
              "    }\n",
              "    90% {\n",
              "      border-color: transparent;\n",
              "      border-bottom-color: var(--fill-color);\n",
              "    }\n",
              "  }\n",
              "</style>\n",
              "\n",
              "  <script>\n",
              "    async function quickchart(key) {\n",
              "      const quickchartButtonEl =\n",
              "        document.querySelector('#' + key + ' button');\n",
              "      quickchartButtonEl.disabled = true;  // To prevent multiple clicks.\n",
              "      quickchartButtonEl.classList.add('colab-df-spinner');\n",
              "      try {\n",
              "        const charts = await google.colab.kernel.invokeFunction(\n",
              "            'suggestCharts', [key], {});\n",
              "      } catch (error) {\n",
              "        console.error('Error during call to suggestCharts:', error);\n",
              "      }\n",
              "      quickchartButtonEl.classList.remove('colab-df-spinner');\n",
              "      quickchartButtonEl.classList.add('colab-df-quickchart-complete');\n",
              "    }\n",
              "    (() => {\n",
              "      let quickchartButtonEl =\n",
              "        document.querySelector('#df-2d1170c2-244e-4dde-8067-44315d531a09 button');\n",
              "      quickchartButtonEl.style.display =\n",
              "        google.colab.kernel.accessAllowed ? 'block' : 'none';\n",
              "    })();\n",
              "  </script>\n",
              "</div>\n",
              "\n",
              "    </div>\n",
              "  </div>\n"
            ]
          },
          "metadata": {},
          "execution_count": 1
        }
      ],
      "source": [
        "import pandas as pd\n",
        "\n",
        "df = pd.read_csv('restaurant.csv')\n",
        "data = df.values.tolist()\n",
        "print(\"(#Rows, #Cols) :\", df.shape)\n",
        "df.head(6)"
      ]
    },
    {
      "cell_type": "code",
      "source": [
        "truth = pd.read_json('true_matches.json')\n",
        "print(\"(#Rows, #Cols) :\", truth.shape)\n",
        "truth.head(5)\n",
        "truth[truth[0] == 5] # column values are id's of matched pairs. Each row indicates a pair."
      ],
      "metadata": {
        "colab": {
          "base_uri": "https://localhost:8080/",
          "height": 99
        },
        "id": "yrRnYjc0_Bls",
        "outputId": "e3ed46c4-d82c-488e-e2ad-091102709bbc"
      },
      "execution_count": 2,
      "outputs": [
        {
          "output_type": "stream",
          "name": "stdout",
          "text": [
            "(#Rows, #Cols) : (106, 2)\n"
          ]
        },
        {
          "output_type": "execute_result",
          "data": {
            "text/plain": [
              "    0  1\n",
              "71  5  6"
            ],
            "text/html": [
              "\n",
              "  <div id=\"df-a7101e9e-42e0-4057-8673-7bb666132e49\" class=\"colab-df-container\">\n",
              "    <div>\n",
              "<style scoped>\n",
              "    .dataframe tbody tr th:only-of-type {\n",
              "        vertical-align: middle;\n",
              "    }\n",
              "\n",
              "    .dataframe tbody tr th {\n",
              "        vertical-align: top;\n",
              "    }\n",
              "\n",
              "    .dataframe thead th {\n",
              "        text-align: right;\n",
              "    }\n",
              "</style>\n",
              "<table border=\"1\" class=\"dataframe\">\n",
              "  <thead>\n",
              "    <tr style=\"text-align: right;\">\n",
              "      <th></th>\n",
              "      <th>0</th>\n",
              "      <th>1</th>\n",
              "    </tr>\n",
              "  </thead>\n",
              "  <tbody>\n",
              "    <tr>\n",
              "      <th>71</th>\n",
              "      <td>5</td>\n",
              "      <td>6</td>\n",
              "    </tr>\n",
              "  </tbody>\n",
              "</table>\n",
              "</div>\n",
              "    <div class=\"colab-df-buttons\">\n",
              "\n",
              "  <div class=\"colab-df-container\">\n",
              "    <button class=\"colab-df-convert\" onclick=\"convertToInteractive('df-a7101e9e-42e0-4057-8673-7bb666132e49')\"\n",
              "            title=\"Convert this dataframe to an interactive table.\"\n",
              "            style=\"display:none;\">\n",
              "\n",
              "  <svg xmlns=\"http://www.w3.org/2000/svg\" height=\"24px\" viewBox=\"0 -960 960 960\">\n",
              "    <path d=\"M120-120v-720h720v720H120Zm60-500h600v-160H180v160Zm220 220h160v-160H400v160Zm0 220h160v-160H400v160ZM180-400h160v-160H180v160Zm440 0h160v-160H620v160ZM180-180h160v-160H180v160Zm440 0h160v-160H620v160Z\"/>\n",
              "  </svg>\n",
              "    </button>\n",
              "\n",
              "  <style>\n",
              "    .colab-df-container {\n",
              "      display:flex;\n",
              "      gap: 12px;\n",
              "    }\n",
              "\n",
              "    .colab-df-convert {\n",
              "      background-color: #E8F0FE;\n",
              "      border: none;\n",
              "      border-radius: 50%;\n",
              "      cursor: pointer;\n",
              "      display: none;\n",
              "      fill: #1967D2;\n",
              "      height: 32px;\n",
              "      padding: 0 0 0 0;\n",
              "      width: 32px;\n",
              "    }\n",
              "\n",
              "    .colab-df-convert:hover {\n",
              "      background-color: #E2EBFA;\n",
              "      box-shadow: 0px 1px 2px rgba(60, 64, 67, 0.3), 0px 1px 3px 1px rgba(60, 64, 67, 0.15);\n",
              "      fill: #174EA6;\n",
              "    }\n",
              "\n",
              "    .colab-df-buttons div {\n",
              "      margin-bottom: 4px;\n",
              "    }\n",
              "\n",
              "    [theme=dark] .colab-df-convert {\n",
              "      background-color: #3B4455;\n",
              "      fill: #D2E3FC;\n",
              "    }\n",
              "\n",
              "    [theme=dark] .colab-df-convert:hover {\n",
              "      background-color: #434B5C;\n",
              "      box-shadow: 0px 1px 3px 1px rgba(0, 0, 0, 0.15);\n",
              "      filter: drop-shadow(0px 1px 2px rgba(0, 0, 0, 0.3));\n",
              "      fill: #FFFFFF;\n",
              "    }\n",
              "  </style>\n",
              "\n",
              "    <script>\n",
              "      const buttonEl =\n",
              "        document.querySelector('#df-a7101e9e-42e0-4057-8673-7bb666132e49 button.colab-df-convert');\n",
              "      buttonEl.style.display =\n",
              "        google.colab.kernel.accessAllowed ? 'block' : 'none';\n",
              "\n",
              "      async function convertToInteractive(key) {\n",
              "        const element = document.querySelector('#df-a7101e9e-42e0-4057-8673-7bb666132e49');\n",
              "        const dataTable =\n",
              "          await google.colab.kernel.invokeFunction('convertToInteractive',\n",
              "                                                    [key], {});\n",
              "        if (!dataTable) return;\n",
              "\n",
              "        const docLinkHtml = 'Like what you see? Visit the ' +\n",
              "          '<a target=\"_blank\" href=https://colab.research.google.com/notebooks/data_table.ipynb>data table notebook</a>'\n",
              "          + ' to learn more about interactive tables.';\n",
              "        element.innerHTML = '';\n",
              "        dataTable['output_type'] = 'display_data';\n",
              "        await google.colab.output.renderOutput(dataTable, element);\n",
              "        const docLink = document.createElement('div');\n",
              "        docLink.innerHTML = docLinkHtml;\n",
              "        element.appendChild(docLink);\n",
              "      }\n",
              "    </script>\n",
              "  </div>\n",
              "\n",
              "\n",
              "    </div>\n",
              "  </div>\n"
            ]
          },
          "metadata": {},
          "execution_count": 2
        }
      ]
    },
    {
      "cell_type": "markdown",
      "metadata": {
        "id": "c_gXSw8G9ayP"
      },
      "source": [
        "### Step 2. Similar Pairs"
      ]
    },
    {
      "cell_type": "markdown",
      "metadata": {
        "id": "Q3Cl2j-m9ayP"
      },
      "source": [
        "We first use a similarity-join algorithm to generate similar pairs.\n",
        "\n",
        "Below is the code. After running the code, we get 678 similar pairs ordered by their similarity decreasingly."
      ]
    },
    {
      "cell_type": "code",
      "execution_count": 3,
      "metadata": {
        "scrolled": true,
        "colab": {
          "base_uri": "https://localhost:8080/"
        },
        "id": "fNdjcQUL9ayP",
        "outputId": "f5ab7f88-5d3d-4d26-d576-de156f48d905"
      },
      "outputs": [
        {
          "output_type": "stream",
          "name": "stdout",
          "text": [
            "Num of Pairs:  367653.0\n",
            "Num of Similar Pairs:  678\n",
            "The Most Similar Pair:  ([170, \"mary mac's tea room\", '224 ponce de leon ave.', 'atlanta', 'southern/soul'], [169, \"mary mac's tea room\", '224 ponce de leon ave.', 'atlanta', 'southern'])\n"
          ]
        }
      ],
      "source": [
        "from a2_utils import *\n",
        "\n",
        "data = df.values.tolist()\n",
        "simpairs = simjoin(data)\n",
        "\n",
        "print(\"Num of Pairs: \", len(data)*(len(data)-1)/2)\n",
        "print(\"Num of Similar Pairs: \", len(simpairs))\n",
        "print(\"The Most Similar Pair: \", simpairs[0])"
      ]
    },
    {
      "cell_type": "markdown",
      "metadata": {
        "id": "urBufWp89ayQ"
      },
      "source": [
        "We can see that `simjoin` helps us remove the number of pairs from 367653 to 678. But, there are still many non-matching pairs in `simpairs` (see below)."
      ]
    },
    {
      "cell_type": "code",
      "execution_count": 4,
      "metadata": {
        "scrolled": true,
        "colab": {
          "base_uri": "https://localhost:8080/"
        },
        "id": "k5CD5UW19ayQ",
        "outputId": "475290af-8751-4fca-ac97-5ff8308f3ab9"
      },
      "outputs": [
        {
          "output_type": "stream",
          "name": "stdout",
          "text": [
            "([764, \"buzio's in the rio\", '3700 w. flamingo rd.', 'las vegas', 'seafood'], [542, 'carnival world', '3700 w. flamingo rd.', 'las vegas', 'buffets'])\n"
          ]
        }
      ],
      "source": [
        "print(simpairs[-1])"
      ]
    },
    {
      "cell_type": "markdown",
      "metadata": {
        "id": "P4R6vto39ayQ"
      },
      "source": [
        "Next, we will use active learning to train a classifier, and then use the classifier to classify each pair in `simpairs` as either \"matching\" or \"nonmatching\"."
      ]
    },
    {
      "cell_type": "markdown",
      "metadata": {
        "id": "5EqRTW_q9ayQ"
      },
      "source": [
        "### Step 3. Active Learning"
      ]
    },
    {
      "cell_type": "markdown",
      "metadata": {
        "id": "HzhQcSeK9ayQ"
      },
      "source": [
        "Given a set of similar pairs, what you need to do next is to iteratively train a classifier to decide which pairs are truly matching. We are going to use [logistic regression](https://scikit-learn.org/stable/modules/generated/sklearn.linear_model.LogisticRegression.html) as our classifier."
      ]
    },
    {
      "cell_type": "markdown",
      "metadata": {
        "id": "wClwehww9ayR"
      },
      "source": [
        "#### Initialization"
      ]
    },
    {
      "cell_type": "markdown",
      "metadata": {
        "id": "akleByKV9ayR"
      },
      "source": [
        "At the beginning, all the pairs are unlabeled. To initialize a model, we first pick up ten pairs and then label each pair using  the `crowdsourcing()` function. You can assume that `crowdsourcing()` will ask a crowd worker (e.g., on Amazon Mechanical Turk) to label a pair.\n",
        "\n",
        "\n",
        "`crowdsourcing(pair)` is a function that simulates the use of crowdsourcing to label a pair\n",
        "  \n",
        "  - **Input:**\tpair – A pair of records\n",
        "\n",
        "  - **Output:**\tBoolean –  *True*: The pair of records are matching; *False*: The pair of records are NOT matching;\n",
        "\n",
        "Please use the following code to do the initialization."
      ]
    },
    {
      "cell_type": "code",
      "execution_count": 5,
      "metadata": {
        "colab": {
          "base_uri": "https://localhost:8080/"
        },
        "id": "5AbB_vP_9ayR",
        "outputId": "01fc1b58-83f6-492b-bd3a-09fc3d13f3bf"
      },
      "outputs": [
        {
          "output_type": "stream",
          "name": "stdout",
          "text": [
            "\u001b[1;31mAre they matching?\u001b[0m\n",
            "[170, \"mary mac's tea room\", '224 ponce de leon ave.', 'atlanta', 'southern/soul']\n",
            "[169, \"mary mac's tea room\", '224 ponce de leon ave.', 'atlanta', 'southern']\n",
            "\u001b[1;31mAnswer: Yes\u001b[0m\n",
            "\u001b[1;31mAre they matching?\u001b[0m\n",
            "[88, 'manhattan ocean club', '57 w. 58th st.', 'new york city', 'seafood']\n",
            "[87, 'manhattan ocean club', '57 w. 58th st.', 'new york', 'seafood']\n",
            "\u001b[1;31mAnswer: Yes\u001b[0m\n",
            "\u001b[1;31mAre they matching?\u001b[0m\n",
            "[112, 'san domenico', '240 central park s.', 'new york city', 'italian']\n",
            "[111, 'san domenico', '240 central park s', 'new york', 'italian']\n",
            "\u001b[1;31mAnswer: Yes\u001b[0m\n",
            "\u001b[1;31mAre they matching?\u001b[0m\n",
            "[197, 'fleur de lys', '777 sutter st.', 'san francisco', 'french (new)']\n",
            "[196, 'fleur de lys', '777 sutter st.', 'san francisco', 'french']\n",
            "\u001b[1;31mAnswer: Yes\u001b[0m\n",
            "\u001b[1;31mAre they matching?\u001b[0m\n",
            "[8, 'cafe bizou', '14016 ventura blvd.', 'sherman oaks', 'french bistro']\n",
            "[7, 'cafe bizou', '14016 ventura blvd.', 'sherman oaks', 'french']\n",
            "\u001b[1;31mAnswer: Yes\u001b[0m\n",
            "\u001b[1;31mAre they matching?\u001b[0m\n",
            "[709, 'arcadia', '21 e. 62nd st.', 'new york city', 'american (new)']\n",
            "[66, 'four seasons', '99 e. 52nd st.', 'new york city', 'american (new)']\n",
            "\u001b[1;31mAnswer: No\u001b[0m\n",
            "\u001b[1;31mAre they matching?\u001b[0m\n",
            "[709, 'arcadia', '21 e. 62nd st.', 'new york city', 'american (new)']\n",
            "[70, 'gramercy tavern', '42 e. 20th st.', 'new york city', 'american (new)']\n",
            "\u001b[1;31mAnswer: No\u001b[0m\n",
            "\u001b[1;31mAre they matching?\u001b[0m\n",
            "[729, 'la grenouille', '3 e. 52nd st.', 'new york city', 'french (classic)']\n",
            "[60, 'daniel', '20 e. 76th st.', 'new york city', 'french (new)']\n",
            "\u001b[1;31mAnswer: No\u001b[0m\n",
            "\u001b[1;31mAre they matching?\u001b[0m\n",
            "[733, 'menchanko-tei', '39 w. 55th st.', 'new york city', 'japanese']\n",
            "[76, 'la caravelle', '33 w. 55th st.', 'new york city', 'french (classic)']\n",
            "\u001b[1;31mAnswer: No\u001b[0m\n",
            "\u001b[1;31mAre they matching?\u001b[0m\n",
            "[764, \"buzio's in the rio\", '3700 w. flamingo rd.', 'las vegas', 'seafood']\n",
            "[542, 'carnival world', '3700 w. flamingo rd.', 'las vegas', 'buffets']\n",
            "\u001b[1;31mAnswer: No\u001b[0m\n",
            "Number of matches:  5\n",
            "Number of nonmatches:  5\n"
          ]
        }
      ],
      "source": [
        "from a2_utils import crowdsourcing\n",
        "\n",
        "# choose the most/least similar five pairs as initial training data\n",
        "init_pairs = simpairs[:5] + simpairs[-5:]\n",
        "matches = []\n",
        "nonmatches = []\n",
        "for pair in init_pairs:\n",
        "    is_match = crowdsourcing(pair)\n",
        "    if is_match == True:\n",
        "        matches.append(pair)\n",
        "    else:\n",
        "        nonmatches.append(pair)\n",
        "\n",
        "print(\"Number of matches: \", len(matches))\n",
        "print(\"Number of nonmatches: \", len(nonmatches))"
      ]
    },
    {
      "cell_type": "markdown",
      "metadata": {
        "id": "MELWCrx-9ayR"
      },
      "source": [
        "Here is the only code you need to write in this assignment.\n"
      ]
    },
    {
      "cell_type": "code",
      "execution_count": 21,
      "metadata": {
        "colab": {
          "base_uri": "https://localhost:8080/"
        },
        "id": "b_AK2SgE9ayS",
        "outputId": "85fafd08-db14-4943-ea0e-9569baf67f15"
      },
      "outputs": [
        {
          "output_type": "stream",
          "name": "stdout",
          "text": [
            "\u001b[1;31mAre they matching?\u001b[0m\n",
            "[817, 'ritz-carlton cafe (atlanta)', '181 peachtree st.', 'atlanta', 'american (new)']\n",
            "[180, 'ritz-carlton restaurant', '181 peachtree st.', 'atlanta', 'french (classic)']\n",
            "\u001b[1;31mAnswer: No\u001b[0m\n",
            "\u001b[1;31mAre they matching?\u001b[0m\n",
            "[140, 'second street grill', '200 e. fremont st.', 'las vegas', 'pacific rim']\n",
            "[139, 'second street grille', '200 e. fremont st.', 'las vegas', 'seafood']\n",
            "\u001b[1;31mAnswer: Yes\u001b[0m\n",
            "\u001b[1;31mAre they matching?\u001b[0m\n",
            "[817, 'ritz-carlton cafe (atlanta)', '181 peachtree st.', 'atlanta', 'american (new)']\n",
            "[179, 'restaurant  ritz-carlton  atlanta', '181 peachtree st.', 'atlanta', 'continental']\n",
            "\u001b[1;31mAnswer: No\u001b[0m\n",
            "\u001b[1;31mAre they matching?\u001b[0m\n",
            "[177, 'dining room  ritz-carlton  buckhead', '3434 peachtree rd.', 'atlanta', 'international']\n",
            "[175, 'cafe  ritz-carlton  buckhead', '3434 peachtree rd.', 'atlanta', 'ext 6108 international']\n",
            "\u001b[1;31mAnswer: No\u001b[0m\n",
            "\u001b[1;31mAre they matching?\u001b[0m\n",
            "[176, 'ritz-carlton cafe (buckhead)', '3434 peachtree rd. ne', 'atlanta', 'american (new)']\n",
            "[175, 'cafe  ritz-carlton  buckhead', '3434 peachtree rd.', 'atlanta', 'ext 6108 international']\n",
            "\u001b[1;31mAnswer: Yes\u001b[0m\n"
          ]
        }
      ],
      "source": [
        "import pandas as pd\n",
        "from sklearn.linear_model import LogisticRegression\n",
        "from a2_utils import featurize, crowdsourcing\n",
        "\n",
        "\n",
        "labeled_pairs = matches + nonmatches\n",
        "unlabeled_pairs = [p for p in simpairs if p not in labeled_pairs]\n",
        "iter_num = 5\n",
        "\n",
        "#<-- Write Your Code -->\n",
        "\n",
        "# Prepare X and y\n",
        "X_labeled = pd.DataFrame([featurize(pair) for pair in labeled_pairs])\n",
        "ones = [1 for x in range(5)]\n",
        "zeros = [0 for x in range(5)]\n",
        "y_labeled = ones + zeros\n",
        "\n",
        "# train an initial model on labeled_pairs\n",
        "\n",
        "model = LogisticRegression()\n",
        "fitted_model = model.fit(X_labeled, y_labeled)\n",
        "\n",
        "for i in range(iter_num):\n",
        "    # Make predictions on the unlabeled data\n",
        "    X_unlabeled = pd.DataFrame([featurize(pair) for pair in unlabeled_pairs])\n",
        "    predictions = fitted_model.predict_proba(X_unlabeled)\n",
        "\n",
        "    # Find the predictions closest to [0.5, 0.5]\n",
        "    # Approach: Subtract 0.5 from the first element of every row,\n",
        "    # then take the absolute val. The element closest to 0 will be the most uncertain\n",
        "    # Why? Since an original value of 0.5 - 0.5 = 0.\n",
        "    uncertainties = abs(predictions[:, 0] - 0.5)\n",
        "    most_uncertain_index = uncertainties.argmin()\n",
        "\n",
        "    # Crowdsource the label for the most uncertain pair\n",
        "    most_uncertain_pair = unlabeled_pairs[most_uncertain_index]\n",
        "    is_match = crowdsourcing(most_uncertain_pair)\n",
        "    if is_match:\n",
        "        y_labeled.append(1)\n",
        "    else:\n",
        "        y_labeled.append(0)\n",
        "\n",
        "    # Update our list of pairs\n",
        "    labeled_pairs.append(most_uncertain_pair)\n",
        "    del unlabeled_pairs[most_uncertain_index]\n",
        "\n",
        "    # Recreate the training data\n",
        "    X_labeled = pd.DataFrame([featurize(pair) for pair in labeled_pairs])\n",
        "\n",
        "    # Retrain the model\n",
        "    fitted_model = model.fit(X_labeled, y_labeled)"
      ]
    },
    {
      "cell_type": "markdown",
      "metadata": {
        "id": "_6BJKV0L9ayS"
      },
      "source": [
        "**[Algorithm Description].**   Active learning has many [query strategies](http://tiny.cc/al-wiki-qs) to decide which data point should be labeled. You need to implement uncertain sampling. The algorithm trains an initial model on `labeled_pairs`. Then, it iteratively trains a model. At each iteration, it first applies the model to `unlabeled_pairs`, and makes a prediction on each unlabeled pair along with a probability, where the probability indicates the confidence of the prediction. After that, it selects the most uncertain pair (If there is still a tie, break it randomly),  and call the `crowdsroucing()` function to label the pair. After the pair is labeled, it updates `labeled_pairs` and `unlabeled_pairs`, and then retrain the model on `labeled_pairs`.\n",
        "\n",
        "**[Input].**\n",
        "- `labeled_pairs`: 10 labeled pairs (by default)\n",
        "- `unlabeled_pairs`: 668 unlabeled pairs (by default)\n",
        "- `iter_num`: 5 (by default)\n",
        "\n",
        "**[Output].**\n",
        "- `model`: A logistic regression model built by scikit-learn\n"
      ]
    },
    {
      "cell_type": "markdown",
      "metadata": {
        "id": "j0SO_cRd9ayS"
      },
      "source": [
        "### Step 4. Model Evaluation"
      ]
    },
    {
      "cell_type": "markdown",
      "metadata": {
        "id": "DP6jCmf69ayS"
      },
      "source": [
        "After training an model, you can use the following code to evalute it."
      ]
    },
    {
      "cell_type": "code",
      "execution_count": 22,
      "metadata": {
        "colab": {
          "base_uri": "https://localhost:8080/"
        },
        "id": "yOTQHXRx9ayS",
        "outputId": "e0e7c142-e5f4-430a-9c87-b795a64ffdec"
      },
      "outputs": [
        {
          "output_type": "stream",
          "name": "stdout",
          "text": [
            "Precision: 1.0\n",
            "Recall: 0.7452830188679245\n",
            "Fscore: 0.854054054054054\n"
          ]
        }
      ],
      "source": [
        "import json\n",
        "import numpy as np\n",
        "from a2_utils import evaluate\n",
        "\n",
        "\n",
        "sp_features = np.array([featurize(sp) for sp in simpairs])\n",
        "label = model.predict(sp_features)\n",
        "pair_label = zip(simpairs, label)\n",
        "\n",
        "identified_matches = []\n",
        "for pair, label in pair_label:\n",
        "    if label == 1:\n",
        "        identified_matches.append(pair)\n",
        "\n",
        "precision, recall, fscore = evaluate(identified_matches)\n",
        "\n",
        "print(\"Precision:\", precision)\n",
        "print(\"Recall:\", recall)\n",
        "print(\"Fscore:\", fscore)\n",
        ""
      ]
    },
    {
      "cell_type": "markdown",
      "metadata": {
        "id": "XKYz3tXT9ayT"
      },
      "source": [
        "## Submission"
      ]
    },
    {
      "cell_type": "markdown",
      "metadata": {
        "id": "Z6zYg2gQ9ayT"
      },
      "source": [
        "Complete the code in A2-2.ipynb, and submit it to the CourSys activity Assignment 2."
      ]
    }
  ],
  "metadata": {
    "kernelspec": {
      "display_name": "Python 3 (ipykernel)",
      "language": "python",
      "name": "python3"
    },
    "language_info": {
      "codemirror_mode": {
        "name": "ipython",
        "version": 3
      },
      "file_extension": ".py",
      "mimetype": "text/x-python",
      "name": "python",
      "nbconvert_exporter": "python",
      "pygments_lexer": "ipython3",
      "version": "3.9.7"
    },
    "colab": {
      "provenance": []
    }
  },
  "nbformat": 4,
  "nbformat_minor": 0
}
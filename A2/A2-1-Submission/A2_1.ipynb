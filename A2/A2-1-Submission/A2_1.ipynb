{
  "cells": [
    {
      "cell_type": "markdown",
      "metadata": {
        "id": "oevbc4g8b3fX"
      },
      "source": [
        "# Assignment 2: Entity Resolution (Part 1)"
      ]
    },
    {
      "cell_type": "markdown",
      "metadata": {
        "id": "sbK7ORF2b3fa"
      },
      "source": [
        "## Objective"
      ]
    },
    {
      "cell_type": "markdown",
      "metadata": {
        "id": "cAUrbbWob3fb"
      },
      "source": [
        "Data scientists often spend 80% of their time on [data preparation](https://www.infoworld.com/article/3228245/the-80-20-data-science-dilemma.html). If your career goal is to become a data scientist, you have to master data cleaning and data integration skills. In this assignment, you will learn how to solve the Entity Resolution (ER) problem, a very common problem in data cleaning and integration. After completing this assignment, you should be able to answer the following questions:\n",
        "\n",
        "1. What is ER?\n",
        "2. What are the applications of ER in data integration and cleaning?\n",
        "3. How to avoid $n^2$ comparisons?\n",
        "4. How to compute Jaccard Similarity?\n",
        "5. How to evaluate an ER result?\n",
        "\n",
        "**Requirements:**\n",
        "\n",
        "1. Please use [pandas.DataFrame](http://pandas.pydata.org/pandas-docs/stable/generated/pandas.DataFrame.html) rather than spark.DataFrame to manipulate data.\n",
        "\n",
        "2. Please follow python code style (https://www.python.org/dev/peps/pep-0008/). If TA finds your code hard to read, you will lose points. This requirement will stay for the whole semester.\n",
        "\n",
        "The data for Assignment 2 (Part 1 and Part 2) can be downloaded from [A2-data.zip](A2-data.zip)."
      ]
    },
    {
      "cell_type": "markdown",
      "metadata": {
        "id": "loW1WW1sb3fc"
      },
      "source": [
        "## Overview"
      ]
    },
    {
      "cell_type": "markdown",
      "metadata": {
        "id": "alz7qTHDb3fd"
      },
      "source": [
        "ER is defined as finding different records that refer to the same real-world entity, e.g., iPhone 4-th generation vs. iPhone four. It is central to data integration and cleaning. In this assignment, you will learn how to apply ER in a data integration setting. But the program that you are going to write can be easily extended to a data-cleaning setting, being used to detect _duplication values_.   \n",
        "\n",
        "Imagine that you want to help your company's customers to buy products at a cheaper price. In order to do so, you first write a [web scraper](https://nbviewer.jupyter.org/github/sfu-db/bigdata-cmpt733/blob/master/Assignments/A1/A1-1.ipynb) to crawl product data from Amazon.com and Google Shopping, respectively, and then integrate the data together. Since the same product may have different representations in the two websites, you are facing an ER problem.\n",
        "\n",
        "Existing ER techniques can be broadly divided into two categories: similarity-based (Part 1) and learning-based (Part 2).\n"
      ]
    },
    {
      "cell_type": "markdown",
      "metadata": {
        "id": "ZbMgKIJVb3fe"
      },
      "source": [
        "## Similarity Join"
      ]
    },
    {
      "cell_type": "markdown",
      "metadata": {
        "id": "04aSi91Yb3fe"
      },
      "source": [
        "Unlike a learning-based technique, a similarity-based technique (a.k.a similarity join) does not need any label data. It first chooses a similarity function and a threshold, and then returns the record pairs whose similarity values are above the threshold. These returned record pairs are thought of as matching pairs, i.e., referring to the same real-world entity.\n",
        "\n",
        "Depending on particular applications, you may need to choose different similarity functions. In this assignment, we will use Jaccard similarity, i.e., $\\textsf{Jaccard}(r, s) = \\big|\\frac{r \\cap s}{r \\cup s}\\big|$. Here is the formal definition of this problem.\n",
        "\n",
        "> **Jaccard-Similarity Join**: Given two DataFrames, R and S, and a threshold $\\theta \\in (0, 1]$, the jaccard-similarity join problem aims to find all record pairs $(r, s) \\in R \\times S$ such that $\\textsf{Jaccard}(r, s) \\geq \\theta$  "
      ]
    },
    {
      "cell_type": "markdown",
      "metadata": {
        "id": "p0dYXboNb3ff"
      },
      "source": [
        "To implement similarity join, you need to address the following challenges:\n",
        "\n",
        "1. Jaccard is used to quantify the similarity between two sets instead of two records. You need to convert each record to a set.\n",
        "\n",
        "2. A naive implementation of similarity join is to compute Jaccard for all $|R \\times S|$ possible pairs. Imagine R and S have one million records. This requires doing 10^12 pair comparisons, which is extremely expensive. Thus, you need to know how to avoid n^2 comparisons.\n",
        "\n",
        "3. The output of ER is a set of matching pairs, where each pair is considered as referring to the same real-world entity. You need to know how to evaluate the quality of an ER result.\n",
        "\n",
        "Next, you will be guided to complete four tasks. After finishing these tasks, I suggest going over the above challenges again, and understand how they are addressed.\n",
        "\n",
        "Read the code first, and then implement the remaining four functions: `preprocess_df`, `filtering`, `verification`, and `evaluate` by doing Tasks A-D, respectively."
      ]
    },
    {
      "cell_type": "code",
      "source": [
        "# similarity_join.py\n",
        "import ast\n",
        "import re\n",
        "import pandas as pd\n",
        "\n",
        "class SimilarityJoin:\n",
        "    def __init__(self, data_file1, data_file2):\n",
        "        self.df1 = pd.read_csv(data_file1)\n",
        "        self.df2 = pd.read_csv(data_file2)\n",
        "\n",
        "    def preprocess_df(self, df, cols):\n",
        "        \"\"\"\n",
        "            Input:  df represents a pandas DataFrame\n",
        "                    cols represents the list of columns in df that will be concatenated and tokenized.\n",
        "\n",
        "            Output: Return a new DataFrame that adds the \"joinKey\" column to the input df\n",
        "        \"\"\"\n",
        "\n",
        "        def split_and_concat(row):\n",
        "\n",
        "            # Create one large string from the concatenation of each specified cols\n",
        "\n",
        "            concatenated = ' '.join([str(row[col]) for col in cols if row[col] is not None])\n",
        "\n",
        "            # Split the string into tokens, removing puncutation, and convert to lowercase\n",
        "\n",
        "            tokens = [token.lower() for token in re.split(r'\\W+', concatenated) if token and token.lower() != 'nan']\n",
        "            return str(tokens)\n",
        "\n",
        "        # Create a new df and apply the split_and_concat function to each row\n",
        "\n",
        "        new_df = df.copy()\n",
        "        new_df['joinKey'] = new_df.apply(split_and_concat, axis=1)\n",
        "\n",
        "        return new_df\n",
        "\n",
        "    def filtering(self, df1, df2):\n",
        "        \"\"\"\n",
        "            Input: $df1 and $df2 are two input DataFrames, where each of them\n",
        "                has a 'joinKey' column added by the preprocess_df function\n",
        "\n",
        "            Output: Return a new DataFrame $cand_df with four columns: 'id1', 'joinKey1', 'id2', 'joinKey2',\n",
        "                    where 'id1' and 'joinKey1' are from $df1, and 'id2' and 'joinKey2'are from $df2.\n",
        "                    Intuitively, $cand_df is the joined result between $df1 and $df2 on the condition that\n",
        "                    their joinKeys share at least one token.\n",
        "\n",
        "            Comments: Since the goal of the \"filtering\" function is to avoid n^2 pair comparisons,\n",
        "                    you are NOT allowed to compute a cartesian join between $df1 and $df2 in the function.\n",
        "                    Please come up with a more efficient algorithm (see hints in Lecture 2).\n",
        "        \"\"\"\n",
        "\n",
        "        # Convert all 'joinKey' strings to lists\n",
        "\n",
        "        df1['joinKey'] = df1['joinKey'].apply(ast.literal_eval)\n",
        "        df2['joinKey'] = df2['joinKey'].apply(ast.literal_eval)\n",
        "\n",
        "        # Step 1: Build inverse indices for the second dataframe\n",
        "\n",
        "        def build_token_index(df):\n",
        "            token_index = {}\n",
        "\n",
        "            # Iterate over the rows of the frst dataframe\n",
        "\n",
        "            for index, row in df.iterrows():\n",
        "\n",
        "                # Get the row id associated with the token and add it to the set\n",
        "\n",
        "                for token in row['joinKey']:\n",
        "                    if token not in token_index:\n",
        "                        token_index[token] = set()\n",
        "                    token_index[token].add(row['id'])\n",
        "            return token_index\n",
        "\n",
        "        token_index_df2 = build_token_index(df2)\n",
        "\n",
        "        # Step 2: Build a list of matches\n",
        "\n",
        "        matches = []\n",
        "\n",
        "        for index, row in df1.iterrows():\n",
        "\n",
        "            # Build a set containing all of the ids in token_index_df2 that share a token with the current row\n",
        "\n",
        "            matched_ids = set()\n",
        "            for token in row['joinKey']:\n",
        "                matched_ids.update(token_index_df2.get(token, []))\n",
        "\n",
        "            # For each id, make a dict and add to the list of matches\n",
        "\n",
        "            for id2 in matched_ids:\n",
        "                new_tuple = {'id1': row['id'],\n",
        "                            'joinKey1': row['joinKey'],\n",
        "                            'id2': id2,\n",
        "                            'joinKey2': df2[df2['id'] == id2]['joinKey'].iloc[0]}\n",
        "                matches.append(new_tuple)\n",
        "\n",
        "        # 'joinKey' columns is a list, not a string, so convert to string\n",
        "\n",
        "        df1['joinKey'] = df1['joinKey'].apply(lambda x: str(x))\n",
        "        df2['joinKey'] = df2['joinKey'].apply(lambda x: str(x))\n",
        "\n",
        "\n",
        "        # Step 3: Build the resultant dataframe\n",
        "\n",
        "        cand_df = pd.DataFrame(matches)\n",
        "\n",
        "        # Convert all 'joinKey' lists back to strings\n",
        "\n",
        "        cand_df['joinKey1'] = cand_df['joinKey1'].apply(lambda x: str(x))\n",
        "        cand_df['joinKey2'] = cand_df['joinKey2'].apply(lambda x: str(x))\n",
        "\n",
        "        return cand_df\n",
        "\n",
        "\n",
        "    def verification(self, cand_df, threshold):\n",
        "        \"\"\"\n",
        "        Input: $cand_df is the output DataFrame from the 'filtering' function.\n",
        "               $threshold is a float value between (0, 1]\n",
        "\n",
        "        Output: Return a new DataFrame $result_df that represents the ER result.\n",
        "                It has five columns: id1, joinKey1, id2, joinKey2, jaccard\n",
        "\n",
        "        Comments: There are two differences between $cand_df and $result_df\n",
        "                  (1) $result_df adds a new column, called jaccard, which stores the jaccard similarity\n",
        "                      between $joinKey1 and $joinKey2\n",
        "                  (2) $result_df removes the rows whose jaccard similarity is smaller than $threshold\n",
        "        \"\"\"\n",
        "\n",
        "        # Convert both columns to sets for easier computation\n",
        "\n",
        "        cand_df['joinKey1'] = cand_df['joinKey1'].apply(lambda x: set(ast.literal_eval(x)))\n",
        "        cand_df['joinKey2'] = cand_df['joinKey2'].apply(lambda x: set(ast.literal_eval(x)))\n",
        "\n",
        "        # Compute the Jaccard similarity for each pair,\n",
        "        # computed as the length of their intersection divided by the length of their union\n",
        "\n",
        "        cand_df['jaccard'] = cand_df.apply(lambda x:\n",
        "            len(x['joinKey1'].intersection(x['joinKey2'])) /\n",
        "            len(x['joinKey1'].union(x['joinKey2'])), axis=1)\n",
        "\n",
        "        # Remove the rows whose Jaccard similarity is smaller than the threshold\n",
        "\n",
        "        result_df = cand_df[cand_df['jaccard'] >= threshold].copy()\n",
        "\n",
        "        # Convert both columns back to strings\n",
        "\n",
        "        result_df['joinKey1'] = result_df['joinKey1'].apply(lambda x: str(x))\n",
        "        result_df['joinKey2'] = result_df['joinKey2'].apply(lambda x: str(x))\n",
        "\n",
        "        return result_df\n",
        "\n",
        "\n",
        "    def evaluate(self, result, ground_truth):\n",
        "        \"\"\"\n",
        "            Input: $result is a list of matching pairs identified by the ER algorithm\n",
        "                $ground_truth is a list of matching pairs labeld by humans\n",
        "\n",
        "            Output: Compute precision, recall, and fmeasure of $result based on $ground_truth, and\n",
        "                    return the evaluation result as a triple: (precision, recall, fmeasure)\n",
        "\n",
        "        \"\"\"\n",
        "\n",
        "        # Calculate T, the number of found results also appearing in the ground truth\n",
        "        num = 0\n",
        "\n",
        "        for pair in result:\n",
        "            if pair in ground_truth:\n",
        "                num += 1\n",
        "\n",
        "        T = num\n",
        "        R = len(result)\n",
        "        A = len(ground_truth)\n",
        "\n",
        "        # Calculate precision, |T| / |R| where R is the results found by our algorithm\n",
        "        precision = T / R\n",
        "\n",
        "        # Calculate recall, |T| / |A| where A is the labelled ground truth\n",
        "        recall = T / A\n",
        "\n",
        "        # Calculate fmeasure\n",
        "        fmeasure = (2 * precision * recall) / (precision + recall)\n",
        "\n",
        "        return (precision, recall, fmeasure)\n",
        "\n",
        "    def jaccard_join(self, cols1, cols2, threshold):\n",
        "        new_df1 = self.preprocess_df(self.df1, cols1)\n",
        "        new_df2 = self.preprocess_df(self.df2, cols2)\n",
        "        print (\"Before filtering: %d pairs in total\" %(self.df1.shape[0] *self.df2.shape[0]))\n",
        "\n",
        "        cand_df = self.filtering(new_df1, new_df2)\n",
        "        print (\"After Filtering: %d pairs left\" %(cand_df.shape[0]))\n",
        "\n",
        "        result_df = self.verification(cand_df, threshold)\n",
        "        print (\"After Verification: %d similar pairs\" %(result_df.shape[0]))\n",
        "\n",
        "        return result_df\n",
        "\n",
        "\n",
        "\n",
        "if __name__ == \"__main__\":\n",
        "    er = SimilarityJoin(\"Amazon_sample.csv\", \"Google_sample.csv\")\n",
        "    amazon_cols = [\"title\", \"manufacturer\"]\n",
        "    google_cols = [\"name\", \"manufacturer\"]\n",
        "    result_df = er.jaccard_join(amazon_cols, google_cols, 0.5)\n",
        "\n",
        "    result = result_df[['id1', 'id2']].values.tolist()\n",
        "    ground_truth = pd.read_csv(\"Amazon_Google_perfectMapping_sample.csv\").values.tolist()\n",
        "    print (\"(precision, recall, fmeasure) = \", er.evaluate(result, ground_truth))"
      ],
      "metadata": {
        "colab": {
          "base_uri": "https://localhost:8080/"
        },
        "id": "fJXhYQFTs5Yb",
        "outputId": "41f5c118-e890-4448-a636-7ad6d4f9f39f"
      },
      "execution_count": 46,
      "outputs": [
        {
          "output_type": "stream",
          "name": "stdout",
          "text": [
            "Before filtering: 256 pairs in total\n",
            "After Filtering: 84 pairs left\n",
            "After Verification: 6 similar pairs\n",
            "(precision, recall, fmeasure) =  (1.0, 0.375, 0.5454545454545454)\n"
          ]
        }
      ]
    },
    {
      "cell_type": "markdown",
      "metadata": {
        "id": "WJe05sKxb3fg"
      },
      "source": [
        "\n",
        "The program will output the following when running on the sample data:\n",
        "\n",
        "\n",
        "> Before filtering: 256 pairs in total\n",
        "\n",
        "> After Filtering: 84 pairs left\n",
        "\n",
        "> After Verification: 6 similar pairs\n",
        "\n",
        "> (precision, recall, fmeasure) =  (1.0, 0.375, 0.5454545454545454)\n"
      ]
    },
    {
      "cell_type": "markdown",
      "metadata": {
        "id": "Ge80Jzlsb3fh"
      },
      "source": [
        "### Task A. Data Preprocessing (Record --> Token Set)"
      ]
    },
    {
      "cell_type": "markdown",
      "metadata": {
        "id": "b73p0DC9b3fi"
      },
      "source": [
        "Since Jaccard needs to take two sets as input, your first job is to preprocess DataFrames by transforming each record into a set of tokens. Please implement the following function.  "
      ]
    },
    {
      "cell_type": "code",
      "source": [
        "def preprocess_df(self, df, cols):\n",
        "    \"\"\"\n",
        "        Input: $df represents a DataFrame\n",
        "               $cols represents the list of columns (in $df) that will be concatenated and be tokenized\n",
        "\n",
        "        Output: Return a new DataFrame that adds the \"joinKey\" column to the input $df\n",
        "\n",
        "        Comments: The \"joinKey\" column is a list of tokens, which is generated as follows:\n",
        "                 (1) concatenate the $cols in $df;\n",
        "                 (2) apply the tokenizer to the concatenated string\n",
        "        Here is how the tokenizer should work:\n",
        "                 (1) Use \"re.split(r'\\W+', string)\" to split a string into a set of tokens\n",
        "                 (2) Convert each token to its lower-case\n",
        "    \"\"\"\n",
        "\n",
        "    def split_and_concat(row):\n",
        "        # Create one large string from the concatenation of each specified cols\n",
        "        concatenated = ' '.join([str(row[col]) for col in cols if row[col] is not None])\n",
        "        # Split the string into tokens, removing puncutation, and convert to lowercase\n",
        "        tokens = [token.lower() for token in re.split(r'\\W+', concatenated) if token]\n",
        "        return tokens\n",
        "\n",
        "    # Create a new df and apply the split_and_concat function to each row\n",
        "    new_df = df.copy()\n",
        "    new_df['joinKey'] = new_df.apply(split_and_concat, axis=1)\n",
        "\n",
        "    return new_df"
      ],
      "metadata": {
        "id": "h6P376MwfhvE"
      },
      "execution_count": 25,
      "outputs": []
    },
    {
      "cell_type": "code",
      "source": [
        "### preprocess_df test ###\n",
        "\n",
        "# Read in sample data\n",
        "amazon_sample = pd.read_csv(\"Amazon_sample.csv\")\n",
        "google_sample = pd.read_csv(\"Google_sample.csv\")\n",
        "\n",
        "# Expected outputs\n",
        "new_df1_expected = pd.read_csv(\"new_df1.csv\")\n",
        "new_df2_expected = pd.read_csv(\"new_df2.csv\")\n",
        "\n",
        "# Instantiate the class\n",
        "er = SimilarityJoin(\"Amazon_sample.csv\", \"Google_sample.csv\")\n",
        "\n",
        "# Columns to be used for preprocessing\n",
        "amazon_cols = [\"title\", \"manufacturer\"]\n",
        "google_cols = [\"name\", \"manufacturer\"]\n",
        "\n",
        "# Preprocess the data\n",
        "new_df1 = er.preprocess_df(amazon_sample, amazon_cols)\n",
        "new_df2 = er.preprocess_df(google_sample, google_cols)\n",
        "\n",
        "# Compare the output with the expected DataFrames\n",
        "assert new_df1['joinKey'].equals(new_df1_expected['joinKey']), \"preprocess_df output for Amazon data does not match expected output\"\n",
        "assert new_df2['joinKey'].equals(new_df2_expected['joinKey']), \"preprocess_df output for Google data does not match expected output\""
      ],
      "metadata": {
        "id": "E173r4vRdVb4"
      },
      "execution_count": 41,
      "outputs": []
    },
    {
      "cell_type": "markdown",
      "metadata": {
        "id": "S8O9xCv5b3fj"
      },
      "source": [
        "For the purpose of testing, you can compare your outputs with new_df1 and new_df2 that can be found from the `Amazon-Google-Sample` folder."
      ]
    },
    {
      "cell_type": "markdown",
      "metadata": {
        "id": "Bbo-kEQNb3fj"
      },
      "source": [
        "### Task B. Filtering Obviously Non-matching Pairs"
      ]
    },
    {
      "cell_type": "markdown",
      "metadata": {
        "id": "caJXXGEMb3fk"
      },
      "source": [
        "To avoid $n^2$ pair comparisons, ER algorithms often follow a filtering-and-verification framework. The basic idea is to first filter obviously non-matching pairs and then only verify the remaining pairs.  \n",
        "\n",
        "In Task B, your job is to implement the <font color=\"cyan\">filtering</font> function. This function will filter all the record pairs whose joinKeys do not share any token. This is because based on the definition of Jaccard, we can deduce that **if two sets do not share any element (i.e., $r\\cap s = \\phi$), their Jaccard similarity values must be zero**. Thus, we can safely remove them."
      ]
    },
    {
      "cell_type": "code",
      "source": [
        "def filtering(self, df1, df2):\n",
        "    \"\"\"\n",
        "        Input: $df1 and $df2 are two input DataFrames, where each of them\n",
        "            has a 'joinKey' column added by the preprocess_df function\n",
        "\n",
        "        Output: Return a new DataFrame $cand_df with four columns: 'id1', 'joinKey1', 'id2', 'joinKey2',\n",
        "                where 'id1' and 'joinKey1' are from $df1, and 'id2' and 'joinKey2'are from $df2.\n",
        "                Intuitively, $cand_df is the joined result between $df1 and $df2 on the condition that\n",
        "                their joinKeys share at least one token.\n",
        "\n",
        "        Comments: Since the goal of the \"filtering\" function is to avoid n^2 pair comparisons,\n",
        "                you are NOT allowed to compute a cartesian join between $df1 and $df2 in the function.\n",
        "                Please come up with a more efficient algorithm (see hints in Lecture 2).\n",
        "    \"\"\"\n",
        "\n",
        "    # Convert all 'joinKey' strings to lists\n",
        "    import ast\n",
        "\n",
        "    df1['joinKey'] = df1['joinKey'].apply(ast.literal_eval)\n",
        "    df2['joinKey'] = df2['joinKey'].apply(ast.literal_eval)\n",
        "\n",
        "    # Step 1: Build inverse indices for the second dataframe\n",
        "\n",
        "    def build_token_index(df):\n",
        "        token_index = {}\n",
        "        # Iterate over the rows of the frst dataframe\n",
        "        for index, row in df.iterrows():\n",
        "            # Get the row id associated with the token and add it to the set\n",
        "            for token in row['joinKey']:\n",
        "                if token not in token_index:\n",
        "                    token_index[token] = set()\n",
        "                token_index[token].add(row['id'])\n",
        "        return token_index\n",
        "\n",
        "    token_index_df2 = build_token_index(df2)\n",
        "\n",
        "    # Step 2: Build a list of matches\n",
        "\n",
        "    matches = []\n",
        "\n",
        "    for index, row in df1.iterrows():\n",
        "        # Build a set containing all of the ids in token_index_df2 that share a token with the current row\n",
        "        matched_ids = set()\n",
        "        for token in row['joinKey']:\n",
        "            matched_ids.update(token_index_df2.get(token, []))\n",
        "        # For each id, make a dict and add to the list of matches\n",
        "        for id2 in matched_ids:\n",
        "            new_tuple = {'id1': row['id'],\n",
        "                        'joinKey1': row['joinKey'],\n",
        "                        'id2': id2,\n",
        "                        'joinKey2': df2[df2['id'] == id2]['joinKey'].iloc[0]}\n",
        "            matches.append(new_tuple)\n",
        "\n",
        "    # 'joinKey' columns is a list, not a string, so convert to string\n",
        "    df1['joinKey'] = df1['joinKey'].apply(lambda x: str(x))\n",
        "    df2['joinKey'] = df2['joinKey'].apply(lambda x: str(x))\n",
        "\n",
        "\n",
        "    # Step 3: Build the resultant dataframe\n",
        "\n",
        "    cand_df = pd.DataFrame(matches)\n",
        "\n",
        "    # Convert all 'joinKey' lists back to strings\n",
        "    cand_df['joinKey1'] = cand_df['joinKey1'].apply(lambda x: str(x))\n",
        "    cand_df['joinKey2'] = cand_df['joinKey2'].apply(lambda x: str(x))\n",
        "\n",
        "    return cand_df"
      ],
      "metadata": {
        "id": "iuIy1tIZyLty"
      },
      "execution_count": null,
      "outputs": []
    },
    {
      "cell_type": "code",
      "source": [
        "### filtering test ###\n",
        "\n",
        "# Get pre processed df's\n",
        "new_df1 = pd.read_csv(\"new_df1.csv\")\n",
        "new_df2 = pd.read_csv(\"new_df2.csv\")\n",
        "\n",
        "# Expected output\n",
        "cand_df_expected = pd.read_csv(\"cand_df.csv\")\n",
        "cand_df_expected = cand_df_expected.sort_values(by=['id1', 'joinKey1', 'id2', 'joinKey2']).reset_index().drop(columns='index')\n",
        "\n",
        "# Apply the filtering function\n",
        "cand_df = er.filtering(new_df1, new_df2)\n",
        "cand_df = cand_df.sort_values(by=['id1', 'joinKey1', 'id2', 'joinKey2']).reset_index().drop(columns='index')\n",
        "\n",
        "# for index, row in cand_df.head(90).iterrows():\n",
        "#     print(row.to_dict())\n",
        "\n",
        "# print()\n",
        "# for index, row in cand_df_expected.head(90).iterrows():\n",
        "#     print(row.to_dict())\n",
        "\n",
        "# print(cand_df)\n",
        "# print(cand_df_expected)\n",
        "\n",
        "# Compare the output with the expected DataFrame\n",
        "assert cand_df.equals(cand_df_expected), \"filtering output does not match expected output\""
      ],
      "metadata": {
        "id": "cCjUROCFmcnj"
      },
      "execution_count": 42,
      "outputs": []
    },
    {
      "cell_type": "markdown",
      "metadata": {
        "id": "gsCIt9jtb3fl"
      },
      "source": [
        "\n",
        "For the purpose of testing, you can compare your output with cand_df that can be found from the `Amazon-Google-Sample` folder."
      ]
    },
    {
      "cell_type": "markdown",
      "metadata": {
        "id": "IMt5OpDcb3fm"
      },
      "source": [
        "### Task C. Computing Jaccard Similarity for Survived Pairs"
      ]
    },
    {
      "cell_type": "markdown",
      "metadata": {
        "id": "J9ExlZpeb3fn"
      },
      "source": [
        "In the second phase of the filtering-and-verification framework, we will compute the Jaccard similarity for each survived pair and return those pairs whose jaccard similarity values are no smaller than the specified threshold.\n",
        "\n",
        "In Task C, your job is to implement the <font color=\"cyan\">verification</font> function. This task looks simple, but there are a few small \"traps\"."
      ]
    },
    {
      "cell_type": "code",
      "source": [
        "# prompt: Compute the jacquard similarity between columns 'joinKey1' and 'joinKey2' and store the result in a new column, called jacquard, in result_df\n",
        "\n",
        "def verification(self, cand_df, threshold):\n",
        "    \"\"\"\n",
        "        Input: $cand_df is the output DataFrame from the 'filtering' function.\n",
        "               $threshold is a float value between (0, 1]\n",
        "\n",
        "        Output: Return a new DataFrame $result_df that represents the ER result.\n",
        "                It has five columns: id1, joinKey1, id2, joinKey2, jaccard\n",
        "\n",
        "        Comments: There are two differences between $cand_df and $result_df\n",
        "                  (1) $result_df adds a new column, called jaccard, which stores the jaccard similarity\n",
        "                      between $joinKey1 and $joinKey2\n",
        "                  (2) $result_df removes the rows whose jaccard similarity is smaller than $threshold\n",
        "    \"\"\"\n",
        "\n",
        "    # Convert both columns to sets for easier computation\n",
        "    import ast\n",
        "\n",
        "    cand_df['joinKey1'] = cand_df['joinKey1'].apply(lambda x: set(ast.literal_eval(x)))\n",
        "    cand_df['joinKey2'] = cand_df['joinKey2'].apply(lambda x: set(ast.literal_eval(x)))\n",
        "\n",
        "    # Compute the Jaccard similarity for each pair, computed as the length of their intersection divided by the length of their union\n",
        "\n",
        "    cand_df['jaccard'] = cand_df.apply(lambda x:\n",
        "        len(x['joinKey1'].intersection(x['joinKey2'])) /\n",
        "        len(x['joinKey1'].union(x['joinKey2'])), axis=1)\n",
        "\n",
        "    # Remove the rows whose Jaccard similarity is smaller than the threshold\n",
        "\n",
        "    result_df = cand_df[cand_df['jaccard'] >= threshold]\n",
        "\n",
        "    # Convert both columns back to strings\n",
        "\n",
        "    result_df['joinKey1'] = result_df['joinKey1'].apply(lambda x: str(x))\n",
        "    result_df['joinKey2'] = result_df['joinKey2'].apply(lambda x: str(x))\n",
        "\n",
        "    return result_df\n"
      ],
      "metadata": {
        "id": "RZDtyCWMZnor"
      },
      "execution_count": null,
      "outputs": []
    },
    {
      "cell_type": "markdown",
      "metadata": {
        "id": "xj7sMwHnb3fn"
      },
      "source": [
        "For the purpose of testing, you can compare your output with result_df that can be found from the `Amazon-Google-Sample` folder."
      ]
    },
    {
      "cell_type": "markdown",
      "metadata": {
        "id": "fHmgZBQvb3fo"
      },
      "source": [
        "### Task D. Evaluating an ER result"
      ]
    },
    {
      "cell_type": "markdown",
      "metadata": {
        "id": "CLsMMQUeb3fp"
      },
      "source": [
        "How should we evaluate an ER result? Before answering this question, let's first recall what the ER result looks like. The goal of ER is to identify all matching record pairs. Thus, the ER result should be a set of identified matching pairs, denoted by R. One thing that we want to know is that what percentage of the pairs in $R$ that are truly matching? This is what Precision can tell us. Let $T$ denote the truly matching pairs in $R$. Precision is defined as:\n",
        "$$Precision = \\frac{|T|}{|R|}$$\n",
        "\n",
        "In addition to Precision, another thing that we care about is that what percentage of truly matching pairs that are identified. This is what Recall can tell us. Let $A$ denote the truly matching pairs in the entire dataset. Recall is defined as:\n",
        "\n",
        "$$Recall = \\frac{|T|}{|A|}$$\n",
        "\n",
        "There is an interesting trade-off between Precision and Recall. As more and more pairs that are identified as matching, Recall increases while Precision potentially decreases. For the extreme case, if we return all the pairs as matching pairs, we will get a perfect Recall (i.e., Recall = 100%) but precision will be the worst. Thus, to balance Precision and Recall, people often use FMeasure to evaluate an ER result:\n",
        "\n",
        "$$FMeasure = \\frac{2*Precision*Recall}{Precision+Recall}$$"
      ]
    },
    {
      "cell_type": "markdown",
      "metadata": {
        "id": "SfxrGVwdb3fq"
      },
      "source": [
        "In Task D, you will be given an ER result as well as the ground truth that tells you what pairs are truly matching. Your job is to calculate Precision, Recall and FMeasure for the result.\n"
      ]
    },
    {
      "cell_type": "code",
      "source": [
        "def evaluate(self, result, ground_truth):\n",
        "    \"\"\"\n",
        "        Input: $result is a list of matching pairs identified by the ER algorithm\n",
        "            $ground_truth is a list of matching pairs labeld by humans\n",
        "\n",
        "        Output: Compute precision, recall, and fmeasure of $result based on $ground_truth, and\n",
        "                return the evaluation result as a triple: (precision, recall, fmeasure)\n",
        "\n",
        "    \"\"\"\n",
        "\n",
        "    # Calculate T, the number of found results also appearing in the ground truth\n",
        "    num = 0\n",
        "\n",
        "    for pair in result:\n",
        "        if pair in ground_truth:\n",
        "            num += 1\n",
        "\n",
        "    T = num\n",
        "    R = len(result)\n",
        "    A = len(ground_truth)\n",
        "\n",
        "    # Calculate precision, |T| / |R| where R is the results found by our algorithm\n",
        "    precision = T / R\n",
        "\n",
        "    # Calculate recall, |T| / |A| where A is the labelled ground truth\n",
        "    recall = T / A\n",
        "\n",
        "    # Calculate fmeasure\n",
        "    fmeasure = (2 * precision * recall) / (precision + recall)\n",
        "\n",
        "    return (precision, recall, fmeasure)"
      ],
      "metadata": {
        "id": "Vfq0nHtLe93A"
      },
      "execution_count": null,
      "outputs": []
    },
    {
      "cell_type": "markdown",
      "metadata": {
        "id": "Ut7e82hFb3fr"
      },
      "source": [
        "## Submission"
      ]
    },
    {
      "cell_type": "markdown",
      "metadata": {
        "id": "Njfvv6NGb3fs"
      },
      "source": [
        "Implement `preprocess_df`, `filtering`, `verification`, and `evaluate` functions in `similarity_join.py`. Submit your code file (`similarity_join.py`)  to the CourSys activity Assignment 2."
      ]
    }
  ],
  "metadata": {
    "kernelspec": {
      "display_name": "Python 3",
      "language": "python",
      "name": "python3"
    },
    "language_info": {
      "codemirror_mode": {
        "name": "ipython",
        "version": 3
      },
      "file_extension": ".py",
      "mimetype": "text/x-python",
      "name": "python",
      "nbconvert_exporter": "python",
      "pygments_lexer": "ipython3",
      "version": "3.11.0 (main, Nov 15 2022, 05:43:36) [Clang 14.0.0 (clang-1400.0.29.202)]"
    },
    "vscode": {
      "interpreter": {
        "hash": "1a1af0ee75eeea9e2e1ee996c87e7a2b11a0bebd85af04bb136d915cefc0abce"
      }
    },
    "colab": {
      "provenance": []
    }
  },
  "nbformat": 4,
  "nbformat_minor": 0
}
{
 "cells": [
  {
   "cell_type": "markdown",
   "metadata": {},
   "source": [
    "# Assignment 11-1: Fairness in Machine Learning\n",
    "\n",
    "## Objectives\n",
    "\n",
    "In this assignment, you will learn how to use [AI Fairness 360](http://aif360.mybluemix.net/) to detect and repair bias in machine learning. \n",
    "\n",
    "Task 1 is a reading task. It is a tutorial helping you understand the basics of AI Fairness 360. Task 2 is the one that requires you to complete.\n",
    "\n",
    "\n",
    "## Task 1. AI Fairness 360 Tutorial"
   ]
  },
  {
   "attachments": {},
   "cell_type": "markdown",
   "metadata": {},
   "source": [
    "### Biases and Machine Learning\n",
    "A machine learning model makes predictions of an outcome for a particular instance. (Given an instance of a loan application, predict if the applicant will repay the loan.) The model makes these predictions based on a training dataset, where many other instances (other loan applications) and actual outcomes (whether they repaid) are provided. Thus, a machine learning algorithm will attempt to find patterns, or generalizations, in the training dataset to use when a prediction for a new instance is needed. (For example, one pattern it might discover is \"if a person has salary > USD 40K and has outstanding debt < USD 5, they will repay the loan\".) In many domains this technique, called supervised machine learning, has worked very well.\n",
    "\n",
    "However, sometimes the patterns that are found may not be desirable or may even be illegal. For example, a loan repay model may determine that age plays a significant role in the prediction of repayment because the training dataset happened to have better repayment for one age group than for another. This raises two problems: 1) the training dataset may not be representative of the true population of people of all age groups, and 2) even if it is representative, it is illegal to base any decision on a applicant's age alone, regardless of whether this is a good prediction based on historical data.\n",
    "\n",
    "AI Fairness 360 is designed to help address this problem with *fairness metrics* and *bias mitigators*.  Fairness metrics can be used to check for bias in machine learning workflows.  Bias mitigators can be used to overcome bias in the workflow to produce a more fair outcome. \n",
    "\n",
    "The loan scenario describes an intuitive example of illegal bias. However, not all undesirable bias in machine learning is illegal it may also exist in more subtle ways.  For example, a loan company may want a diverse portfolio of customers across all income levels, and thus, will deem it undesirable if they are making more loans to high income levels over low income levels.  Although this is not illegal or unethical, it is undesirable for the company's strategy.\n",
    "\n",
    "As these two examples illustrate, a bias detection and/or mitigation toolkit needs to be tailored to the particular bias of interest.  More specifically, it needs to know the attribute or attributes, called *protected attributes*, that are of interest: race is one example of a *protected attribute* and age is a second.\n",
    "\n",
    "### The Machine Learning Workflow\n",
    "To understand how bias can enter a machine learning model, we first review the basics of how a model is created in a supervised machine learning process.  \n",
    "\n",
    "\n",
    "\n",
    "![image](ai360.jpeg)\n",
    "\n",
    "\n",
    "\n",
    "\n",
    "\n",
    "\n",
    "\n",
    "\n",
    "First, the process starts with a *training dataset*, which contains a sequence of instances, where each instance has two components: the features and the correct prediction for those features.  Next, a machine learning algorithm is trained on this training dataset to produce a machine learning model.  This generated model can be used to make a prediction when given a new instance.  A second dataset with features and correct predictions, called a *test dataset*, is used to assess the accuracy of the model.\n",
    "Since this test dataset is the same format as the training dataset, a set of instances of features and prediction pairs, often these two datasets derive from the same initial dataset.  A random partitioning algorithm is used to split the initial dataset into training and test datasets.\n",
    "\n",
    "Bias can enter the system in any of the three steps above.  The training data set may be biased in that its outcomes may be biased towards particular kinds of instances.  The algorithm that creates the model may be biased in that it may generate models that are weighted towards particular features in the input. The test data set may be biased in that it has expectations on correct answers that may be biased.  These three points in the machine learning process represent points for testing and mitigating bias.  In AI Fairness 360 codebase, we call these points *pre-processing*, *in-processing*, and *post-processing*. \n",
    "\n",
    "### AI Fairness 360\n",
    "We are now ready to utilize AI Fairness 360 (`aif360`) to detect and mitigate bias.  We will use the German credit dataset, splitting it into a training and test dataset.  We will look for bias in the creation of a machine learning model to predict if an applicant should be given credit based on various features from a typical credit application.  The protected attribute will be \"Age\", with \"1\" (older than or equal to 25) and \"0\" (younger than 25) being the values for the privileged and unprivileged groups, respectively.\n",
    "For this first tutorial, we will check for bias in the initial training data, mitigate the bias, and recheck.  More sophisticated machine learning workflows are given in the author tutorials and demo notebooks in the codebase.\n",
    "\n",
    "Here are the steps involved\n",
    "#### Step 1: Write import statements\n",
    "#### Step 2: Set bias detection options, load dataset, and split between train and test\n",
    "#### Step 3: Compute fairness metric on original training dataset\n",
    "#### Step 4: Mitigate bias by transforming the original dataset\n",
    "#### Step 5: Compute fairness metric on transformed training dataset\n",
    "\n",
    "### Step 1 Import Statements\n",
    "As with any python program, the first step will be to import the necessary packages.  Below we import several components from the `aif360` package.  We import the GermanDataset, metrics to check for bias, and classes related to the algorithm we will use to mitigate bias."
   ]
  },
  {
   "cell_type": "code",
   "execution_count": 209,
   "metadata": {},
   "outputs": [],
   "source": [
    "# Load all necessary packages\n",
    "import sys\n",
    "sys.path.insert(1, \"../\")  \n",
    "\n",
    "import numpy as np\n",
    "np.random.seed(0)\n",
    "\n",
    "from aif360.datasets import GermanDataset\n",
    "from aif360.metrics import BinaryLabelDatasetMetric\n",
    "from aif360.algorithms.preprocessing import Reweighing\n",
    "\n",
    "from IPython.display import Markdown, display"
   ]
  },
  {
   "cell_type": "markdown",
   "metadata": {},
   "source": [
    "### Step 2 Load dataset, specifying protected attribute, and split dataset into train and test\n",
    "In Step 2 we load the initial dataset, setting the protected attribute to be age.  We then splits the original dataset into training and testing datasets.  Although we will use only  the training dataset in this tutorial, a normal workflow would also use a test dataset for assessing the efficacy (accuracy, fairness, etc.) during the development of a machine learning model.  Finally, we set two variables (to be used in Step 3) for the privileged (1) and unprivileged (0) values for the age attribute.  These are key inputs for detecting and mitigating bias, which will be Step 3 and Step 4.  "
   ]
  },
  {
   "cell_type": "code",
   "execution_count": 210,
   "metadata": {},
   "outputs": [],
   "source": [
    "dataset_orig = GermanDataset(\n",
    "    protected_attribute_names=['age'],           # this dataset also contains protected\n",
    "                                                 # attribute for \"sex\" which we do not\n",
    "                                                 # consider in this evaluation\n",
    "    privileged_classes=[lambda x: x >= 25],      # age >=25 is considered privileged\n",
    "    features_to_drop=['personal_status', 'sex'] # ignore sex-related attributes\n",
    ")\n",
    "\n",
    "dataset_orig_train, dataset_orig_test = dataset_orig.split([0.7], shuffle=True)\n",
    "\n",
    "privileged_groups = [{'age': 1}]\n",
    "unprivileged_groups = [{'age': 0}]"
   ]
  },
  {
   "cell_type": "markdown",
   "metadata": {},
   "source": [
    "### Step 3 Compute fairness metric on original training dataset\n",
    "Now that we've identified the protected attribute 'age' and defined privileged and unprivileged values, we can use aif360 to detect bias in the dataset.  One simple test is to compare the percentage of favorable results for the privileged and unprivileged groups, subtracting the former percentage from the latter.   A negative value indicates less favorable outcomes for the unprivileged groups.  This is implemented in the method called mean_difference on the BinaryLabelDatasetMetric class.  The code below performs this check and displays the output, showing that the difference is -0.169905."
   ]
  },
  {
   "cell_type": "code",
   "execution_count": 211,
   "metadata": {},
   "outputs": [
    {
     "data": {
      "text/markdown": [
       "#### Original training dataset"
      ],
      "text/plain": [
       "<IPython.core.display.Markdown object>"
      ]
     },
     "metadata": {},
     "output_type": "display_data"
    },
    {
     "name": "stdout",
     "output_type": "stream",
     "text": [
      "Difference in mean outcomes between unprivileged and privileged groups = -0.169905\n"
     ]
    }
   ],
   "source": [
    "metric_orig_train = BinaryLabelDatasetMetric(dataset_orig_train, \n",
    "                                             unprivileged_groups=unprivileged_groups,\n",
    "                                             privileged_groups=privileged_groups)\n",
    "display(Markdown(\"#### Original training dataset\"))\n",
    "print(f\"Difference in mean outcomes between unprivileged and privileged groups = {metric_orig_train.mean_difference():.6f}\")"
   ]
  },
  {
   "cell_type": "markdown",
   "metadata": {},
   "source": [
    "### Step 4 Mitigate bias by transforming the original dataset\n",
    "The previous step showed that the privileged group was getting 17% more positive outcomes in the training dataset.   Since this is not desirable, we are going to try to mitigate this bias in the training dataset.  As stated above, this is called _pre-processing_ mitigation because it happens before the creation of the model.  \n",
    "\n",
    "AI Fairness 360 implements several pre-processing mitigation algorithms.  We will choose the Reweighing algorithm [1], which is implemented in the `Reweighing` class in the `aif360.algorithms.preprocessing` package.  This algorithm will transform the dataset to have more equity in positive outcomes on the protected attribute for the privileged and unprivileged groups.\n",
    "\n",
    "We then call the fit and transform methods to perform the transformation, producing a newly transformed training dataset (dataset_transf_train).\n",
    "\n",
    "`[1] F. Kamiran and T. Calders,  \"Data Preprocessing Techniques for Classification without Discrimination,\" Knowledge and Information Systems, 2012.`"
   ]
  },
  {
   "cell_type": "code",
   "execution_count": 212,
   "metadata": {
    "collapsed": true
   },
   "outputs": [
    {
     "data": {
      "text/plain": [
       "array([0.96229508, 0.96229508, 0.96229508, 0.96229508, 0.96229508,\n",
       "       0.96229508, 0.96229508, 0.96229508, 1.25555556, 0.678     ,\n",
       "       1.100625  , 1.100625  , 0.96229508, 0.96229508, 1.100625  ,\n",
       "       0.96229508, 1.25555556, 1.100625  , 0.96229508, 0.96229508,\n",
       "       0.96229508, 0.96229508, 0.96229508, 0.96229508, 0.96229508,\n",
       "       1.100625  , 0.96229508, 0.96229508, 0.96229508, 0.678     ,\n",
       "       0.96229508, 0.96229508, 0.678     , 1.100625  , 0.96229508,\n",
       "       0.678     , 0.96229508, 0.96229508, 1.100625  , 0.96229508,\n",
       "       1.100625  , 0.96229508, 0.96229508, 1.25555556, 0.96229508,\n",
       "       0.678     , 1.100625  , 0.96229508, 0.96229508, 1.25555556,\n",
       "       1.100625  , 1.100625  , 0.96229508, 0.96229508, 1.100625  ,\n",
       "       0.96229508, 0.96229508, 0.96229508, 0.96229508, 0.96229508,\n",
       "       1.100625  , 0.96229508, 0.96229508, 0.96229508, 0.96229508,\n",
       "       0.96229508, 0.96229508, 1.100625  , 0.678     , 0.96229508,\n",
       "       0.96229508, 0.96229508, 0.96229508, 0.96229508, 1.25555556,\n",
       "       1.100625  , 0.96229508, 1.100625  , 1.100625  , 0.96229508,\n",
       "       0.96229508, 0.96229508, 1.25555556, 0.96229508, 0.96229508,\n",
       "       0.96229508, 0.678     , 0.96229508, 0.96229508, 0.96229508,\n",
       "       0.96229508, 0.96229508, 0.96229508, 0.96229508, 0.96229508,\n",
       "       1.100625  , 0.96229508, 0.96229508, 1.25555556, 0.96229508,\n",
       "       0.96229508, 1.25555556, 0.96229508, 0.96229508, 0.96229508,\n",
       "       0.96229508, 0.96229508, 1.100625  , 1.100625  , 0.96229508,\n",
       "       0.96229508, 1.100625  , 1.100625  , 1.25555556, 0.96229508,\n",
       "       0.96229508, 1.100625  , 0.96229508, 0.96229508, 1.25555556,\n",
       "       1.100625  , 0.96229508, 1.25555556, 1.100625  , 0.96229508,\n",
       "       0.96229508, 1.25555556, 0.96229508, 0.96229508, 0.96229508,\n",
       "       0.678     , 0.96229508, 0.678     , 0.96229508, 0.96229508,\n",
       "       1.100625  , 0.96229508, 0.96229508, 0.96229508, 0.96229508,\n",
       "       1.25555556, 0.96229508, 0.96229508, 0.678     , 1.100625  ,\n",
       "       1.100625  , 0.96229508, 0.96229508, 1.100625  , 0.96229508,\n",
       "       0.96229508, 0.96229508, 0.96229508, 1.100625  , 0.96229508,\n",
       "       0.96229508, 1.100625  , 0.96229508, 0.96229508, 0.96229508,\n",
       "       1.100625  , 0.96229508, 0.96229508, 1.100625  , 1.100625  ,\n",
       "       1.100625  , 1.100625  , 0.96229508, 1.100625  , 0.96229508,\n",
       "       0.96229508, 1.25555556, 0.96229508, 1.100625  , 0.96229508,\n",
       "       0.678     , 1.100625  , 1.100625  , 0.96229508, 1.25555556,\n",
       "       0.96229508, 0.96229508, 0.96229508, 1.100625  , 0.96229508,\n",
       "       0.678     , 0.96229508, 0.96229508, 0.96229508, 0.96229508,\n",
       "       1.100625  , 1.100625  , 1.100625  , 0.96229508, 0.96229508,\n",
       "       0.96229508, 0.678     , 0.96229508, 1.100625  , 0.96229508,\n",
       "       0.96229508, 1.100625  , 0.678     , 1.100625  , 1.25555556,\n",
       "       0.96229508, 1.100625  , 0.96229508, 0.96229508, 0.96229508,\n",
       "       1.100625  , 0.96229508, 1.100625  , 0.96229508, 0.96229508,\n",
       "       1.25555556, 0.96229508, 0.96229508, 0.96229508, 0.678     ,\n",
       "       0.678     , 0.96229508, 1.25555556, 0.96229508, 0.96229508,\n",
       "       0.96229508, 1.25555556, 1.100625  , 1.100625  , 1.25555556,\n",
       "       0.96229508, 0.678     , 1.100625  , 0.96229508, 1.100625  ,\n",
       "       1.25555556, 0.96229508, 0.96229508, 0.96229508, 1.100625  ,\n",
       "       1.100625  , 0.96229508, 0.96229508, 1.100625  , 0.96229508,\n",
       "       0.96229508, 0.96229508, 0.96229508, 0.96229508, 0.96229508,\n",
       "       0.96229508, 0.96229508, 0.96229508, 0.96229508, 0.96229508,\n",
       "       0.96229508, 0.96229508, 0.96229508, 0.96229508, 0.96229508,\n",
       "       0.96229508, 0.96229508, 1.25555556, 0.96229508, 0.96229508,\n",
       "       1.100625  , 0.96229508, 0.678     , 0.96229508, 1.100625  ,\n",
       "       1.100625  , 1.100625  , 0.96229508, 0.96229508, 0.96229508,\n",
       "       0.96229508, 0.96229508, 0.96229508, 1.100625  , 1.100625  ,\n",
       "       0.96229508, 0.96229508, 0.96229508, 0.96229508, 1.100625  ,\n",
       "       1.25555556, 0.96229508, 0.96229508, 0.96229508, 0.96229508,\n",
       "       0.96229508, 0.96229508, 1.25555556, 0.96229508, 1.100625  ,\n",
       "       1.25555556, 0.678     , 0.96229508, 1.100625  , 1.100625  ,\n",
       "       1.100625  , 1.100625  , 0.96229508, 0.96229508, 0.96229508,\n",
       "       1.25555556, 1.100625  , 1.100625  , 1.100625  , 0.96229508,\n",
       "       1.100625  , 1.100625  , 0.96229508, 0.96229508, 1.25555556,\n",
       "       0.96229508, 1.25555556, 0.96229508, 0.96229508, 0.96229508,\n",
       "       0.96229508, 0.96229508, 0.96229508, 1.100625  , 0.96229508,\n",
       "       1.100625  , 0.96229508, 1.100625  , 0.96229508, 0.96229508,\n",
       "       0.96229508, 0.96229508, 0.96229508, 0.96229508, 0.96229508,\n",
       "       0.96229508, 1.100625  , 0.96229508, 1.100625  , 1.25555556,\n",
       "       1.100625  , 0.96229508, 0.678     , 1.25555556, 0.96229508,\n",
       "       0.678     , 1.100625  , 0.96229508, 1.100625  , 1.100625  ,\n",
       "       0.96229508, 0.96229508, 0.96229508, 0.96229508, 0.96229508,\n",
       "       0.96229508, 0.96229508, 1.100625  , 1.100625  , 1.25555556,\n",
       "       1.25555556, 0.96229508, 1.100625  , 1.100625  , 0.96229508,\n",
       "       0.96229508, 1.100625  , 0.96229508, 1.100625  , 0.678     ,\n",
       "       0.96229508, 1.100625  , 0.96229508, 1.25555556, 0.96229508,\n",
       "       1.100625  , 0.678     , 0.96229508, 0.96229508, 0.96229508,\n",
       "       0.678     , 1.25555556, 0.96229508, 1.25555556, 0.678     ,\n",
       "       1.100625  , 1.100625  , 0.96229508, 0.96229508, 0.678     ,\n",
       "       0.96229508, 0.96229508, 0.96229508, 0.96229508, 1.100625  ,\n",
       "       0.96229508, 0.96229508, 0.678     , 1.25555556, 1.100625  ,\n",
       "       0.96229508, 0.96229508, 0.678     , 0.96229508, 0.96229508,\n",
       "       1.100625  , 1.100625  , 0.96229508, 1.100625  , 1.100625  ,\n",
       "       0.96229508, 0.96229508, 0.96229508, 0.96229508, 0.96229508,\n",
       "       0.96229508, 0.96229508, 0.96229508, 0.96229508, 0.678     ,\n",
       "       0.96229508, 0.96229508, 0.96229508, 1.25555556, 0.96229508,\n",
       "       0.96229508, 0.96229508, 0.678     , 0.96229508, 1.100625  ,\n",
       "       0.96229508, 0.96229508, 0.96229508, 0.96229508, 0.96229508,\n",
       "       0.96229508, 1.100625  , 0.96229508, 1.100625  , 0.678     ,\n",
       "       0.96229508, 0.96229508, 0.96229508, 0.96229508, 0.96229508,\n",
       "       0.96229508, 0.96229508, 1.25555556, 0.678     , 1.100625  ,\n",
       "       0.96229508, 1.100625  , 0.96229508, 1.100625  , 0.96229508,\n",
       "       1.25555556, 0.96229508, 0.96229508, 1.25555556, 1.100625  ,\n",
       "       1.100625  , 1.100625  , 0.96229508, 0.96229508, 0.96229508,\n",
       "       0.96229508, 1.25555556, 0.96229508, 0.96229508, 0.678     ,\n",
       "       1.100625  , 0.96229508, 0.96229508, 0.96229508, 0.96229508,\n",
       "       0.96229508, 1.25555556, 1.100625  , 0.96229508, 0.96229508,\n",
       "       0.96229508, 1.25555556, 0.96229508, 0.96229508, 1.100625  ,\n",
       "       0.96229508, 1.100625  , 1.25555556, 0.96229508, 1.100625  ,\n",
       "       1.25555556, 0.96229508, 1.100625  , 0.96229508, 0.96229508,\n",
       "       1.100625  , 1.100625  , 0.96229508, 0.96229508, 1.100625  ,\n",
       "       1.100625  , 0.96229508, 0.96229508, 0.96229508, 0.678     ,\n",
       "       0.96229508, 0.96229508, 0.96229508, 1.100625  , 0.96229508,\n",
       "       0.96229508, 0.96229508, 0.96229508, 1.25555556, 0.96229508,\n",
       "       0.96229508, 0.96229508, 0.96229508, 0.96229508, 0.96229508,\n",
       "       0.96229508, 1.100625  , 1.100625  , 0.96229508, 0.96229508,\n",
       "       0.96229508, 1.25555556, 0.96229508, 0.96229508, 0.96229508,\n",
       "       0.96229508, 1.100625  , 0.96229508, 0.96229508, 1.25555556,\n",
       "       0.96229508, 1.100625  , 1.100625  , 0.96229508, 0.96229508,\n",
       "       1.25555556, 0.96229508, 0.96229508, 0.96229508, 0.96229508,\n",
       "       0.678     , 0.96229508, 1.100625  , 1.25555556, 0.96229508,\n",
       "       0.96229508, 0.96229508, 1.25555556, 0.678     , 0.96229508,\n",
       "       0.96229508, 1.25555556, 0.678     , 0.96229508, 0.96229508,\n",
       "       0.96229508, 0.96229508, 0.96229508, 0.96229508, 1.100625  ,\n",
       "       0.96229508, 0.678     , 1.100625  , 1.100625  , 1.100625  ,\n",
       "       0.96229508, 1.100625  , 0.96229508, 1.100625  , 0.96229508,\n",
       "       0.96229508, 0.96229508, 0.96229508, 0.678     , 1.100625  ,\n",
       "       0.96229508, 0.96229508, 0.678     , 1.25555556, 0.96229508,\n",
       "       0.96229508, 0.96229508, 1.100625  , 0.96229508, 1.100625  ,\n",
       "       1.100625  , 0.96229508, 0.678     , 0.96229508, 0.96229508,\n",
       "       1.100625  , 0.96229508, 0.96229508, 0.96229508, 0.96229508,\n",
       "       1.100625  , 0.96229508, 0.678     , 1.100625  , 1.100625  ,\n",
       "       0.678     , 0.96229508, 1.100625  , 0.96229508, 0.678     ,\n",
       "       0.96229508, 1.25555556, 0.678     , 1.25555556, 0.96229508,\n",
       "       0.96229508, 0.96229508, 1.100625  , 0.96229508, 0.96229508,\n",
       "       1.100625  , 1.100625  , 0.96229508, 0.96229508, 0.96229508,\n",
       "       0.96229508, 0.96229508, 0.96229508, 0.96229508, 1.100625  ,\n",
       "       0.96229508, 0.96229508, 0.96229508, 0.96229508, 0.96229508,\n",
       "       0.678     , 1.25555556, 0.96229508, 0.96229508, 0.96229508,\n",
       "       0.96229508, 0.96229508, 0.96229508, 0.678     , 0.96229508,\n",
       "       0.96229508, 1.100625  , 0.678     , 1.100625  , 1.100625  ,\n",
       "       1.25555556, 0.96229508, 0.96229508, 0.96229508, 0.96229508,\n",
       "       0.96229508, 1.100625  , 0.96229508, 0.96229508, 1.100625  ,\n",
       "       1.100625  , 0.96229508, 0.96229508, 0.96229508, 0.96229508,\n",
       "       1.100625  , 0.96229508, 1.25555556, 1.100625  , 0.96229508,\n",
       "       0.678     , 0.96229508, 1.25555556, 0.96229508, 0.96229508,\n",
       "       0.678     , 1.25555556, 1.25555556, 0.96229508, 0.96229508,\n",
       "       0.96229508, 1.100625  , 0.96229508, 1.100625  , 0.96229508,\n",
       "       1.100625  , 1.100625  , 1.100625  , 1.100625  , 0.96229508,\n",
       "       0.96229508, 1.100625  , 1.100625  , 0.96229508, 0.96229508,\n",
       "       0.96229508, 1.25555556, 1.25555556, 0.96229508, 0.96229508])"
      ]
     },
     "execution_count": 212,
     "metadata": {},
     "output_type": "execute_result"
    }
   ],
   "source": [
    "RW = Reweighing(unprivileged_groups=unprivileged_groups,\n",
    "                privileged_groups=privileged_groups)\n",
    "dataset_transf_train = RW.fit_transform(dataset_orig_train)\n",
    "dataset_transf_train.instance_weights"
   ]
  },
  {
   "cell_type": "markdown",
   "metadata": {},
   "source": [
    "### Step 5 Compute fairness metric on transformed dataset\n",
    "Now that we have a transformed dataset, we can check how effective it was in removing bias by using the same metric we used for the original training dataset in Step 3.  Once again, we use the function mean_difference in the BinaryLabelDatasetMetric class.   We see the mitigation step was very effective, the difference in mean outcomes is now 0.0.  So we went from a 17% advantage for the privileged group to equality in terms of mean outcome."
   ]
  },
  {
   "cell_type": "code",
   "execution_count": 213,
   "metadata": {},
   "outputs": [
    {
     "data": {
      "text/markdown": [
       "#### Transformed training dataset"
      ],
      "text/plain": [
       "<IPython.core.display.Markdown object>"
      ]
     },
     "metadata": {},
     "output_type": "display_data"
    },
    {
     "name": "stdout",
     "output_type": "stream",
     "text": [
      "Difference in mean outcomes between unprivileged and privileged groups = 0.000000\n"
     ]
    }
   ],
   "source": [
    "metric_transf_train = BinaryLabelDatasetMetric(dataset_transf_train, \n",
    "                                               unprivileged_groups=unprivileged_groups,\n",
    "                                               privileged_groups=privileged_groups)\n",
    "display(Markdown(\"#### Transformed training dataset\"))\n",
    "print(\"Difference in mean outcomes between unprivileged and privileged groups = %f\" % metric_transf_train.mean_difference())"
   ]
  },
  {
   "attachments": {},
   "cell_type": "markdown",
   "metadata": {},
   "source": [
    "## Task 2. Evaluate and mitigate bias on the Titanic Dataset\n",
    "\n",
    "[Titanic](https://www.kaggle.com/c/titanic) is a famous competition in Kaggle. However, Titanic models typically rely too heavily on sex as a feature. Your goal in this task is to apply the same procedure above to the titanic dataset (Step 1-5) and compare the accuracy of an original model and the \"fair\" model (Step 6).\n",
    "\n"
   ]
  },
  {
   "cell_type": "markdown",
   "metadata": {},
   "source": [
    "### Repeat \"Step 1-5\" on the Titanic dataset\n",
    "Please note that `sex` (rather than `age`) is the protected attribute.\n",
    "\n",
    "* Step 1: Write import statements\n",
    "* Step 2: Set bias detection options, load dataset, and split between train and test\n",
    "* Step 3: Compute fairness metric on original training dataset\n",
    "* Step 4: Mitigate bias by transforming the original dataset\n",
    "* Step 5: Compute fairness metric on transformed training dataset"
   ]
  },
  {
   "cell_type": "code",
   "execution_count": 214,
   "metadata": {},
   "outputs": [],
   "source": [
    "import pandas as pd\n",
    "from aif360.datasets import BinaryLabelDataset\n",
    "from sklearn.linear_model import LogisticRegression\n",
    "from sklearn.metrics import accuracy_score\n",
    "from sklearn.preprocessing import MinMaxScaler"
   ]
  },
  {
   "cell_type": "code",
   "execution_count": 215,
   "metadata": {},
   "outputs": [],
   "source": [
    "## Write your code\n",
    "titanic_data = pd.read_csv(\"titanic/train.csv\")\n",
    "titanic_data['Sex'] = titanic_data['Sex'].apply(lambda x: 1 if x == 'female' else 0)\n",
    "titanic_data = titanic_data[titanic_data['Embarked'].notna() & titanic_data['Age'].notna()]\n",
    "\n",
    "# Prepare X, Convert X['Sex'] to binary\n",
    "X = titanic_data.drop(['Survived', 'Name', 'Ticket', 'Cabin','PassengerId',], axis=1)\n",
    "X = pd.get_dummies(X, columns=['Embarked'])\n",
    "scaler = MinMaxScaler()\n",
    "X_scaled = scaler.fit_transform(X)\n",
    "X = pd.DataFrame(X_scaled, index=X.index, columns=X.columns)\n",
    "\n",
    "# Prepare y\n",
    "y = pd.DataFrame(titanic_data['Survived'])"
   ]
  },
  {
   "cell_type": "code",
   "execution_count": 216,
   "metadata": {},
   "outputs": [
    {
     "data": {
      "text/html": [
       "<div>\n",
       "<style scoped>\n",
       "    .dataframe tbody tr th:only-of-type {\n",
       "        vertical-align: middle;\n",
       "    }\n",
       "\n",
       "    .dataframe tbody tr th {\n",
       "        vertical-align: top;\n",
       "    }\n",
       "\n",
       "    .dataframe thead th {\n",
       "        text-align: right;\n",
       "    }\n",
       "</style>\n",
       "<table border=\"1\" class=\"dataframe\">\n",
       "  <thead>\n",
       "    <tr style=\"text-align: right;\">\n",
       "      <th></th>\n",
       "      <th>Pclass</th>\n",
       "      <th>Sex</th>\n",
       "      <th>Age</th>\n",
       "      <th>SibSp</th>\n",
       "      <th>Parch</th>\n",
       "      <th>Fare</th>\n",
       "      <th>Embarked_C</th>\n",
       "      <th>Embarked_Q</th>\n",
       "      <th>Embarked_S</th>\n",
       "      <th>Survived</th>\n",
       "    </tr>\n",
       "  </thead>\n",
       "  <tbody>\n",
       "    <tr>\n",
       "      <th>0</th>\n",
       "      <td>1.0</td>\n",
       "      <td>0.0</td>\n",
       "      <td>0.271174</td>\n",
       "      <td>0.2</td>\n",
       "      <td>0.000000</td>\n",
       "      <td>0.014151</td>\n",
       "      <td>0.0</td>\n",
       "      <td>0.0</td>\n",
       "      <td>1.0</td>\n",
       "      <td>0</td>\n",
       "    </tr>\n",
       "    <tr>\n",
       "      <th>1</th>\n",
       "      <td>0.0</td>\n",
       "      <td>1.0</td>\n",
       "      <td>0.472229</td>\n",
       "      <td>0.2</td>\n",
       "      <td>0.000000</td>\n",
       "      <td>0.139136</td>\n",
       "      <td>1.0</td>\n",
       "      <td>0.0</td>\n",
       "      <td>0.0</td>\n",
       "      <td>1</td>\n",
       "    </tr>\n",
       "    <tr>\n",
       "      <th>2</th>\n",
       "      <td>1.0</td>\n",
       "      <td>1.0</td>\n",
       "      <td>0.321438</td>\n",
       "      <td>0.0</td>\n",
       "      <td>0.000000</td>\n",
       "      <td>0.015469</td>\n",
       "      <td>0.0</td>\n",
       "      <td>0.0</td>\n",
       "      <td>1.0</td>\n",
       "      <td>1</td>\n",
       "    </tr>\n",
       "    <tr>\n",
       "      <th>3</th>\n",
       "      <td>0.0</td>\n",
       "      <td>1.0</td>\n",
       "      <td>0.434531</td>\n",
       "      <td>0.2</td>\n",
       "      <td>0.000000</td>\n",
       "      <td>0.103644</td>\n",
       "      <td>0.0</td>\n",
       "      <td>0.0</td>\n",
       "      <td>1.0</td>\n",
       "      <td>1</td>\n",
       "    </tr>\n",
       "    <tr>\n",
       "      <th>4</th>\n",
       "      <td>1.0</td>\n",
       "      <td>0.0</td>\n",
       "      <td>0.434531</td>\n",
       "      <td>0.0</td>\n",
       "      <td>0.000000</td>\n",
       "      <td>0.015713</td>\n",
       "      <td>0.0</td>\n",
       "      <td>0.0</td>\n",
       "      <td>1.0</td>\n",
       "      <td>0</td>\n",
       "    </tr>\n",
       "    <tr>\n",
       "      <th>...</th>\n",
       "      <td>...</td>\n",
       "      <td>...</td>\n",
       "      <td>...</td>\n",
       "      <td>...</td>\n",
       "      <td>...</td>\n",
       "      <td>...</td>\n",
       "      <td>...</td>\n",
       "      <td>...</td>\n",
       "      <td>...</td>\n",
       "      <td>...</td>\n",
       "    </tr>\n",
       "    <tr>\n",
       "      <th>880</th>\n",
       "      <td>0.5</td>\n",
       "      <td>1.0</td>\n",
       "      <td>0.308872</td>\n",
       "      <td>0.0</td>\n",
       "      <td>0.166667</td>\n",
       "      <td>0.050749</td>\n",
       "      <td>0.0</td>\n",
       "      <td>0.0</td>\n",
       "      <td>1.0</td>\n",
       "      <td>1</td>\n",
       "    </tr>\n",
       "    <tr>\n",
       "      <th>881</th>\n",
       "      <td>1.0</td>\n",
       "      <td>0.0</td>\n",
       "      <td>0.409399</td>\n",
       "      <td>0.0</td>\n",
       "      <td>0.000000</td>\n",
       "      <td>0.015412</td>\n",
       "      <td>0.0</td>\n",
       "      <td>0.0</td>\n",
       "      <td>1.0</td>\n",
       "      <td>0</td>\n",
       "    </tr>\n",
       "    <tr>\n",
       "      <th>882</th>\n",
       "      <td>1.0</td>\n",
       "      <td>1.0</td>\n",
       "      <td>0.271174</td>\n",
       "      <td>0.0</td>\n",
       "      <td>0.000000</td>\n",
       "      <td>0.020527</td>\n",
       "      <td>0.0</td>\n",
       "      <td>0.0</td>\n",
       "      <td>1.0</td>\n",
       "      <td>0</td>\n",
       "    </tr>\n",
       "    <tr>\n",
       "      <th>883</th>\n",
       "      <td>0.5</td>\n",
       "      <td>0.0</td>\n",
       "      <td>0.346569</td>\n",
       "      <td>0.0</td>\n",
       "      <td>0.000000</td>\n",
       "      <td>0.020495</td>\n",
       "      <td>0.0</td>\n",
       "      <td>0.0</td>\n",
       "      <td>1.0</td>\n",
       "      <td>0</td>\n",
       "    </tr>\n",
       "    <tr>\n",
       "      <th>884</th>\n",
       "      <td>1.0</td>\n",
       "      <td>0.0</td>\n",
       "      <td>0.308872</td>\n",
       "      <td>0.0</td>\n",
       "      <td>0.000000</td>\n",
       "      <td>0.013761</td>\n",
       "      <td>0.0</td>\n",
       "      <td>0.0</td>\n",
       "      <td>1.0</td>\n",
       "      <td>0</td>\n",
       "    </tr>\n",
       "  </tbody>\n",
       "</table>\n",
       "<p>707 rows × 10 columns</p>\n",
       "</div>"
      ],
      "text/plain": [
       "     Pclass  Sex       Age  SibSp     Parch      Fare  Embarked_C  Embarked_Q  \\\n",
       "0       1.0  0.0  0.271174    0.2  0.000000  0.014151         0.0         0.0   \n",
       "1       0.0  1.0  0.472229    0.2  0.000000  0.139136         1.0         0.0   \n",
       "2       1.0  1.0  0.321438    0.0  0.000000  0.015469         0.0         0.0   \n",
       "3       0.0  1.0  0.434531    0.2  0.000000  0.103644         0.0         0.0   \n",
       "4       1.0  0.0  0.434531    0.0  0.000000  0.015713         0.0         0.0   \n",
       "..      ...  ...       ...    ...       ...       ...         ...         ...   \n",
       "880     0.5  1.0  0.308872    0.0  0.166667  0.050749         0.0         0.0   \n",
       "881     1.0  0.0  0.409399    0.0  0.000000  0.015412         0.0         0.0   \n",
       "882     1.0  1.0  0.271174    0.0  0.000000  0.020527         0.0         0.0   \n",
       "883     0.5  0.0  0.346569    0.0  0.000000  0.020495         0.0         0.0   \n",
       "884     1.0  0.0  0.308872    0.0  0.000000  0.013761         0.0         0.0   \n",
       "\n",
       "     Embarked_S  Survived  \n",
       "0           1.0         0  \n",
       "1           0.0         1  \n",
       "2           1.0         1  \n",
       "3           1.0         1  \n",
       "4           1.0         0  \n",
       "..          ...       ...  \n",
       "880         1.0         1  \n",
       "881         1.0         0  \n",
       "882         1.0         0  \n",
       "883         1.0         0  \n",
       "884         1.0         0  \n",
       "\n",
       "[707 rows x 10 columns]"
      ]
     },
     "execution_count": 216,
     "metadata": {},
     "output_type": "execute_result"
    }
   ],
   "source": [
    "data_before_bld = pd.concat([X, y], axis=1)\n",
    "data_before_bld.head(-5)"
   ]
  },
  {
   "cell_type": "code",
   "execution_count": 217,
   "metadata": {},
   "outputs": [],
   "source": [
    "# Create a BinaryLabelDataset\n",
    "bld = BinaryLabelDataset(\n",
    "    favorable_label=1,\n",
    "    unfavorable_label=0,\n",
    "    df=data_before_bld,\n",
    "    label_names=['Survived'],\n",
    "    protected_attribute_names=['Sex']\n",
    ")\n",
    "\n",
    "bld_orig_train, bld_orig_test = bld.split([0.7], shuffle=True)\n",
    "\n",
    "privileged_groups = [{'Sex': 1.0}] # Women are privileged\n",
    "unprivileged_groups = [{'Sex': 0.0}]"
   ]
  },
  {
   "cell_type": "code",
   "execution_count": 218,
   "metadata": {},
   "outputs": [
    {
     "name": "stdout",
     "output_type": "stream",
     "text": [
      "Original training dataset: Difference in mean outcomes = -0.560370\n"
     ]
    }
   ],
   "source": [
    "metric_orig_train = BinaryLabelDatasetMetric(bld_orig_train, \n",
    "                                             unprivileged_groups=unprivileged_groups,\n",
    "                                             privileged_groups=privileged_groups)\n",
    "print(f\"Original training dataset: Difference in mean outcomes = {metric_orig_train.mean_difference():.6f}\")\n"
   ]
  },
  {
   "cell_type": "code",
   "execution_count": 219,
   "metadata": {},
   "outputs": [
    {
     "data": {
      "text/plain": [
       "array([0.74114056, 0.74114056, 0.74114056, 0.537751  , 0.537751  ,\n",
       "       0.537751  , 0.74114056, 0.74114056, 0.74114056, 1.98052817,\n",
       "       2.54082999, 0.74114056, 0.74114056, 0.537751  , 0.537751  ,\n",
       "       0.74114056, 1.98052817, 0.537751  , 1.98052817, 0.74114056,\n",
       "       0.537751  , 1.98052817, 0.74114056, 0.537751  , 0.74114056,\n",
       "       0.74114056, 1.98052817, 0.74114056, 0.74114056, 0.74114056,\n",
       "       0.537751  , 0.74114056, 0.74114056, 0.74114056, 0.537751  ,\n",
       "       0.537751  , 0.74114056, 2.54082999, 0.537751  , 0.74114056,\n",
       "       1.98052817, 0.74114056, 0.74114056, 0.537751  , 0.74114056,\n",
       "       0.74114056, 0.537751  , 1.98052817, 0.537751  , 0.74114056,\n",
       "       0.74114056, 0.74114056, 0.74114056, 0.537751  , 0.537751  ,\n",
       "       2.54082999, 1.98052817, 0.74114056, 0.74114056, 0.74114056,\n",
       "       0.74114056, 0.537751  , 0.74114056, 0.74114056, 0.74114056,\n",
       "       0.537751  , 1.98052817, 0.537751  , 0.74114056, 0.74114056,\n",
       "       2.54082999, 0.74114056, 0.537751  , 0.537751  , 0.74114056,\n",
       "       0.537751  , 0.537751  , 0.537751  , 0.537751  , 0.74114056,\n",
       "       2.54082999, 0.537751  , 0.537751  , 0.74114056, 0.74114056,\n",
       "       0.74114056, 2.54082999, 0.537751  , 1.98052817, 0.74114056,\n",
       "       2.54082999, 0.74114056, 0.537751  , 0.74114056, 0.74114056,\n",
       "       0.74114056, 2.54082999, 0.74114056, 0.74114056, 0.74114056,\n",
       "       0.74114056, 1.98052817, 0.537751  , 0.74114056, 0.537751  ,\n",
       "       1.98052817, 1.98052817, 0.74114056, 0.74114056, 1.98052817,\n",
       "       0.74114056, 1.98052817, 0.74114056, 0.74114056, 0.74114056,\n",
       "       0.74114056, 1.98052817, 0.74114056, 1.98052817, 0.74114056,\n",
       "       0.74114056, 0.74114056, 0.537751  , 0.74114056, 1.98052817,\n",
       "       0.74114056, 0.537751  , 0.537751  , 0.537751  , 1.98052817,\n",
       "       0.537751  , 0.74114056, 0.74114056, 1.98052817, 0.537751  ,\n",
       "       0.537751  , 0.537751  , 0.74114056, 0.537751  , 0.74114056,\n",
       "       0.74114056, 0.74114056, 0.74114056, 0.74114056, 0.74114056,\n",
       "       0.537751  , 2.54082999, 0.74114056, 0.74114056, 0.537751  ,\n",
       "       0.537751  , 1.98052817, 0.537751  , 0.74114056, 0.74114056,\n",
       "       0.537751  , 0.74114056, 0.74114056, 0.537751  , 2.54082999,\n",
       "       0.537751  , 0.74114056, 0.74114056, 0.74114056, 0.537751  ,\n",
       "       0.537751  , 0.74114056, 0.74114056, 0.74114056, 0.74114056,\n",
       "       0.74114056, 0.74114056, 0.74114056, 0.537751  , 1.98052817,\n",
       "       0.74114056, 0.74114056, 0.537751  , 0.537751  , 0.537751  ,\n",
       "       0.74114056, 0.74114056, 0.74114056, 0.74114056, 0.74114056,\n",
       "       2.54082999, 0.537751  , 0.74114056, 2.54082999, 0.537751  ,\n",
       "       0.74114056, 0.74114056, 0.537751  , 0.74114056, 0.537751  ,\n",
       "       2.54082999, 1.98052817, 0.74114056, 0.74114056, 0.537751  ,\n",
       "       2.54082999, 0.537751  , 0.537751  , 0.74114056, 0.74114056,\n",
       "       2.54082999, 2.54082999, 0.74114056, 0.74114056, 0.537751  ,\n",
       "       0.74114056, 1.98052817, 0.537751  , 0.537751  , 1.98052817,\n",
       "       0.74114056, 2.54082999, 0.74114056, 0.537751  , 0.74114056,\n",
       "       1.98052817, 0.537751  , 0.74114056, 0.74114056, 0.74114056,\n",
       "       0.74114056, 0.537751  , 0.74114056, 0.74114056, 0.74114056,\n",
       "       0.74114056, 1.98052817, 0.74114056, 0.74114056, 0.537751  ,\n",
       "       0.74114056, 0.74114056, 0.74114056, 2.54082999, 0.537751  ,\n",
       "       0.537751  , 1.98052817, 1.98052817, 1.98052817, 0.74114056,\n",
       "       0.74114056, 0.74114056, 2.54082999, 0.74114056, 1.98052817,\n",
       "       0.537751  , 0.537751  , 0.537751  , 0.537751  , 1.98052817,\n",
       "       0.74114056, 0.74114056, 0.74114056, 0.74114056, 0.74114056,\n",
       "       0.74114056, 1.98052817, 2.54082999, 0.74114056, 0.74114056,\n",
       "       0.537751  , 2.54082999, 0.537751  , 0.74114056, 2.54082999,\n",
       "       1.98052817, 0.537751  , 0.74114056, 0.537751  , 0.537751  ,\n",
       "       0.74114056, 0.74114056, 0.74114056, 0.537751  , 0.537751  ,\n",
       "       1.98052817, 1.98052817, 1.98052817, 0.74114056, 0.74114056,\n",
       "       0.74114056, 1.98052817, 0.74114056, 0.74114056, 0.537751  ,\n",
       "       0.74114056, 0.537751  , 0.537751  , 0.537751  , 2.54082999,\n",
       "       0.74114056, 0.74114056, 0.74114056, 2.54082999, 0.74114056,\n",
       "       1.98052817, 0.74114056, 0.537751  , 0.74114056, 0.74114056,\n",
       "       0.537751  , 2.54082999, 0.74114056, 0.74114056, 0.74114056,\n",
       "       0.74114056, 1.98052817, 0.74114056, 0.74114056, 0.537751  ,\n",
       "       0.74114056, 0.74114056, 0.537751  , 1.98052817, 0.74114056,\n",
       "       2.54082999, 0.74114056, 2.54082999, 0.74114056, 2.54082999,\n",
       "       0.537751  , 0.74114056, 0.74114056, 1.98052817, 2.54082999,\n",
       "       1.98052817, 0.537751  , 0.74114056, 0.74114056, 1.98052817,\n",
       "       1.98052817, 0.74114056, 0.537751  , 1.98052817, 0.74114056,\n",
       "       0.537751  , 0.74114056, 0.74114056, 1.98052817, 2.54082999,\n",
       "       2.54082999, 0.537751  , 0.74114056, 0.74114056, 0.74114056,\n",
       "       0.74114056, 0.537751  , 0.537751  , 0.74114056, 0.537751  ,\n",
       "       0.74114056, 0.537751  , 0.74114056, 0.74114056, 0.74114056,\n",
       "       0.74114056, 0.537751  , 0.537751  , 1.98052817, 0.74114056,\n",
       "       1.98052817, 0.74114056, 0.537751  , 0.537751  , 0.537751  ,\n",
       "       0.74114056, 0.74114056, 0.74114056, 1.98052817, 1.98052817,\n",
       "       0.537751  , 0.74114056, 0.537751  , 0.74114056, 0.537751  ,\n",
       "       0.74114056, 0.537751  , 0.537751  , 0.537751  , 0.74114056,\n",
       "       0.74114056, 2.54082999, 0.74114056, 0.537751  , 0.74114056,\n",
       "       0.537751  , 0.74114056, 0.74114056, 1.98052817, 2.54082999,\n",
       "       1.98052817, 0.74114056, 0.537751  , 0.537751  , 1.98052817,\n",
       "       0.74114056, 0.74114056, 0.74114056, 0.74114056, 0.74114056,\n",
       "       0.74114056, 0.74114056, 1.98052817, 0.537751  , 0.74114056,\n",
       "       0.74114056, 0.74114056, 0.537751  , 0.537751  , 2.54082999,\n",
       "       1.98052817, 0.537751  , 0.74114056, 0.537751  , 0.74114056,\n",
       "       0.74114056, 1.98052817, 0.74114056, 0.74114056, 0.74114056,\n",
       "       0.537751  , 0.74114056, 0.537751  , 0.74114056, 0.537751  ,\n",
       "       2.54082999, 2.54082999, 2.54082999, 0.537751  , 0.537751  ,\n",
       "       0.74114056, 0.74114056, 1.98052817, 1.98052817, 0.537751  ,\n",
       "       0.537751  , 1.98052817, 2.54082999, 2.54082999, 0.74114056,\n",
       "       0.74114056, 0.537751  , 0.74114056, 1.98052817, 0.74114056,\n",
       "       0.74114056, 2.54082999, 0.537751  , 0.74114056, 0.537751  ,\n",
       "       0.74114056, 0.74114056, 0.537751  , 0.74114056, 0.537751  ,\n",
       "       0.74114056, 1.98052817, 0.537751  , 0.74114056, 0.74114056,\n",
       "       0.74114056, 1.98052817, 2.54082999, 0.74114056, 0.537751  ,\n",
       "       0.537751  , 0.537751  , 0.537751  , 1.98052817, 0.74114056,\n",
       "       0.74114056, 0.74114056, 0.74114056, 0.74114056, 0.74114056,\n",
       "       0.537751  , 0.74114056, 1.98052817, 0.74114056, 0.74114056,\n",
       "       0.74114056, 0.74114056, 0.537751  , 0.537751  , 1.98052817,\n",
       "       0.74114056, 0.74114056, 0.74114056, 0.74114056, 0.537751  ,\n",
       "       2.54082999, 0.74114056, 0.537751  ])"
      ]
     },
     "execution_count": 219,
     "metadata": {},
     "output_type": "execute_result"
    }
   ],
   "source": [
    "RW = Reweighing(unprivileged_groups=unprivileged_groups,\n",
    "                privileged_groups=privileged_groups)\n",
    "bld_trans_train = RW.fit_transform(bld_orig_train)\n",
    "bld_trans_train.instance_weights"
   ]
  },
  {
   "cell_type": "code",
   "execution_count": 220,
   "metadata": {},
   "outputs": [
    {
     "data": {
      "text/markdown": [
       "#### Transformed training dataset"
      ],
      "text/plain": [
       "<IPython.core.display.Markdown object>"
      ]
     },
     "metadata": {},
     "output_type": "display_data"
    },
    {
     "name": "stdout",
     "output_type": "stream",
     "text": [
      "Difference in mean outcomes between unprivileged and privileged groups = -0.000000\n"
     ]
    }
   ],
   "source": [
    "metric_transf_train = BinaryLabelDatasetMetric(bld_trans_train, \n",
    "                                               unprivileged_groups=unprivileged_groups,\n",
    "                                               privileged_groups=privileged_groups)\n",
    "display(Markdown(\"#### Transformed training dataset\"))\n",
    "print(\"Difference in mean outcomes between unprivileged and privileged groups = %f\" % metric_transf_train.mean_difference())"
   ]
  },
  {
   "cell_type": "markdown",
   "metadata": {},
   "source": [
    "### Step 6 Compare the performance of the models"
   ]
  },
  {
   "cell_type": "markdown",
   "metadata": {},
   "source": [
    "Train two logistic regression models: one on the original training dataset and the other on the transformed dataset. Compare the accuracy of the two models on the same test dataset. Note that reweighting is only applied on the training data **not** on the test dataset."
   ]
  },
  {
   "cell_type": "code",
   "execution_count": 221,
   "metadata": {},
   "outputs": [
    {
     "name": "stdout",
     "output_type": "stream",
     "text": [
      "Original model accuracy:  0.7757009345794392\n"
     ]
    }
   ],
   "source": [
    "orig_model = LogisticRegression()\n",
    "orig_model.fit(bld_orig_train.features, bld_orig_train.labels.ravel())\n",
    "orig_predictions = orig_model.predict(bld_orig_test.features)\n",
    "\n",
    "# Print the original models accuracy\n",
    "print(\"Original model accuracy: \", accuracy_score(bld_orig_test.labels, orig_predictions))"
   ]
  },
  {
   "cell_type": "code",
   "execution_count": 222,
   "metadata": {},
   "outputs": [
    {
     "name": "stdout",
     "output_type": "stream",
     "text": [
      "Fair model accuracy:  0.7757009345794392\n"
     ]
    }
   ],
   "source": [
    "trans_model = LogisticRegression()\n",
    "trans_model.fit(bld_trans_train.features, bld_trans_train.labels.ravel())\n",
    "fair_preds = trans_model.predict(bld_orig_test.features)\n",
    "\n",
    "# Print the original models accuracy\n",
    "print(\"Fair model accuracy: \", accuracy_score(bld_orig_test.labels, fair_preds))"
   ]
  },
  {
   "cell_type": "markdown",
   "metadata": {},
   "source": [
    "## Submission"
   ]
  },
  {
   "cell_type": "markdown",
   "metadata": {},
   "source": [
    "Complete the code in A11-1.ipynb, and submit it to the CourSys activity Assignment 11."
   ]
  }
 ],
 "metadata": {
  "kernelspec": {
   "display_name": "Python 3 (ipykernel)",
   "language": "python",
   "name": "python3"
  },
  "language_info": {
   "codemirror_mode": {
    "name": "ipython",
    "version": 3
   },
   "file_extension": ".py",
   "mimetype": "text/x-python",
   "name": "python",
   "nbconvert_exporter": "python",
   "pygments_lexer": "ipython3",
   "version": "3.11.8"
  }
 },
 "nbformat": 4,
 "nbformat_minor": 2
}

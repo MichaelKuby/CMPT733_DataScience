{
 "cells": [
  {
   "cell_type": "markdown",
   "metadata": {},
   "source": [
    "# Assignment 1-1: Web Scraping"
   ]
  },
  {
   "cell_type": "markdown",
   "metadata": {},
   "source": [
    "## Objective"
   ]
  },
  {
   "cell_type": "markdown",
   "metadata": {},
   "source": [
    "Data scientists often need to crawl data from websites and turn the crawled data (HTML pages) to structured data (tables). Thus, web scraping is an essential skill that every data scientist should master. In this assignment, you will learn the followings:\n",
    "\n",
    "\n",
    "* How to download HTML pages from a website?\n",
    "* How to extract relevant content from an HTML page? \n",
    "\n",
    "Furthermore, you will gain a deeper understanding of the data science lifecycle.\n",
    "\n",
    "**Requirements:**\n",
    "\n",
    "1. Please use [pandas.DataFrame](http://pandas.pydata.org/pandas-docs/stable/generated/pandas.DataFrame.html) rather than spark.DataFrame to manipulate data.\n",
    "\n",
    "2. Please use [BeautifulSoup](https://www.crummy.com/software/BeautifulSoup/) rather than [lxml](http://lxml.de/) to parse an HTML page and extract data from the page.\n",
    "\n",
    "3. Please follow the python code style (https://www.python.org/dev/peps/pep-0008/). If TA finds your code hard to read, you will lose points. This requirement will stay for the whole semester."
   ]
  },
  {
   "cell_type": "markdown",
   "metadata": {},
   "source": [
    "## Preliminary"
   ]
  },
  {
   "cell_type": "markdown",
   "metadata": {},
   "source": [
    "If this is your first time to write a web scraper, you need to learn some basic knowledge of this topic. I found that this is a good resource: [Tutorial: Web Scraping and BeautifulSoup](https://realpython.com/beautiful-soup-web-scraper-python/). \n",
    "\n",
    "Please let me know if you find a better resource. I'll share it with the other students."
   ]
  },
  {
   "cell_type": "markdown",
   "metadata": {},
   "source": [
    "## Overview"
   ]
  },
  {
   "attachments": {},
   "cell_type": "markdown",
   "metadata": {},
   "source": [
    "Imagine you are a data scientist working at SFU. Your job is to extract insights from SFU data to answer questions. \n",
    "\n",
    "In this assignment, you will do two tasks. Please recall the high-level data science lifecycle from Lecture 1. I suggest that when doing this assignment, please remind yourself of what data you collected and what questions you tried to answer."
   ]
  },
  {
   "cell_type": "markdown",
   "metadata": {},
   "source": [
    "## Task 1: SFU CS Faculty Members"
   ]
  },
  {
   "cell_type": "markdown",
   "metadata": {},
   "source": [
    "Sometimes you don't know what questions to ask. No worries. Start collecting data first. \n",
    "\n",
    "In Task 1, your job is to write a web scraper to extract the faculty information from this page: [http://www.sfu.ca/computing/people/faculty.html](http://www.sfu.ca/computing/people/faculty.html).\n",
    "\n",
    "\n"
   ]
  },
  {
   "cell_type": "markdown",
   "metadata": {},
   "source": [
    "### (a) Crawl Web Page"
   ]
  },
  {
   "cell_type": "markdown",
   "metadata": {},
   "source": [
    "A web page is essentially a file stored in a remote machine (called web server). Please write code to download the HTML page and save it as a text file (\"csfaculty.html\")."
   ]
  },
  {
   "cell_type": "code",
   "execution_count": null,
   "metadata": {},
   "outputs": [],
   "source": [
    "import requests\n",
    "\n",
    "URL = 'http://www.sfu.ca/computing/people/faculty.html'\n",
    "filename = 'csfaculty.html'\n",
    "\n",
    "response = requests.get(URL)\n",
    "\n",
    "if response.status_code == 200:\n",
    "  # Response has succeeded\n",
    "  html_content = response.text\n",
    "\n",
    "  # Save the text to a file\n",
    "  with open(filename, 'w', encoding='utf-8') as file:\n",
    "    file.write(html_content)\n",
    "  print(f'File {filename} successfully saved.')\n",
    "else:\n",
    "  print('Get response failed. Error code:', response.status_code)"
   ]
  },
  {
   "cell_type": "markdown",
   "metadata": {},
   "source": [
    "### (b) Extract Structured Data"
   ]
  },
  {
   "cell_type": "markdown",
   "metadata": {},
   "source": [
    "Please write code to extract relevant content (name, rank, area, profile, homepage) from \"csfaculty.html\" and save them as a CSV file (like [faculty_table.csv](./faculty_table.csv)). "
   ]
  },
  {
   "cell_type": "code",
   "execution_count": null,
   "metadata": {},
   "outputs": [],
   "source": [
    "from bs4 import BeautifulSoup as BS\n",
    "import pandas as pd\n",
    "\n",
    "with open(filename, 'r', encoding='utf-8') as file:\n",
    "  html_content = file.read()\n",
    "\n",
    "soup = BS(html_content, 'html.parser')\n",
    "\n",
    "selector = '#page-content > section > div.main_content.parsys > div.parsys_column.cq-colctrl-lt0.people.faculty-list'\n",
    "\n",
    "faculty_list = soup.select(selector)\n",
    "\n",
    "data = []\n",
    "\n",
    "for item in faculty_list:\n",
    "  faculty_members = item.find_all(class_='textimage section')\n",
    "\n",
    "  for member in faculty_members:\n",
    "    # extract the content for each faulty member\n",
    "    member_content = member.find('div', class_='text')\n",
    "\n",
    "    # get the name and rank\n",
    "    name_rank = member_content.find('h4').text.strip()\n",
    "    name_rank = name_rank.split(',')\n",
    "    name = name_rank[0].strip().title()\n",
    "    if len(name_rank) > 1:\n",
    "      rank = name_rank[1].split('\\n')[0].strip().title()\n",
    "    else:\n",
    "      rank = None\n",
    "\n",
    "    # get the area of specialty\n",
    "    area_p_tag = member_content.find_all('p')\n",
    "    area = area_p_tag[0].text.strip() if area_p_tag else 'p tag not found'\n",
    "    area = area.replace('Area:', '').strip().title()\n",
    "\n",
    "    # get both urls\n",
    "    if len(area_p_tag) > 1:\n",
    "      hrefs = [a.get('href') for a in area_p_tag[1].find_all('a') if a.get('href')]\n",
    "    else:\n",
    "      hrefs = [a.get('href') for a in area_p_tag[0].find_all('a') if a.get('href')]\n",
    "    if len(hrefs) > 1 and hrefs[0] == hrefs[1]:\n",
    "      profile = 'http://www.sfu.ca' + hrefs[0]\n",
    "      homepage = 'http://www.sfu.ca' + hrefs[0]\n",
    "    elif len(hrefs) == 1:\n",
    "      profile = 'http://www.sfu.ca' + hrefs[0]\n",
    "      homepage = None\n",
    "    else:\n",
    "      profile = 'http://www.sfu.ca' + hrefs[0]\n",
    "      homepage = hrefs[1]\n",
    "\n",
    "    member_data = [name, rank, area, profile, homepage]\n",
    "\n",
    "    data.append(member_data)\n",
    "\n",
    "headers = ['name', 'rank', 'area', 'profile', 'homepage']\n",
    "\n",
    "# Create a pandas dataframe\n",
    "df = pd.DataFrame(data, columns=headers)\n",
    "\n",
    "# Save the dataframe to a file\n",
    "outfilename = 'faculty_table.csv'\n",
    "df.to_csv(outfilename)\n",
    "print(f'Dataframe {outfilename} successfully saved.')"
   ]
  },
  {
   "cell_type": "markdown",
   "metadata": {},
   "source": [
    "### (c) Interesting Finding"
   ]
  },
  {
   "cell_type": "markdown",
   "metadata": {},
   "source": [
    "Note that you don't need to do anything for Task 1(c). The purpose of this part is to give you some sense about how to leverage exploratory data analysis (EDA) to come up with interesting questions about the data. EDA is an important topic in data science; you will  learn it soon from this course. \n",
    "\n",
    "\n",
    "First, please install [dataprep](http://dataprep.ai).\n",
    "Then, run the cell below. \n",
    "It shows a bar chart for every column. What interesting findings can you get from these visualizations? "
   ]
  },
  {
   "cell_type": "code",
   "execution_count": null,
   "metadata": {},
   "outputs": [],
   "source": [
    "!pip install dataprep\n",
    "from dataprep.eda import plot\n",
    "import pandas as pd\n",
    "\n",
    "df = pd.read_csv(\"faculty_table.csv\")\n",
    "plot(df)"
   ]
  },
  {
   "cell_type": "markdown",
   "metadata": {},
   "source": [
    "Below are some examples:\n",
    "\n",
    "**Finding 1:** Professor# (26) is more than 2x larger than Associate Professor# (10). \n",
    "\n",
    "**Questions:** Why did it happen? Is it common in all CS schools in Canada? Will the gap go larger or smaller in five years? What actions can be taken to enlarge/shrink the gap?\n",
    "\n",
    "\n",
    "**Finding 2:** The Homepage has 22% missing values. \n",
    "\n",
    "**Questions:** Why are there so many missing values? Is it because many faculty do not have their own homepages or do not add their homepages to the school page? What actions can be taken to avoid this to happen in the future? "
   ]
  },
  {
   "cell_type": "markdown",
   "metadata": {},
   "source": [
    "## Task 2: Age Follows Normal Distribution?"
   ]
  },
  {
   "cell_type": "markdown",
   "metadata": {},
   "source": [
    "In this task, you start with a question and then figure out what data to collect.\n",
    "\n",
    "The question that you are interested in is `Does SFU CS faculty age follow a normal distribution?`\n",
    "\n",
    "To estimate the age of a faculty member, you can collect the year in which s/he graduates from a university (`gradyear`) and then estimate `age` using the following equation:\n",
    "\n",
    "$$age \\approx 2021+23 - gradyear$$\n",
    "\n",
    "For example, if one graduates from a university in 1990, then the age is estimated as 2021+23-1990 = 54. \n",
    "\n"
   ]
  },
  {
   "cell_type": "markdown",
   "metadata": {},
   "source": [
    "### (a) Crawl Web Page"
   ]
  },
  {
   "cell_type": "markdown",
   "metadata": {},
   "source": [
    "You notice that faculty profile pages contain graduation information. For example, you can see that Dr. Jiannan Wang graduated from Harbin Institute of Technology in 2008 at [http://www.sfu.ca/computing/people/faculty/jiannanwang.html](http://www.sfu.ca/computing/people/faculty/jiannanwang.html). \n",
    "\n",
    "\n",
    "Please write code to download the 68 profile pages and save each page as a text file. "
   ]
  },
  {
   "cell_type": "code",
   "execution_count": null,
   "metadata": {},
   "outputs": [],
   "source": [
    "# Iterate over df['profile'] and save each page as a text file\n",
    "import os\n",
    "directory = 'profile_pages'\n",
    "if not os.path.exists(directory):\n",
    "  os.makedirs(directory)\n",
    "\n",
    "# Use a loop to attempt multiple times in case the get request fails\n",
    "from time import sleep\n",
    "\n",
    "max_retries = 10\n",
    "retry_delay = 2\n",
    "\n",
    "for link in df['profile']:\n",
    "  # Catch instances where http://www.sfu.ca has been appended twice to the str\n",
    "  head = 'http://www.sfu.cahttp://www.sfu.ca'\n",
    "  if link[0:len(head)] == head:\n",
    "    link = link[len(head)//2:]\n",
    "\n",
    "  for attempt in range(max_retries):\n",
    "    try:\n",
    "      response = requests.get(link)\n",
    "      response.raise_for_status()  # Raises an HTTPError if the response was an HTTP error\n",
    "      text = response.text\n",
    "      filename = link\n",
    "      filename = filename.split('/')[-1].split('.')[0].title() + '.txt'\n",
    "      file_path = os.path.join(directory, filename)\n",
    "\n",
    "      if os.path.exists(file_path):\n",
    "        break # We already have this information\n",
    "\n",
    "      with open(file_path, 'w', encoding='utf-8') as file:\n",
    "        file.write(text)\n",
    "\n",
    "      break  # Successful request, exit the loop\n",
    "\n",
    "    except requests.RequestException as e:\n",
    "      print(f'Attempt {attempt + 1} failed: {e}')\n",
    "      sleep(retry_delay)\n",
    "  else:\n",
    "    print(f'All attempts failed for link {link}.')"
   ]
  },
  {
   "cell_type": "markdown",
   "metadata": {},
   "source": [
    "### (b) Extract Structured Data"
   ]
  },
  {
   "cell_type": "markdown",
   "metadata": {},
   "source": [
    "Please write code to extract the earliest graduation year (e.g., 2008 for Dr. Jiannan Wang) from each profile page, and create a csv file like [faculty_grad_year.csv](./faculty_grad_year.csv). "
   ]
  },
  {
   "cell_type": "code",
   "execution_count": null,
   "metadata": {},
   "outputs": [],
   "source": [
    "import re\n",
    "\n",
    "headers = ['name', 'gradyear']\n",
    "\n",
    "data = []\n",
    "\n",
    "# iterate over each file in the directory\n",
    "for filename in os.listdir(directory):\n",
    "\n",
    "  # Check if it is a text file\n",
    "  if filename.endswith('.txt'):\n",
    "    file_path = os.path.join(directory, filename)\n",
    "\n",
    "  # Open the file\n",
    "  with open(file_path, 'r', encoding='utf-8') as file:\n",
    "    soup = BS(file, 'html.parser')\n",
    "\n",
    "    # Get the name\n",
    "    title = soup.find('title').text.strip().title()\n",
    "    name = title.split(' - ')[0]\n",
    "\n",
    "    # Get the year\n",
    "    divs = soup.find_all('div', class_='text parbase section')\n",
    "    for div in divs:\n",
    "      education_h2 = div.find(lambda tag: tag.name == 'h2' and tag.text.strip() == 'Education')\n",
    "      if education_h2 is not None:\n",
    "        text_list = [ele.text.strip() for ele in div if not None]\n",
    "        for text in text_list:\n",
    "          integers = re.findall(r'\\d+', text)\n",
    "          integers = [int(i) for i in integers if len(i) == 4]\n",
    "          if len(integers) > 0:\n",
    "            year = min(integers)\n",
    "            row_data = [name, year]\n",
    "            data.append(row_data)\n",
    "\n",
    "name_year_df = pd.DataFrame(data, columns=(headers))\n",
    "name_year_df.to_csv(\"faculty_grad_year.csv\")"
   ]
  },
  {
   "cell_type": "markdown",
   "metadata": {},
   "source": [
    "### (c) Interesting Finding"
   ]
  },
  {
   "cell_type": "markdown",
   "metadata": {},
   "source": [
    "Similar to Task 1(c), you don't need to do anything here. Just look at different visualizations w.r.t. age and give yourself an answer to the question: `Does SFU CS faculty age follow a normal distribution?`"
   ]
  },
  {
   "cell_type": "code",
   "execution_count": null,
   "metadata": {
    "scrolled": true
   },
   "outputs": [],
   "source": [
    "from dataprep.eda import plot\n",
    "import pandas as pd\n",
    "\n",
    "df = pd.read_csv(\"faculty_grad_year.csv\")\n",
    "df[\"age\"] = 2021+23-df[\"gradyear\"]\n",
    "\n",
    "plot(df, \"age\")"
   ]
  },
  {
   "cell_type": "markdown",
   "metadata": {},
   "source": [
    "## Submission"
   ]
  },
  {
   "cell_type": "markdown",
   "metadata": {},
   "source": [
    "Complete the code in this notebook, and submit it to the CourSys activity `Assignment 1`."
   ]
  }
 ],
 "metadata": {
  "kernelspec": {
   "display_name": "Python 3",
   "language": "python",
   "name": "python3"
  },
  "language_info": {
   "codemirror_mode": {
    "name": "ipython",
    "version": 3
   },
   "file_extension": ".py",
   "mimetype": "text/x-python",
   "name": "python",
   "nbconvert_exporter": "python",
   "pygments_lexer": "ipython3",
   "version": "3.11.0 (main, Nov 15 2022, 05:43:36) [Clang 14.0.0 (clang-1400.0.29.202)]"
  },
  "vscode": {
   "interpreter": {
    "hash": "1a1af0ee75eeea9e2e1ee996c87e7a2b11a0bebd85af04bb136d915cefc0abce"
   }
  }
 },
 "nbformat": 4,
 "nbformat_minor": 1
}

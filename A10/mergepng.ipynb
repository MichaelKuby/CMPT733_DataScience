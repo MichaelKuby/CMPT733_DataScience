{
 "cells": [
  {
   "cell_type": "code",
   "execution_count": 2,
   "metadata": {},
   "outputs": [],
   "source": [
    "from PIL import Image\n",
    "\n",
    "# Load the images\n",
    "image1 = Image.open('Screenshot1.png')\n",
    "image2 = Image.open('Screenshot2.png')\n",
    "\n",
    "# Calculate the size of the combined image\n",
    "max_width = max(image1.width, image2.width)\n",
    "total_height = image1.height + image2.height\n",
    "\n",
    "# Create a new image with the appropriate size\n",
    "combined_image = Image.new('RGB', (max_width, total_height))\n",
    "\n",
    "# Paste the images into the new image\n",
    "combined_image.paste(image1, (0, 0))\n",
    "combined_image.paste(image2, (0, image1.height))\n",
    "\n",
    "# Save the combined image\n",
    "combined_image.save('tensorboard.png')\n"
   ]
  },
  {
   "cell_type": "code",
   "execution_count": null,
   "metadata": {},
   "outputs": [],
   "source": []
  }
 ],
 "metadata": {
  "kernelspec": {
   "display_name": "DataScienceEnv",
   "language": "python",
   "name": "python3"
  },
  "language_info": {
   "codemirror_mode": {
    "name": "ipython",
    "version": 3
   },
   "file_extension": ".py",
   "mimetype": "text/x-python",
   "name": "python",
   "nbconvert_exporter": "python",
   "pygments_lexer": "ipython3",
   "version": "3.12.2"
  }
 },
 "nbformat": 4,
 "nbformat_minor": 2
}

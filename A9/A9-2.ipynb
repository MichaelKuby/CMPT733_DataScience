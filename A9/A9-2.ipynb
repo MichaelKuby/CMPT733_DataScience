{
 "cells": [
  {
   "cell_type": "markdown",
   "metadata": {},
   "source": [
    "# Assignment 9: Causal Inference (Part 2)\n",
    "\n",
    "## Objective:\n",
    "\n",
    "Causal inference is the process of drawing a conclusion about a causal connection based on the conditions of the occurrence of an effect. It is a very powerful and widely-used tool in real-world applications and scenarios. In this assignment, you are expected to apply the basic concepts of causal inference to solve problems on real datasets and be able to achieve the following goals.\n",
    "\n",
    "* Understand why causality is needed.\n",
    "* Understand what is causality, particularly the difference between causality and correlation.\n",
    "* Understand how to estimate counterfactual results.\n",
    "* Understand how to use the graphical model to represent causality.\n",
    "* Can use some tools (e.g., dowhy) to infer causality, express causality and estimate treatment effects."
   ]
  },
  {
   "cell_type": "markdown",
   "metadata": {},
   "source": [
    "# 0. Preparation"
   ]
  },
  {
   "cell_type": "code",
   "execution_count": 156,
   "metadata": {},
   "outputs": [],
   "source": [
    "import numpy as np\n",
    "import pandas as pd\n",
    "from dataprep.eda import plot\n",
    "pd.options.mode.chained_assignment = None"
   ]
  },
  {
   "cell_type": "markdown",
   "metadata": {},
   "source": [
    "In this assignment, you are going to use the [Lalonde](lalonde.csv) dataset. Each tuple in the dataset represents an individual who was enrolled (or not enrolled) in a job training program. It aims to evaluate the effectiveness of a job training program (the treatment variable) on the real earnings of an individual, after completing the program for years. \n",
    "\n",
    "The dataset consists of a number of demographic variables, like age, race, academic background, marriage status, and previous real earnings in 1974, 1975 as well as a treatment indicator, and the real earnings in the year 1978 (the outcome variable)."
   ]
  },
  {
   "cell_type": "code",
   "execution_count": 157,
   "metadata": {},
   "outputs": [
    {
     "data": {
      "text/html": [
       "<div>\n",
       "<style scoped>\n",
       "    .dataframe tbody tr th:only-of-type {\n",
       "        vertical-align: middle;\n",
       "    }\n",
       "\n",
       "    .dataframe tbody tr th {\n",
       "        vertical-align: top;\n",
       "    }\n",
       "\n",
       "    .dataframe thead th {\n",
       "        text-align: right;\n",
       "    }\n",
       "</style>\n",
       "<table border=\"1\" class=\"dataframe\">\n",
       "  <thead>\n",
       "    <tr style=\"text-align: right;\">\n",
       "      <th></th>\n",
       "      <th>treat</th>\n",
       "      <th>age</th>\n",
       "      <th>educ</th>\n",
       "      <th>black</th>\n",
       "      <th>hispan</th>\n",
       "      <th>married</th>\n",
       "      <th>nodegree</th>\n",
       "      <th>re74</th>\n",
       "      <th>re75</th>\n",
       "      <th>re78</th>\n",
       "    </tr>\n",
       "    <tr>\n",
       "      <th>id</th>\n",
       "      <th></th>\n",
       "      <th></th>\n",
       "      <th></th>\n",
       "      <th></th>\n",
       "      <th></th>\n",
       "      <th></th>\n",
       "      <th></th>\n",
       "      <th></th>\n",
       "      <th></th>\n",
       "      <th></th>\n",
       "    </tr>\n",
       "  </thead>\n",
       "  <tbody>\n",
       "    <tr>\n",
       "      <th>NSW1</th>\n",
       "      <td>1</td>\n",
       "      <td>37</td>\n",
       "      <td>11</td>\n",
       "      <td>1</td>\n",
       "      <td>0</td>\n",
       "      <td>1</td>\n",
       "      <td>1</td>\n",
       "      <td>0.0</td>\n",
       "      <td>0.0</td>\n",
       "      <td>9930.0460</td>\n",
       "    </tr>\n",
       "    <tr>\n",
       "      <th>NSW2</th>\n",
       "      <td>1</td>\n",
       "      <td>22</td>\n",
       "      <td>9</td>\n",
       "      <td>0</td>\n",
       "      <td>1</td>\n",
       "      <td>0</td>\n",
       "      <td>1</td>\n",
       "      <td>0.0</td>\n",
       "      <td>0.0</td>\n",
       "      <td>3595.8940</td>\n",
       "    </tr>\n",
       "    <tr>\n",
       "      <th>NSW3</th>\n",
       "      <td>1</td>\n",
       "      <td>30</td>\n",
       "      <td>12</td>\n",
       "      <td>1</td>\n",
       "      <td>0</td>\n",
       "      <td>0</td>\n",
       "      <td>0</td>\n",
       "      <td>0.0</td>\n",
       "      <td>0.0</td>\n",
       "      <td>24909.4500</td>\n",
       "    </tr>\n",
       "    <tr>\n",
       "      <th>NSW4</th>\n",
       "      <td>1</td>\n",
       "      <td>27</td>\n",
       "      <td>11</td>\n",
       "      <td>1</td>\n",
       "      <td>0</td>\n",
       "      <td>0</td>\n",
       "      <td>1</td>\n",
       "      <td>0.0</td>\n",
       "      <td>0.0</td>\n",
       "      <td>7506.1460</td>\n",
       "    </tr>\n",
       "    <tr>\n",
       "      <th>NSW5</th>\n",
       "      <td>1</td>\n",
       "      <td>33</td>\n",
       "      <td>8</td>\n",
       "      <td>1</td>\n",
       "      <td>0</td>\n",
       "      <td>0</td>\n",
       "      <td>1</td>\n",
       "      <td>0.0</td>\n",
       "      <td>0.0</td>\n",
       "      <td>289.7899</td>\n",
       "    </tr>\n",
       "    <tr>\n",
       "      <th>...</th>\n",
       "      <td>...</td>\n",
       "      <td>...</td>\n",
       "      <td>...</td>\n",
       "      <td>...</td>\n",
       "      <td>...</td>\n",
       "      <td>...</td>\n",
       "      <td>...</td>\n",
       "      <td>...</td>\n",
       "      <td>...</td>\n",
       "      <td>...</td>\n",
       "    </tr>\n",
       "    <tr>\n",
       "      <th>PSID420</th>\n",
       "      <td>0</td>\n",
       "      <td>39</td>\n",
       "      <td>2</td>\n",
       "      <td>1</td>\n",
       "      <td>0</td>\n",
       "      <td>1</td>\n",
       "      <td>1</td>\n",
       "      <td>0.0</td>\n",
       "      <td>0.0</td>\n",
       "      <td>964.9555</td>\n",
       "    </tr>\n",
       "    <tr>\n",
       "      <th>PSID421</th>\n",
       "      <td>0</td>\n",
       "      <td>55</td>\n",
       "      <td>8</td>\n",
       "      <td>0</td>\n",
       "      <td>0</td>\n",
       "      <td>1</td>\n",
       "      <td>1</td>\n",
       "      <td>0.0</td>\n",
       "      <td>0.0</td>\n",
       "      <td>0.0000</td>\n",
       "    </tr>\n",
       "    <tr>\n",
       "      <th>PSID422</th>\n",
       "      <td>0</td>\n",
       "      <td>16</td>\n",
       "      <td>9</td>\n",
       "      <td>0</td>\n",
       "      <td>0</td>\n",
       "      <td>0</td>\n",
       "      <td>1</td>\n",
       "      <td>0.0</td>\n",
       "      <td>0.0</td>\n",
       "      <td>5551.8190</td>\n",
       "    </tr>\n",
       "    <tr>\n",
       "      <th>PSID423</th>\n",
       "      <td>0</td>\n",
       "      <td>27</td>\n",
       "      <td>10</td>\n",
       "      <td>1</td>\n",
       "      <td>0</td>\n",
       "      <td>0</td>\n",
       "      <td>1</td>\n",
       "      <td>0.0</td>\n",
       "      <td>0.0</td>\n",
       "      <td>7543.7940</td>\n",
       "    </tr>\n",
       "    <tr>\n",
       "      <th>PSID424</th>\n",
       "      <td>0</td>\n",
       "      <td>25</td>\n",
       "      <td>14</td>\n",
       "      <td>0</td>\n",
       "      <td>0</td>\n",
       "      <td>0</td>\n",
       "      <td>0</td>\n",
       "      <td>0.0</td>\n",
       "      <td>0.0</td>\n",
       "      <td>0.0000</td>\n",
       "    </tr>\n",
       "  </tbody>\n",
       "</table>\n",
       "<p>609 rows × 10 columns</p>\n",
       "</div>"
      ],
      "text/plain": [
       "         treat  age  educ  black  hispan  married  nodegree  re74  re75  \\\n",
       "id                                                                        \n",
       "NSW1         1   37    11      1       0        1         1   0.0   0.0   \n",
       "NSW2         1   22     9      0       1        0         1   0.0   0.0   \n",
       "NSW3         1   30    12      1       0        0         0   0.0   0.0   \n",
       "NSW4         1   27    11      1       0        0         1   0.0   0.0   \n",
       "NSW5         1   33     8      1       0        0         1   0.0   0.0   \n",
       "...        ...  ...   ...    ...     ...      ...       ...   ...   ...   \n",
       "PSID420      0   39     2      1       0        1         1   0.0   0.0   \n",
       "PSID421      0   55     8      0       0        1         1   0.0   0.0   \n",
       "PSID422      0   16     9      0       0        0         1   0.0   0.0   \n",
       "PSID423      0   27    10      1       0        0         1   0.0   0.0   \n",
       "PSID424      0   25    14      0       0        0         0   0.0   0.0   \n",
       "\n",
       "               re78  \n",
       "id                   \n",
       "NSW1      9930.0460  \n",
       "NSW2      3595.8940  \n",
       "NSW3     24909.4500  \n",
       "NSW4      7506.1460  \n",
       "NSW5       289.7899  \n",
       "...             ...  \n",
       "PSID420    964.9555  \n",
       "PSID421      0.0000  \n",
       "PSID422   5551.8190  \n",
       "PSID423   7543.7940  \n",
       "PSID424      0.0000  \n",
       "\n",
       "[609 rows x 10 columns]"
      ]
     },
     "execution_count": 157,
     "metadata": {},
     "output_type": "execute_result"
    }
   ],
   "source": [
    "lalonde = pd.read_csv('lalonde.csv', index_col=0)\n",
    "lalonde.head(-5)"
   ]
  },
  {
   "cell_type": "code",
   "execution_count": 158,
   "metadata": {},
   "outputs": [],
   "source": [
    "# plot(lalonde)"
   ]
  },
  {
   "cell_type": "markdown",
   "metadata": {},
   "source": [
    "## Task 1. Causal Graph \n",
    "In this task, you will draw a causal graph on a real-world dataset based on the information given. Please remind yourself of the difference between causality and correlation."
   ]
  },
  {
   "cell_type": "code",
   "execution_count": 159,
   "metadata": {},
   "outputs": [],
   "source": [
    "#import graphviz, the python tool we are going to use for this task\n",
    "from graphviz import Digraph"
   ]
  },
  {
   "cell_type": "markdown",
   "metadata": {},
   "source": [
    "In the Lalonde dataset, `treat` is the treatment attribute, which represents whether an individual was enrolled in the job training program or not. `re78` is the outcome attribute. `age` and `married` are confounding variables. Please draw the causal graph for these four attributes using Graphviz."
   ]
  },
  {
   "cell_type": "code",
   "execution_count": 160,
   "metadata": {},
   "outputs": [
    {
     "data": {
      "image/svg+xml": [
       "<?xml version=\"1.0\" encoding=\"UTF-8\" standalone=\"no\"?>\n",
       "<!DOCTYPE svg PUBLIC \"-//W3C//DTD SVG 1.1//EN\"\n",
       " \"http://www.w3.org/Graphics/SVG/1.1/DTD/svg11.dtd\">\n",
       "<!-- Generated by graphviz version 9.0.0 (0)\n",
       " -->\n",
       "<!-- Pages: 1 -->\n",
       "<svg width=\"305pt\" height=\"44pt\"\n",
       " viewBox=\"0.00 0.00 304.59 44.00\" xmlns=\"http://www.w3.org/2000/svg\" xmlns:xlink=\"http://www.w3.org/1999/xlink\">\n",
       "<g id=\"graph0\" class=\"graph\" transform=\"scale(1 1) rotate(0) translate(4 40)\">\n",
       "<polygon fill=\"white\" stroke=\"none\" points=\"-4,4 -4,-40 300.59,-40 300.59,4 -4,4\"/>\n",
       "<!-- a -->\n",
       "<g id=\"node1\" class=\"node\">\n",
       "<title>a</title>\n",
       "<ellipse fill=\"none\" stroke=\"black\" cx=\"27.3\" cy=\"-18\" rx=\"27.3\" ry=\"18\"/>\n",
       "<text text-anchor=\"middle\" x=\"27.3\" y=\"-12.95\" font-family=\"Times,serif\" font-size=\"14.00\">treat</text>\n",
       "</g>\n",
       "<!-- b -->\n",
       "<g id=\"node2\" class=\"node\">\n",
       "<title>b</title>\n",
       "<ellipse fill=\"none\" stroke=\"black\" cx=\"99.3\" cy=\"-18\" rx=\"27\" ry=\"18\"/>\n",
       "<text text-anchor=\"middle\" x=\"99.3\" y=\"-12.95\" font-family=\"Times,serif\" font-size=\"14.00\">age</text>\n",
       "</g>\n",
       "<!-- c -->\n",
       "<g id=\"node3\" class=\"node\">\n",
       "<title>c</title>\n",
       "<ellipse fill=\"none\" stroke=\"black\" cx=\"184.3\" cy=\"-18\" rx=\"40.09\" ry=\"18\"/>\n",
       "<text text-anchor=\"middle\" x=\"184.3\" y=\"-12.95\" font-family=\"Times,serif\" font-size=\"14.00\">married</text>\n",
       "</g>\n",
       "<!-- d -->\n",
       "<g id=\"node4\" class=\"node\">\n",
       "<title>d</title>\n",
       "<ellipse fill=\"none\" stroke=\"black\" cx=\"269.3\" cy=\"-18\" rx=\"27.3\" ry=\"18\"/>\n",
       "<text text-anchor=\"middle\" x=\"269.3\" y=\"-12.95\" font-family=\"Times,serif\" font-size=\"14.00\">re78</text>\n",
       "</g>\n",
       "</g>\n",
       "</svg>\n"
      ],
      "text/plain": [
       "<graphviz.graphs.Digraph at 0x14cb13e50>"
      ]
     },
     "execution_count": 160,
     "metadata": {},
     "output_type": "execute_result"
    }
   ],
   "source": [
    "dot = Digraph(comment='The causal graph for Lalonde')\n",
    "dot.node('a','treat')\n",
    "dot.node('b','age')\n",
    "dot.node('c','married')\n",
    "dot.node('d','re78')\n",
    "\n",
    "dot"
   ]
  },
  {
   "cell_type": "code",
   "execution_count": 161,
   "metadata": {},
   "outputs": [
    {
     "data": {
      "image/svg+xml": [
       "<?xml version=\"1.0\" encoding=\"UTF-8\" standalone=\"no\"?>\n",
       "<!DOCTYPE svg PUBLIC \"-//W3C//DTD SVG 1.1//EN\"\n",
       " \"http://www.w3.org/Graphics/SVG/1.1/DTD/svg11.dtd\">\n",
       "<!-- Generated by graphviz version 9.0.0 (0)\n",
       " -->\n",
       "<!-- Pages: 1 -->\n",
       "<svg width=\"172pt\" height=\"188pt\"\n",
       " viewBox=\"0.00 0.00 172.09 188.00\" xmlns=\"http://www.w3.org/2000/svg\" xmlns:xlink=\"http://www.w3.org/1999/xlink\">\n",
       "<g id=\"graph0\" class=\"graph\" transform=\"scale(1 1) rotate(0) translate(4 184)\">\n",
       "<polygon fill=\"white\" stroke=\"none\" points=\"-4,4 -4,-184 168.09,-184 168.09,4 -4,4\"/>\n",
       "<!-- a -->\n",
       "<g id=\"node1\" class=\"node\">\n",
       "<title>a</title>\n",
       "<ellipse fill=\"none\" stroke=\"black\" cx=\"76\" cy=\"-90\" rx=\"27.3\" ry=\"18\"/>\n",
       "<text text-anchor=\"middle\" x=\"76\" y=\"-84.95\" font-family=\"Times,serif\" font-size=\"14.00\">treat</text>\n",
       "</g>\n",
       "<!-- d -->\n",
       "<g id=\"node4\" class=\"node\">\n",
       "<title>d</title>\n",
       "<ellipse fill=\"none\" stroke=\"black\" cx=\"76\" cy=\"-18\" rx=\"27.3\" ry=\"18\"/>\n",
       "<text text-anchor=\"middle\" x=\"76\" y=\"-12.95\" font-family=\"Times,serif\" font-size=\"14.00\">re78</text>\n",
       "</g>\n",
       "<!-- a&#45;&gt;d -->\n",
       "<g id=\"edge1\" class=\"edge\">\n",
       "<title>a&#45;&gt;d</title>\n",
       "<path fill=\"none\" stroke=\"black\" d=\"M76,-71.7C76,-64.41 76,-55.73 76,-47.54\"/>\n",
       "<polygon fill=\"black\" stroke=\"black\" points=\"79.5,-47.62 76,-37.62 72.5,-47.62 79.5,-47.62\"/>\n",
       "</g>\n",
       "<!-- b -->\n",
       "<g id=\"node2\" class=\"node\">\n",
       "<title>b</title>\n",
       "<ellipse fill=\"none\" stroke=\"black\" cx=\"27\" cy=\"-162\" rx=\"27\" ry=\"18\"/>\n",
       "<text text-anchor=\"middle\" x=\"27\" y=\"-156.95\" font-family=\"Times,serif\" font-size=\"14.00\">age</text>\n",
       "</g>\n",
       "<!-- b&#45;&gt;a -->\n",
       "<g id=\"edge2\" class=\"edge\">\n",
       "<title>b&#45;&gt;a</title>\n",
       "<path fill=\"none\" stroke=\"black\" d=\"M38.12,-145.12C44.13,-136.52 51.7,-125.72 58.49,-116.02\"/>\n",
       "<polygon fill=\"black\" stroke=\"black\" points=\"61.19,-118.26 64.06,-108.06 55.46,-114.25 61.19,-118.26\"/>\n",
       "</g>\n",
       "<!-- b&#45;&gt;d -->\n",
       "<g id=\"edge5\" class=\"edge\">\n",
       "<title>b&#45;&gt;d</title>\n",
       "<path fill=\"none\" stroke=\"black\" d=\"M27.25,-143.69C28.03,-125.32 30.78,-95.72 40,-72 43.92,-61.91 50.07,-51.82 56.18,-43.21\"/>\n",
       "<polygon fill=\"black\" stroke=\"black\" points=\"58.85,-45.49 62.04,-35.38 53.24,-41.29 58.85,-45.49\"/>\n",
       "</g>\n",
       "<!-- c -->\n",
       "<g id=\"node3\" class=\"node\">\n",
       "<title>c</title>\n",
       "<ellipse fill=\"none\" stroke=\"black\" cx=\"124\" cy=\"-162\" rx=\"40.09\" ry=\"18\"/>\n",
       "<text text-anchor=\"middle\" x=\"124\" y=\"-156.95\" font-family=\"Times,serif\" font-size=\"14.00\">married</text>\n",
       "</g>\n",
       "<!-- c&#45;&gt;a -->\n",
       "<g id=\"edge3\" class=\"edge\">\n",
       "<title>c&#45;&gt;a</title>\n",
       "<path fill=\"none\" stroke=\"black\" d=\"M112.62,-144.41C106.86,-136.01 99.75,-125.63 93.32,-116.26\"/>\n",
       "<polygon fill=\"black\" stroke=\"black\" points=\"96.36,-114.5 87.82,-108.24 90.59,-118.46 96.36,-114.5\"/>\n",
       "</g>\n",
       "<!-- c&#45;&gt;d -->\n",
       "<g id=\"edge4\" class=\"edge\">\n",
       "<title>c&#45;&gt;d</title>\n",
       "<path fill=\"none\" stroke=\"black\" d=\"M123.99,-143.69C123.46,-125.33 121.08,-95.74 112,-72 108.13,-61.89 102,-51.8 95.88,-43.18\"/>\n",
       "<polygon fill=\"black\" stroke=\"black\" points=\"98.82,-41.26 90.02,-35.36 93.22,-45.46 98.82,-41.26\"/>\n",
       "</g>\n",
       "</g>\n",
       "</svg>\n"
      ],
      "text/plain": [
       "<graphviz.graphs.Digraph at 0x14cb13e50>"
      ]
     },
     "execution_count": 161,
     "metadata": {},
     "output_type": "execute_result"
    }
   ],
   "source": [
    "#<-- Write Your Code -->\n",
    "#Implement your plot function here and show the graph, the output should be a causal graph\n",
    "\n",
    "dot.edge('a', 'd')\n",
    "dot.edge('b', 'a')\n",
    "dot.edge('c', 'a')\n",
    "dot.edge('c', 'd')\n",
    "dot.edge('b', 'd')\n",
    "\n",
    "dot\n"
   ]
  },
  {
   "cell_type": "markdown",
   "metadata": {},
   "source": [
    "## Task 2. ATE Estimation\n",
    "In this task, your job is to implement different ATE estimation approaches and draw useful conclusions."
   ]
  },
  {
   "cell_type": "markdown",
   "metadata": {},
   "source": [
    "### 2.1 Perfect Matching\n",
    "For the PSID tuples in the dataset (i.e., those individuals who weren't enrolled in the job training program), please use perfect matching to estimate their salaries if they received treatments.\n"
   ]
  },
  {
   "cell_type": "code",
   "execution_count": 162,
   "metadata": {},
   "outputs": [],
   "source": [
    "def find_first_match_row(df, x):\n",
    "    # Drop the treatment column and the target column from x\n",
    "    x_modified = x.drop(labels=['treat', 're78'])\n",
    "    \n",
    "    # Drop the treatment column and the target column\n",
    "    temp_df = df.drop(columns=['treat', 're78'])\n",
    "\n",
    "    # Find the first row of treatment_df that matches x. x is a row of the lalonde dataset\n",
    "    for i in range(len(temp_df)):\n",
    "        if temp_df.iloc[i].equals(x_modified):\n",
    "            # return the row of the first match\n",
    "            return df.iloc[i]['re78']\n",
    "    return -1"
   ]
  },
  {
   "cell_type": "code",
   "execution_count": 163,
   "metadata": {},
   "outputs": [],
   "source": [
    "#<-- Write Your Code -->\n",
    "\n",
    "# Implement the perfect matching method here and output the count of PSID tuples whose counterfactual can be computed\n",
    "# using perfect matching, as well as the percentage of such tuples among all PSID tuples. If there are multiple \n",
    "# tuples in the treatment group that can be matched with the control group, just select the first one\n",
    "# output: count and percentage\n",
    "\n",
    "control_df = lalonde[lalonde['treat'] == 0]\n",
    "treatment_df = lalonde[lalonde['treat'] == 1]\n",
    "\n",
    "# Create control_df with counterfactual re78\n",
    "control_df['perfect match counterfactual re78'] = control_df.apply(lambda x: find_first_match_row(treatment_df, x), axis=1)\n"
   ]
  },
  {
   "cell_type": "code",
   "execution_count": 164,
   "metadata": {},
   "outputs": [],
   "source": [
    "# Get the count of the number of counterfactuals that did not return -1\n",
    "count = control_df[control_df['perfect match counterfactual re78'] != -1].shape[0]\n",
    "\n",
    "# Get the percentage of the number of counterfactuals that did not return -1\n",
    "percentage = count / control_df.shape[0]"
   ]
  },
  {
   "cell_type": "code",
   "execution_count": 165,
   "metadata": {},
   "outputs": [
    {
     "name": "stdout",
     "output_type": "stream",
     "text": [
      "Count of tuples which can be computed by perfect matching is 12\n",
      "Percentage of such tuples among all PSID tuples is 0.027972027972027972\n"
     ]
    }
   ],
   "source": [
    "# Run the following code to print out the result\n",
    "print(\"Count of tuples which can be computed by perfect matching is \" + str(count))\n",
    "print(\"Percentage of such tuples among all PSID tuples is \" + str(percentage))"
   ]
  },
  {
   "cell_type": "code",
   "execution_count": 166,
   "metadata": {},
   "outputs": [],
   "source": [
    "#<-- Write Your Code -->\n",
    "\n",
    "# Compute ATE among those PSID tuples whose counterfactual can be computed using perfect matching\n",
    "# output: value of ATE\n",
    "\n",
    "perfect_matches = control_df[control_df['perfect match counterfactual re78'] != -1]\n",
    "perfect_matches['diff'] = perfect_matches['perfect match counterfactual re78'] - perfect_matches['re78']\n",
    "ATE = perfect_matches['diff'].mean()"
   ]
  },
  {
   "cell_type": "code",
   "execution_count": 167,
   "metadata": {},
   "outputs": [
    {
     "name": "stdout",
     "output_type": "stream",
     "text": [
      "ATE by perfect matching is 1362.394\n"
     ]
    }
   ],
   "source": [
    "# Run following code to print the result\n",
    "print(\"ATE by perfect matching is \" + str(ATE))"
   ]
  },
  {
   "cell_type": "markdown",
   "metadata": {},
   "source": [
    "### 2.2 Nearest Neighbor Matching\n",
    "For the PSID tuples in the dataset (i.e., those who weren't enrolled in the job training program), please use the nearest neighbor matching to estimate their salaries if they received treatments.\n",
    "\n",
    "Please use all covariates (the attributes besides treatment and outcome) and use Euclidean distance as the distance metric."
   ]
  },
  {
   "cell_type": "code",
   "execution_count": 191,
   "metadata": {},
   "outputs": [],
   "source": [
    "#<-- Write Your Code -->\n",
    "\n",
    "# Implement the nearest neighbor matching method here and output the count of PSID tuples whose counterfactual can be\n",
    "# computed using nearest neighbor matching, when the threshold is set to 1000, as well as the percentage of such tuples among all PSID tuples\n",
    "# Output: count and percentage\n",
    "\n",
    "# Please use np.linalg.norm(x1 - x2) to compute the euclidean distance between two vectors\n",
    "\n",
    "def nearest_neighbour(df, x):\n",
    "    # Drop the treatment column and the target column from x\n",
    "    x_modified = x.drop(labels=['treat', 're78'])\n",
    "    \n",
    "    # Drop the treatment column and the target column\n",
    "    temp_df = df.drop(columns=['treat', 're78'])\n",
    "\n",
    "    # Find the first row of treatment_df that matches x. x is a row of the lalonde dataset\n",
    "    for i in range(len(temp_df)):\n",
    "        if np.linalg.norm(temp_df.iloc[i] - x_modified) < 1000:\n",
    "            # return the row of the first match\n",
    "            return df.iloc[i]['re78']\n",
    "    return -1"
   ]
  },
  {
   "cell_type": "code",
   "execution_count": 169,
   "metadata": {},
   "outputs": [],
   "source": [
    "control_df = lalonde[lalonde['treat'] == 0]\n",
    "treatment_df = lalonde[lalonde['treat'] == 1]\n",
    "\n",
    "# Create control_df with nearest neighbour counterfactual re78\n",
    "control_df['nearest neighbour counterfactual re78'] = control_df.apply(lambda x: nearest_neighbour(treatment_df, x), axis=1)"
   ]
  },
  {
   "cell_type": "code",
   "execution_count": 170,
   "metadata": {},
   "outputs": [],
   "source": [
    "# Get the count of the number of counterfactuals that did not return -1\n",
    "count = control_df[control_df['nearest neighbour counterfactual re78'] != -1].shape[0]\n",
    "\n",
    "# Get the percentage of the number of counterfactuals that did not return -1\n",
    "percentage = count / control_df.shape[0]"
   ]
  },
  {
   "cell_type": "code",
   "execution_count": 171,
   "metadata": {},
   "outputs": [
    {
     "name": "stdout",
     "output_type": "stream",
     "text": [
      "Count of tuples which can be computed by nearest neighbor matching is 318\n",
      "Percentage of such tuples among all PSID tuples is 0.7412587412587412\n"
     ]
    }
   ],
   "source": [
    "#run following code to print the result\n",
    "print(\"Count of tuples which can be computed by nearest neighbor matching is \" + str(count))\n",
    "print(\"Percentage of such tuples among all PSID tuples is \" + str(percentage))"
   ]
  },
  {
   "cell_type": "code",
   "execution_count": 172,
   "metadata": {},
   "outputs": [],
   "source": [
    "#<-- Write Your Code -->\n",
    "\n",
    "# Compute ATE among those PSID tuples whose counterfactual can be computed using nearest neighbor matching\n",
    "# Output: value of ATE\n",
    "\n",
    "nearest_neighbour_matches = control_df[control_df['nearest neighbour counterfactual re78'] != -1]\n",
    "nearest_neighbour_matches['diff'] = nearest_neighbour_matches['nearest neighbour counterfactual re78'] - nearest_neighbour_matches['re78']\n",
    "ATE = nearest_neighbour_matches['diff'].mean()\n"
   ]
  },
  {
   "cell_type": "code",
   "execution_count": 173,
   "metadata": {},
   "outputs": [
    {
     "name": "stdout",
     "output_type": "stream",
     "text": [
      "ATE by nearest neighbor matching is 1304.973885062893\n"
     ]
    }
   ],
   "source": [
    "# Run following code to print out the result\n",
    "print(\"ATE by nearest neighbor matching is \" + str(ATE))"
   ]
  },
  {
   "cell_type": "markdown",
   "metadata": {},
   "source": [
    "### 2.3 Propensity Score Matching\n",
    "For the PSID tuples in the dataset (i.e., those weren't enrolled in the job training program), please use propensity score matching to estimate their salaries if they received treatments.\n",
    "\n",
    "Please use logistic regression to fit the propensity score.\n",
    "\n",
    "## What is Propensity Score?\n",
    "\n",
    "The propensity score is the probability of a unit (e.g., individual, school, hospital) receiving a treatment given a set of observed covariates. It is typically estimated using logistic regression, where the treatment assignment is the dependent variable and the covariates are the independent variables. The logistic regression model estimates the probability (ranging from 0 to 1) of each unit being in the treatment group based on the covariates."
   ]
  },
  {
   "cell_type": "code",
   "execution_count": 188,
   "metadata": {},
   "outputs": [
    {
     "name": "stderr",
     "output_type": "stream",
     "text": [
      "/Users/MichaelKuby/miniconda3/envs/dataPrep/lib/python3.11/site-packages/sklearn/linear_model/_logistic.py:469: ConvergenceWarning: lbfgs failed to converge (status=1):\n",
      "STOP: TOTAL NO. of ITERATIONS REACHED LIMIT.\n",
      "\n",
      "Increase the number of iterations (max_iter) or scale the data as shown in:\n",
      "    https://scikit-learn.org/stable/modules/preprocessing.html\n",
      "Please also refer to the documentation for alternative solver options:\n",
      "    https://scikit-learn.org/stable/modules/linear_model.html#logistic-regression\n",
      "  n_iter_i = _check_optimize_result(\n"
     ]
    }
   ],
   "source": [
    "#<-- Write Your Code -->\n",
    "\n",
    "# Compute propensity score P(y = 1|X) for each tuple in the dataset. Use logistic regression.\n",
    "# Output: add the new column \"psm\" to lalonde dataframe\n",
    "\n",
    "from sklearn.linear_model import LogisticRegression\n",
    "from sklearn.model_selection import train_test_split\n",
    "\n",
    "X = lalonde.drop(columns=['treat', 're78'])\n",
    "y = lalonde['treat']\n",
    "\n",
    "X_train, X_test, y_train, y_test = train_test_split(X, y, test_size=0.2, random_state=0)\n",
    "\n",
    "logisticRegr = LogisticRegression()\n",
    "\n",
    "estimator = logisticRegr.fit(X_train, y_train)\n",
    "\n",
    "# Evaluate the model on the test data\n",
    "score = estimator.score(X_test, y_test)\n",
    "\n",
    "# Add the new column 'psm' to lalonde dataframe\n",
    "predictions = estimator.predict_proba(X)\n",
    "lalonde['psm'] = predictions[:,1]"
   ]
  },
  {
   "cell_type": "code",
   "execution_count": 190,
   "metadata": {},
   "outputs": [
    {
     "data": {
      "text/html": [
       "<div>\n",
       "<style scoped>\n",
       "    .dataframe tbody tr th:only-of-type {\n",
       "        vertical-align: middle;\n",
       "    }\n",
       "\n",
       "    .dataframe tbody tr th {\n",
       "        vertical-align: top;\n",
       "    }\n",
       "\n",
       "    .dataframe thead th {\n",
       "        text-align: right;\n",
       "    }\n",
       "</style>\n",
       "<table border=\"1\" class=\"dataframe\">\n",
       "  <thead>\n",
       "    <tr style=\"text-align: right;\">\n",
       "      <th></th>\n",
       "      <th>treat</th>\n",
       "      <th>age</th>\n",
       "      <th>educ</th>\n",
       "      <th>black</th>\n",
       "      <th>hispan</th>\n",
       "      <th>married</th>\n",
       "      <th>nodegree</th>\n",
       "      <th>re74</th>\n",
       "      <th>re75</th>\n",
       "      <th>re78</th>\n",
       "      <th>psm</th>\n",
       "    </tr>\n",
       "    <tr>\n",
       "      <th>id</th>\n",
       "      <th></th>\n",
       "      <th></th>\n",
       "      <th></th>\n",
       "      <th></th>\n",
       "      <th></th>\n",
       "      <th></th>\n",
       "      <th></th>\n",
       "      <th></th>\n",
       "      <th></th>\n",
       "      <th></th>\n",
       "      <th></th>\n",
       "    </tr>\n",
       "  </thead>\n",
       "  <tbody>\n",
       "    <tr>\n",
       "      <th>NSW1</th>\n",
       "      <td>1</td>\n",
       "      <td>37</td>\n",
       "      <td>11</td>\n",
       "      <td>1</td>\n",
       "      <td>0</td>\n",
       "      <td>1</td>\n",
       "      <td>1</td>\n",
       "      <td>0.0</td>\n",
       "      <td>0.0</td>\n",
       "      <td>9930.0460</td>\n",
       "      <td>0.430820</td>\n",
       "    </tr>\n",
       "    <tr>\n",
       "      <th>NSW2</th>\n",
       "      <td>1</td>\n",
       "      <td>22</td>\n",
       "      <td>9</td>\n",
       "      <td>0</td>\n",
       "      <td>1</td>\n",
       "      <td>0</td>\n",
       "      <td>1</td>\n",
       "      <td>0.0</td>\n",
       "      <td>0.0</td>\n",
       "      <td>3595.8940</td>\n",
       "      <td>0.137950</td>\n",
       "    </tr>\n",
       "    <tr>\n",
       "      <th>NSW3</th>\n",
       "      <td>1</td>\n",
       "      <td>30</td>\n",
       "      <td>12</td>\n",
       "      <td>1</td>\n",
       "      <td>0</td>\n",
       "      <td>0</td>\n",
       "      <td>0</td>\n",
       "      <td>0.0</td>\n",
       "      <td>0.0</td>\n",
       "      <td>24909.4500</td>\n",
       "      <td>0.739518</td>\n",
       "    </tr>\n",
       "    <tr>\n",
       "      <th>NSW4</th>\n",
       "      <td>1</td>\n",
       "      <td>27</td>\n",
       "      <td>11</td>\n",
       "      <td>1</td>\n",
       "      <td>0</td>\n",
       "      <td>0</td>\n",
       "      <td>1</td>\n",
       "      <td>0.0</td>\n",
       "      <td>0.0</td>\n",
       "      <td>7506.1460</td>\n",
       "      <td>0.653304</td>\n",
       "    </tr>\n",
       "    <tr>\n",
       "      <th>NSW5</th>\n",
       "      <td>1</td>\n",
       "      <td>33</td>\n",
       "      <td>8</td>\n",
       "      <td>1</td>\n",
       "      <td>0</td>\n",
       "      <td>0</td>\n",
       "      <td>1</td>\n",
       "      <td>0.0</td>\n",
       "      <td>0.0</td>\n",
       "      <td>289.7899</td>\n",
       "      <td>0.703599</td>\n",
       "    </tr>\n",
       "    <tr>\n",
       "      <th>...</th>\n",
       "      <td>...</td>\n",
       "      <td>...</td>\n",
       "      <td>...</td>\n",
       "      <td>...</td>\n",
       "      <td>...</td>\n",
       "      <td>...</td>\n",
       "      <td>...</td>\n",
       "      <td>...</td>\n",
       "      <td>...</td>\n",
       "      <td>...</td>\n",
       "      <td>...</td>\n",
       "    </tr>\n",
       "    <tr>\n",
       "      <th>PSID420</th>\n",
       "      <td>0</td>\n",
       "      <td>39</td>\n",
       "      <td>2</td>\n",
       "      <td>1</td>\n",
       "      <td>0</td>\n",
       "      <td>1</td>\n",
       "      <td>1</td>\n",
       "      <td>0.0</td>\n",
       "      <td>0.0</td>\n",
       "      <td>964.9555</td>\n",
       "      <td>0.645551</td>\n",
       "    </tr>\n",
       "    <tr>\n",
       "      <th>PSID421</th>\n",
       "      <td>0</td>\n",
       "      <td>55</td>\n",
       "      <td>8</td>\n",
       "      <td>0</td>\n",
       "      <td>0</td>\n",
       "      <td>1</td>\n",
       "      <td>1</td>\n",
       "      <td>0.0</td>\n",
       "      <td>0.0</td>\n",
       "      <td>0.0000</td>\n",
       "      <td>0.068998</td>\n",
       "    </tr>\n",
       "    <tr>\n",
       "      <th>PSID422</th>\n",
       "      <td>0</td>\n",
       "      <td>16</td>\n",
       "      <td>9</td>\n",
       "      <td>0</td>\n",
       "      <td>0</td>\n",
       "      <td>0</td>\n",
       "      <td>1</td>\n",
       "      <td>0.0</td>\n",
       "      <td>0.0</td>\n",
       "      <td>5551.8190</td>\n",
       "      <td>0.161660</td>\n",
       "    </tr>\n",
       "    <tr>\n",
       "      <th>PSID423</th>\n",
       "      <td>0</td>\n",
       "      <td>27</td>\n",
       "      <td>10</td>\n",
       "      <td>1</td>\n",
       "      <td>0</td>\n",
       "      <td>0</td>\n",
       "      <td>1</td>\n",
       "      <td>0.0</td>\n",
       "      <td>0.0</td>\n",
       "      <td>7543.7940</td>\n",
       "      <td>0.675110</td>\n",
       "    </tr>\n",
       "    <tr>\n",
       "      <th>PSID424</th>\n",
       "      <td>0</td>\n",
       "      <td>25</td>\n",
       "      <td>14</td>\n",
       "      <td>0</td>\n",
       "      <td>0</td>\n",
       "      <td>0</td>\n",
       "      <td>0</td>\n",
       "      <td>0.0</td>\n",
       "      <td>0.0</td>\n",
       "      <td>0.0000</td>\n",
       "      <td>0.157062</td>\n",
       "    </tr>\n",
       "  </tbody>\n",
       "</table>\n",
       "<p>609 rows × 11 columns</p>\n",
       "</div>"
      ],
      "text/plain": [
       "         treat  age  educ  black  hispan  married  nodegree  re74  re75  \\\n",
       "id                                                                        \n",
       "NSW1         1   37    11      1       0        1         1   0.0   0.0   \n",
       "NSW2         1   22     9      0       1        0         1   0.0   0.0   \n",
       "NSW3         1   30    12      1       0        0         0   0.0   0.0   \n",
       "NSW4         1   27    11      1       0        0         1   0.0   0.0   \n",
       "NSW5         1   33     8      1       0        0         1   0.0   0.0   \n",
       "...        ...  ...   ...    ...     ...      ...       ...   ...   ...   \n",
       "PSID420      0   39     2      1       0        1         1   0.0   0.0   \n",
       "PSID421      0   55     8      0       0        1         1   0.0   0.0   \n",
       "PSID422      0   16     9      0       0        0         1   0.0   0.0   \n",
       "PSID423      0   27    10      1       0        0         1   0.0   0.0   \n",
       "PSID424      0   25    14      0       0        0         0   0.0   0.0   \n",
       "\n",
       "               re78       psm  \n",
       "id                             \n",
       "NSW1      9930.0460  0.430820  \n",
       "NSW2      3595.8940  0.137950  \n",
       "NSW3     24909.4500  0.739518  \n",
       "NSW4      7506.1460  0.653304  \n",
       "NSW5       289.7899  0.703599  \n",
       "...             ...       ...  \n",
       "PSID420    964.9555  0.645551  \n",
       "PSID421      0.0000  0.068998  \n",
       "PSID422   5551.8190  0.161660  \n",
       "PSID423   7543.7940  0.675110  \n",
       "PSID424      0.0000  0.157062  \n",
       "\n",
       "[609 rows x 11 columns]"
      ]
     },
     "execution_count": 190,
     "metadata": {},
     "output_type": "execute_result"
    }
   ],
   "source": [
    "# Run the following code to see the result\n",
    "lalonde.head(-5)"
   ]
  },
  {
   "cell_type": "code",
   "execution_count": 198,
   "metadata": {},
   "outputs": [],
   "source": [
    "#<-- Write Your Code -->\n",
    "\n",
    "# For each tuple in the control group, find the matching tuple in the treatment group, and then compute\n",
    "# the ATE over the population\n",
    "# Please match tuples with the metric |psm1 - psm2| to be minimum, threhold set to 0.01\n",
    "# Output: the value of ATE, the count of tuples that can be matched, as well as the percentage\n",
    "\n",
    "def psm_match(df, x):\n",
    "    # Drop the treatment column and the target column from x\n",
    "    x_modified = x.drop(labels=['treat', 're78'])\n",
    "    \n",
    "    # Drop the treatment column and the target column\n",
    "    temp_df = df.drop(columns=['treat', 're78'])\n",
    "\n",
    "    possible_matches = []\n",
    "\n",
    "    # Find the first row of treatment_df that matches x. x is a row of the lalonde dataset\n",
    "    for i in range(len(temp_df)):\n",
    "        if abs(temp_df.iloc[i]['psm'] - x_modified['psm']) < 0.01:\n",
    "            # add the matche to all possible matches\n",
    "            possible_matches.append((i, abs(temp_df.iloc[i]['psm'] - x_modified['psm'])))\n",
    "    \n",
    "    if len(possible_matches) == 0:\n",
    "        return -1\n",
    "    else:\n",
    "        # sort possible_matches by the second element of the tuple\n",
    "        possible_matches = sorted(possible_matches, key=lambda x: x[1])\n",
    "        # return the the re78 col of the first match\n",
    "        return df.iloc[possible_matches[0][0]]['re78']\n"
   ]
  },
  {
   "cell_type": "code",
   "execution_count": 199,
   "metadata": {},
   "outputs": [],
   "source": [
    "control_df = lalonde[lalonde['treat'] == 0]\n",
    "treatment_df = lalonde[lalonde['treat'] == 1]\n",
    "\n",
    "# Create control_df with counterfactual re78\n",
    "control_df['psm match counterfactual re78'] = control_df.apply(lambda x: psm_match(treatment_df, x), axis=1)"
   ]
  },
  {
   "cell_type": "code",
   "execution_count": 200,
   "metadata": {},
   "outputs": [],
   "source": [
    "# compute the count of control_df['psm match counterfactual re78'] that are not -1\n",
    "count = control_df[control_df['psm match counterfactual re78'] != -1].shape[0]\n",
    "\n",
    "# Compute the percentage of control_df['psm match counterfactual re78'] that are not -1\n",
    "percentage = count / control_df.shape[0]\n",
    "\n",
    "# Compute the ATE\n",
    "psm_matches = control_df[control_df['psm match counterfactual re78'] != -1]\n",
    "psm_matches['diff'] = psm_matches['psm match counterfactual re78'] - psm_matches['re78']\n",
    "ATE = psm_matches['diff'].mean()"
   ]
  },
  {
   "cell_type": "code",
   "execution_count": 201,
   "metadata": {},
   "outputs": [
    {
     "name": "stdout",
     "output_type": "stream",
     "text": [
      "ATE by propensity score matching is 315.8279335597826\n",
      "Count of tuples which can be computed by propensity score matching is 368\n",
      "Percentage of such tuples among all PSID tuples is 0.8578088578088578\n"
     ]
    }
   ],
   "source": [
    "# Run the following code to print out the result\n",
    "print(\"ATE by propensity score matching is \" + str(ATE))\n",
    "print(\"Count of tuples which can be computed by propensity score matching is \" + str(count))\n",
    "print(\"Percentage of such tuples among all PSID tuples is \" + str(percentage))"
   ]
  },
  {
   "cell_type": "markdown",
   "metadata": {},
   "source": [
    "### 2.4 Linear Regression\n",
    "Train two individual models to fit P(y|t = 1,X) and P(y|t = 0,X), then infer the counterfactual outcome using two models while setting treatment to the opposite value. Infer the ATE over the population."
   ]
  },
  {
   "cell_type": "code",
   "execution_count": null,
   "metadata": {},
   "outputs": [],
   "source": [
    "#<-- Write Your Code -->\n",
    "\n",
    "# Train two individual linear regression models and infer the counterfactual result for each tuple\n",
    "# Output: the value of ATE, over the population\n",
    "\n"
   ]
  },
  {
   "cell_type": "code",
   "execution_count": null,
   "metadata": {},
   "outputs": [],
   "source": [
    "# Run following code to print out the result\n",
    "print(\"ATE by linear regression is \" + str(ATE))"
   ]
  },
  {
   "cell_type": "markdown",
   "metadata": {},
   "source": [
    "Please briefly discuss the advantages and disadvantages of the above four approaches."
   ]
  },
  {
   "cell_type": "markdown",
   "metadata": {},
   "source": [
    "**A.** [ADD YOUR ANSWER]"
   ]
  },
  {
   "cell_type": "markdown",
   "metadata": {},
   "source": [
    "## Task 3. DoWhy\n",
    "In this task, you are required to apply DoWhy and analyze the dataset using two ATE estimation methods."
   ]
  },
  {
   "cell_type": "code",
   "execution_count": null,
   "metadata": {},
   "outputs": [],
   "source": [
    "from dowhy import CausalModel\n",
    "lalonde['treat'] = lalonde['treat'].astype(bool)\n",
    "model = CausalModel(\n",
    "        data = lalonde,\n",
    "        treatment='treat',\n",
    "        outcome='re78',\n",
    "        common_causes='nodegree+black+hisp+age+educ+married'.split('+'))\n"
   ]
  },
  {
   "cell_type": "code",
   "execution_count": null,
   "metadata": {},
   "outputs": [],
   "source": [
    "#<-- Write Your Code -->\n",
    "\n",
    "# Use the linear regression and PSM methods provided by DoWhy to estimate ATE \n",
    "# Output: ATE_linear, ATE_psm\n",
    "\n"
   ]
  },
  {
   "cell_type": "code",
   "execution_count": null,
   "metadata": {},
   "outputs": [],
   "source": [
    "# Run following code to print out the result\n",
    "print(\"ATE by linear regression is \" + str(ATE_linear))\n",
    "print(\"ATE by psm is \" + str(ATE_psm))"
   ]
  },
  {
   "cell_type": "markdown",
   "metadata": {},
   "source": [
    "Briefly explain why the result by DoWhy is not same as the result by your own implementation."
   ]
  },
  {
   "cell_type": "markdown",
   "metadata": {},
   "source": [
    "**A.** [ADD YOUR ANSWER]"
   ]
  },
  {
   "cell_type": "markdown",
   "metadata": {},
   "source": [
    "## Submission"
   ]
  },
  {
   "cell_type": "markdown",
   "metadata": {},
   "source": [
    "Complete the code in this notebook, and submit it to the CourSys activity Assignment 9."
   ]
  }
 ],
 "metadata": {
  "kernelspec": {
   "display_name": "Python 3 (ipykernel)",
   "language": "python",
   "name": "python3"
  },
  "language_info": {
   "codemirror_mode": {
    "name": "ipython",
    "version": 3
   },
   "file_extension": ".py",
   "mimetype": "text/x-python",
   "name": "python",
   "nbconvert_exporter": "python",
   "pygments_lexer": "ipython3",
   "version": "3.11.8"
  }
 },
 "nbformat": 4,
 "nbformat_minor": 4
}

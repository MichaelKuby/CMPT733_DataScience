{
 "cells": [
  {
   "cell_type": "markdown",
   "metadata": {},
   "source": [
    "# Assignment 9: Hypothesis Testing (Part 1)"
   ]
  },
  {
   "cell_type": "markdown",
   "metadata": {},
   "source": [
    "## Objective"
   ]
  },
  {
   "cell_type": "markdown",
   "metadata": {},
   "source": [
    "In many situations, we cannot get the full population but only a sample. If we derive an interesting result from a sample, how likely can we derive the same result from the entire population? In other words, we want to know whether this result is a true finding or it just happens in the sample by chance. Hypothesis testing aims to answer this fundamental question. \n",
    "\n",
    "\n",
    "**Hypothesis Testing**\n",
    "1. Why A/B testing?  \n",
    "2. What is a permutation test? How to implement it?\n",
    "3. What is p-value? How to avoid p-hacking? \n",
    "4. What is a chi-squared test? How to implement it?\n"
   ]
  },
  {
   "cell_type": "markdown",
   "metadata": {},
   "source": [
    "## Task 1. A/B Testing\n",
    "> Acknowledgment: Thank [Greg Baker](http://www.cs.sfu.ca/~ggbaker/) for helping me to prepare this task.\n",
    "\n",
    "A very common technique to evaluate changes in a user interface is A/B testing: show some users interface A, some interface B, and then look to see if one performs better than the other.\n",
    "\n",
    "Suppose I started an A/B test on CourSys. Here are the two interfaces that I want to compare with. I want to know whether a good placeholder in the search box can attract more users to use the `search` feature.\n",
    "\n",
    "\n",
    "![](img/ab-testing.png)"
   ]
  },
  {
   "cell_type": "markdown",
   "metadata": {},
   "source": [
    "## Is the number of searches per user different?\n",
    "\n",
    "The provided [searchlog.json](searchlog.json) has information about users' usage."
   ]
  },
  {
   "cell_type": "markdown",
   "metadata": {},
   "source": [
    "To answer this question, we need to first pick up a **test statistic** to quantify how good an interface is. Here, we choose \"the search_count mean\". \n",
    "\n",
    "Please write the code to compute **the difference of the search_count means between interface A and Interface B.** "
   ]
  },
  {
   "cell_type": "code",
   "execution_count": 6,
   "metadata": {},
   "outputs": [
    {
     "data": {
      "text/plain": [
       "-0.13500569535052287"
      ]
     },
     "execution_count": 6,
     "metadata": {},
     "output_type": "execute_result"
    }
   ],
   "source": [
    "#<-- Write Your Code -->\n",
    "import pandas as pd\n",
    "\n",
    "# import searchlog.json file\n",
    "df = pd.read_json('searchlog.json', lines=True)\n",
    "\n",
    "# Group by search_ui == A and compute the mean over search_count\n",
    "df_A = df[df['search_ui'] == 'A']\n",
    "mean_A = df_A['search_count'].mean()\n",
    "\n",
    "# Group by search_ui == B and compute the mean over search_count\n",
    "df_B = df[df['search_ui'] == 'B']\n",
    "mean_B = df_B['search_count'].mean()\n",
    "\n",
    "# Compute the difference\n",
    "difference = mean_A - mean_B\n",
    "\n",
    "difference \n",
    "# -0.1350 which tells us that mean_B is greater than mean_A.\n",
    "#  How can we tell if this is statistically significant?"
   ]
  },
  {
   "cell_type": "markdown",
   "metadata": {},
   "source": [
    "Suppose we find that the mean value increased by 0.135. Then, we wonder whether this result is just caused by random variation. \n",
    "\n",
    "We define the Null Hypothesis as\n",
    " * The difference in search_count mean between Interface A and Interface B is caused by random variation. \n",
    " \n",
    "Our next job is to check whether or not we can reject the null hypothesis. If we can, we adopt the alternative explanation:\n",
    " * The difference in the search_count means of Interface A and Interface B are caused by design differences between the two.\n",
    "\n",
    "To check, we compute the p-value of the observed result. If p-value is below a pre-set threshold (e.g., <0.01), we can reject the null hypothesis, thereby adopting the alternative explanation.  \n",
    "\n",
    "Please implement a permutation test (numSamples = 10000) to compute the p-value. Note that you are NOT allowed to use an implementation in an existing library. You have to implement it by yourself.\n",
    "\n",
    "Here is a great video of how to implement the permutation test: https://www.youtube.com/watch?v=Iq9DzN6mvYA&t=489s"
   ]
  },
  {
   "cell_type": "code",
   "execution_count": 9,
   "metadata": {},
   "outputs": [
    {
     "data": {
      "text/plain": [
       "0.8718"
      ]
     },
     "execution_count": 9,
     "metadata": {},
     "output_type": "execute_result"
    }
   ],
   "source": [
    "#<-- Write Your Code -->\n",
    "\n",
    "# import ttest_ind from scipy.stats\n",
    "import numpy as np\n",
    "\n",
    "num_samples = 10000\n",
    "ttest_results = []\n",
    "differences = []\n",
    "\n",
    "for _ in range(num_samples):\n",
    "    df_copy = df.copy()\n",
    "    # permute the search_ui column\n",
    "    df_copy['search_ui'] = np.random.permutation(df['search_ui'])\n",
    "    \n",
    "    df_A_copy = df_copy[df_copy['search_ui'] == 'A']\n",
    "    df_B_copy = df_copy[df_copy['search_ui'] == 'B']\n",
    "\n",
    "    # compute the difference and store the values\n",
    "    mean_A = df_A_copy['search_count'].mean()\n",
    "    mean_B = df_B_copy['search_count'].mean()\n",
    "    differences.append(mean_A - mean_B)\n",
    "\n",
    "# From differences, we can compute the p-value by counting the number of times \n",
    "# the difference is greater than the observed difference\n",
    "\n",
    "# From differences, find the number of times the difference is greater than the observed difference\n",
    "p_value = np.sum(np.array(differences) > difference) / num_samples\n",
    "p_value"
   ]
  },
  {
   "cell_type": "code",
   "execution_count": 10,
   "metadata": {},
   "outputs": [
    {
     "data": {
      "image/png": "[encoded data removed]",
      "text/plain": [
       "<Figure size 640x480 with 1 Axes>"
      ]
     },
     "metadata": {},
     "output_type": "display_data"
    }
   ],
   "source": [
    "# Graph a histogram of the differences\n",
    "import matplotlib.pyplot as plt\n",
    "\n",
    "plt.hist(differences, bins=30)\n",
    "plt.xlabel('Difference in Search Count')\n",
    "plt.ylabel('Frequency')\n",
    "plt.title('Histogram of Differences in Search Count')\n",
    "plt.axvline(x=difference, color='r', linestyle='dashed', linewidth=1)\n",
    "plt.show()"
   ]
  },
  {
   "cell_type": "markdown",
   "metadata": {},
   "source": [
    "Suppose we want to use the same dataset to do another A/B testing. We suspect that instructors are the ones who can get more useful information from the search feature, so perhaps non-instructors didn't touch the search feature because it was genuinely not relevant to them.\n",
    "\n",
    "So we decide to repeat the above analysis looking only at instructors."
   ]
  },
  {
   "cell_type": "markdown",
   "metadata": {},
   "source": [
    "**Q. If using the same dataset to do this analysis, do you feel like we're p-hacking? If so, what can we do with it?**"
   ]
  },
  {
   "cell_type": "markdown",
   "metadata": {},
   "source": [
    "**A.** Yes, I would argue that this is a form of p-hacking; however, it's an insightful observation and it is reasonable to think that we should follow this line of inquiry.\n",
    "\n",
    "To deal with the issue of p-hacking, we could run the analysis on the original data to see if we find statistical significance. If we find the result to be significant, we should **aquire more data** and see if the result still holds **on the same level of significance**. If it does, then we can be confident in our results."
   ]
  },
  {
   "cell_type": "markdown",
   "metadata": {},
   "source": [
    "## Task 2. Chi-squared Test "
   ]
  },
  {
   "cell_type": "markdown",
   "metadata": {},
   "source": [
    "There are tens of different hypothesis testing methods. It's impossible to cover all of them in one week. Given that this is an important topic in statistics, I highly recommend using your free time to learn some other popular ones such as <a href=\"https://en.wikipedia.org/wiki/Chi-squared_test\">Chi-squared test</a>, <a href=\"https://en.wikipedia.org/wiki/G-test\">G-test</a>, <a href=\"https://en.wikipedia.org/wiki/Student%27s_t-test\">T-test</a>, and <a href=\"https://en.wikipedia.org/wiki/Mann%E2%80%93Whitney_U_test\">Mann–Whitney U test</a>.\n",
    "\n",
    "On the searchlog dataset, there are two categorical columns: `is_instructor` and `search_ui`. In Task D, your job is to first learn how a Chi-Squared test works by yourself and then use it to test whether `is_instructor` and `search_ui` are correlated."
   ]
  },
  {
   "cell_type": "markdown",
   "metadata": {},
   "source": [
    "Please write code to compute the Chi-squared stat. Note that you are **not** allowed to call an existing function (e.g., stats.chi2, chi2_contingency). "
   ]
  },
  {
   "cell_type": "code",
   "execution_count": 20,
   "metadata": {},
   "outputs": [
    {
     "name": "stdout",
     "output_type": "stream",
     "text": [
      "The chi-squared statistic is 0.6731740891275046\n",
      "The degrees of freedom is 1\n",
      "With 1 degree of freedom and a significance level of 0.05, the critical value is 3.841. \n",
      "Since the chi-squared statistic (0.6731740891275046) is less than the critical value of 3.841, we fail to reject the null hypothesis. \n",
      "This means that the variables are independent (do not influence one another).\n"
     ]
    }
   ],
   "source": [
    "#<-- Write Your Code -->\n",
    "\n",
    "# Compute the count of is_instructor == True for search_ui == A and search_ui == B\n",
    "df_A = df[df['search_ui'] == 'A']\n",
    "df_B = df[df['search_ui'] == 'B']\n",
    "\n",
    "count_A_is_instructor = df_A[df_A['is_instructor'] == True].shape[0]\n",
    "count_B_is_instructor = df_B[df_B['is_instructor'] == True].shape[0]\n",
    "\n",
    "# Compute the count of is_instructor == False for search_ui == A and search_ui == B\n",
    "count_A_not_instructor = df_A[df_A['is_instructor'] == False].shape[0]\n",
    "count_B_not_instructor = df_B[df_B['is_instructor'] == False].shape[0]\n",
    "\n",
    "# Compute the expected values for count_A_is_instructor and count_B_is_instructor\n",
    "expected_A_is_instructor = df_A.shape[0] * (count_A_is_instructor + count_B_is_instructor) / df.shape[0]\n",
    "expected_B_is_instructor = df_B.shape[0] * (count_A_is_instructor + count_B_is_instructor) / df.shape[0]\n",
    "\n",
    "# Compute the expected values for count_A_not_instructor and count_B_not_instructor\n",
    "expected_A_not_instructor = df_A.shape[0] * (count_A_not_instructor + count_B_not_instructor) / df.shape[0]\n",
    "expected_B_not_instructor = df_B.shape[0] * (count_A_not_instructor + count_B_not_instructor) / df.shape[0]\n",
    "\n",
    "# Compute the chi-squared statistic\n",
    "chi_squared =   (count_A_is_instructor - expected_A_is_instructor)**2 / expected_A_is_instructor + \\\n",
    "                (count_B_is_instructor - expected_B_is_instructor)**2 / expected_B_is_instructor + \\\n",
    "                (count_A_not_instructor - expected_A_not_instructor)**2 / expected_A_not_instructor + \\\n",
    "                (count_B_not_instructor - expected_B_not_instructor)**2 / expected_B_not_instructor\n",
    "\n",
    "# print the chi-squared statistic\n",
    "print(f'The chi-squared statistic is {chi_squared}')\n",
    "\n",
    "# Obtain the degrees of freedom\n",
    "degrees_of_freedom = (2 - 1) * (2 - 1)\n",
    "\n",
    "# print the degrees of freedom\n",
    "print(f'The degrees of freedom is {degrees_of_freedom}')\n",
    "\n",
    "print(f'With 1 degree of freedom and a significance level of 0.05, the critical value is 3.841. \\nSince the chi-squared statistic ({chi_squared}) is less than the critical value of 3.841, we fail to reject the null hypothesis. \\nThis means that the variables are independent (do not influence one another).')\n"
   ]
  },
  {
   "cell_type": "markdown",
   "metadata": {},
   "source": [
    "Please explain how to use Chi-squared test to determine whether `is_instructor` and `search_ui` are correlated. "
   ]
  },
  {
   "cell_type": "markdown",
   "metadata": {},
   "source": [
    "**A.**\n",
    "\n",
    "A chi-squared test is a hypothesis test that is used when you want to determine whether there is a correlation between two categorical variables or not. Example: Gender and Preferred Newspaper, or Gender and Education Level.\n",
    "\n",
    "Task: Determine whether is_instructor and search_ui are correlated.\n",
    "\n",
    "Step 1: We need to create a contingency table, which puts the categories of one feature as the index and the categories of the other feature as the columns. The ij's then are the counts of their intersections.\n",
    "\n",
    "Step 2: We need to compute the expected values for each of the cells.\n",
    "1. We need to identify the marginal totals and overall total. \n",
    "2. The expected frequency for a cell located in the i-th row and j-th column, denoted as Eij is calculated using Eij = (Ri X Cj) / T\n",
    "3. We can then compute the chi squared value itself which is given by summing over all squares the values (Oij - Eij) ** 2 / Eij. This is the square of the observed value minus the expected value, divided by the expected value.\n",
    "4. We then need to compute the degrees of freedom, which is given by the formula df = (#rows -1) (#cols -1)\n",
    "5. We then need to look up the critical value for the chosen p-value and degrees of freedom, and compare to the chi-square value that we obtained. If the chi-square value > critical value, then we can reject the null and conclude that the alternative hypothesis must be true (that the two variables have a relationship). If the chi-square value < critical value, we fail to reject the null hypothesis."
   ]
  },
  {
   "cell_type": "markdown",
   "metadata": {},
   "source": [
    "## Submission"
   ]
  },
  {
   "cell_type": "markdown",
   "metadata": {},
   "source": [
    "Complete the code in this notebook, and submit it to the CourSys activity Assignment 9."
   ]
  }
 ],
 "metadata": {
  "kernelspec": {
   "display_name": "Python 3 (ipykernel)",
   "language": "python",
   "name": "python3"
  },
  "language_info": {
   "codemirror_mode": {
    "name": "ipython",
    "version": 3
   },
   "file_extension": ".py",
   "mimetype": "text/x-python",
   "name": "python",
   "nbconvert_exporter": "python",
   "pygments_lexer": "ipython3",
   "version": "3.12.2"
  }
 },
 "nbformat": 4,
 "nbformat_minor": 2
}
